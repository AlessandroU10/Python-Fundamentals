{
 "cells": [
  {
   "cell_type": "markdown",
   "metadata": {
    "formattedRanges": [],
    "cell_id": "2120effa945b4ac9ab15b98d709cfdf2",
    "deepnote_cell_type": "text-cell-p"
   },
   "source": [],
   "block_group": "2120effa945b4ac9ab15b98d709cfdf2"
  },
  {
   "cell_type": "markdown",
   "metadata": {
    "cell_id": "d4f994c6440048fb87a51f184989abd2",
    "deepnote_cell_type": "markdown"
   },
   "source": [
    "# Practicas"
   ],
   "block_group": "d4f994c6440048fb87a51f184989abd2"
  },
  {
   "cell_type": "markdown",
   "metadata": {
    "cell_id": "c6a440bf6ad145eea184eb7e3489d036",
    "deepnote_cell_type": "markdown"
   },
   "source": [
    "## Practica 1\n",
    "1. Cree las variables\n",
    "- `my_age` - su edad\n",
    "- `half_my_age` - la mitad de su edad  (para calcularlo debe utilizar la variable anterior)\n",
    "- `greeting` - un saludo\n",
    "- `name` - su nombre\n",
    "- `greeting_with_name` - el saludo mas su nombre\n",
    "\n",
    "2. Asigne los valores a estas variables usando su conocimiento de concatenation (pegar strings) y operaciones!\n",
    "3. Imprima todas las variables de arriba en un texto elegante y con sentido. Por ejemplo:\n",
    "```\n",
    "Mi nombre es ...\n",
    "Tengo ... años\n",
    "La mitad de mi edad es ...\n",
    "(greeting + name)\n",
    "```"
   ],
   "block_group": "c6a440bf6ad145eea184eb7e3489d036"
  },
  {
   "cell_type": "code",
   "metadata": {
    "source_hash": null,
    "execution_start": 1692994684599,
    "execution_millis": 11,
    "deepnote_to_be_reexecuted": false,
    "cell_id": "b93e37db5fad427598e53af4964eac21",
    "deepnote_cell_type": "code",
    "ExecuteTime": {
     "end_time": "2023-09-29T14:56:17.551514400Z",
     "start_time": "2023-09-29T14:56:17.265569500Z"
    }
   },
   "source": [
    "# Code Here\n",
    "my_age = 20\n",
    "hal_my_age = int(my_age / 2)\n",
    "greeting = 'te envio un abrazo'\n",
    "name = 'Alesandro'\n",
    "greeting_with_name = greeting + ' Peji'\n",
    "\n",
    "print('Mi nombre es ' + name)\n",
    "print('Tengo ' + str(my_age) + ' años')\n",
    "print('La mitad de mi edad es ' + str(hal_my_age))\n",
    "print(greeting_with_name)\n"
   ],
   "block_group": "b93e37db5fad427598e53af4964eac21",
   "execution_count": 84,
   "outputs": [
    {
     "name": "stdout",
     "output_type": "stream",
     "text": [
      "Mi nombre es Alesandro\n",
      "Tengo 20 años\n",
      "La mitad de mi edad es 10\n",
      "te envio un abrazo Peji\n"
     ]
    }
   ]
  },
  {
   "cell_type": "markdown",
   "metadata": {
    "cell_id": "533aaed2cbb64a6e8b78c279eec09001",
    "deepnote_cell_type": "markdown"
   },
   "source": [
    "## Practica 2\n",
    "__Block Letters__\n",
    "\n",
    "[ASCII ART](https://en.wikipedia.org/wiki/ASCII_art) es una técnica de diseño gráfico que utiliza computadoras para la presentación y consiste en imágenes ensambladas a partir de caracteres individuales.\n",
    "\n",
    "- Escriba un programa de Python llamado que muestre las iniciales de su nombre en letras mayúsculas como se muestra abajo!. Sumerjase de los dedos y de los pies en el arte ASCII.\n",
    "\n"
   ],
   "block_group": "533aaed2cbb64a6e8b78c279eec09001"
  },
  {
   "cell_type": "markdown",
   "metadata": {
    "deepnote_img_src": "image-20230105-194517.png",
    "cell_id": "c28b85d643b948a095759e638ff718d2",
    "deepnote_cell_type": "image"
   },
   "source": [
    "<img src=\"image-20230105-194517.png\" width=\"\" align=\"\" />"
   ],
   "block_group": "e777b5ff1e8644d18d1268d51c96ba4b"
  },
  {
   "cell_type": "markdown",
   "metadata": {
    "cell_id": "7f2428e328fe4c8c806e2d7d0099c0ec",
    "deepnote_cell_type": "markdown"
   },
   "source": [
    "Ejemplo:\n",
    "```\n",
    "JJJJJ JJJJJ\n",
    "  J     J\n",
    "  J     J\n",
    "  J     J\n",
    "  J     J\n",
    "J J   J J\n",
    " J     J\n",
    "```"
   ],
   "block_group": "7f2428e328fe4c8c806e2d7d0099c0ec"
  },
  {
   "cell_type": "code",
   "metadata": {
    "source_hash": null,
    "execution_start": 1692994739399,
    "execution_millis": 7,
    "deepnote_to_be_reexecuted": false,
    "cell_id": "a2231646c755471fb0cf9f5b47bf5395",
    "deepnote_cell_type": "code",
    "ExecuteTime": {
     "end_time": "2023-09-29T14:56:17.571427800Z",
     "start_time": "2023-09-29T14:56:17.281883300Z"
    }
   },
   "source": [
    "# Practica 2 \n",
    "'''\n",
    "     A\n",
    "   A   A \n",
    " A       A\n",
    " A A A A  A\n",
    " A        A\n",
    " A        A \n",
    " A        A\n",
    "'''"
   ],
   "block_group": "a2231646c755471fb0cf9f5b47bf5395",
   "execution_count": 85,
   "outputs": [
    {
     "data": {
      "text/plain": "'\\n     A\\n   A   A \\n A       A\\n A A A A  A\\n A        A\\n A        A \\n A        A\\n'"
     },
     "execution_count": 85,
     "metadata": {},
     "output_type": "execute_result"
    }
   ]
  },
  {
   "cell_type": "markdown",
   "metadata": {
    "cell_id": "50ebf33c96ca4460a89dbc3b3476f803",
    "deepnote_cell_type": "markdown"
   },
   "source": [
    "## Challenge!\n",
    "Aparte de sus iniciales se sugiere ponerse creativo! Puede hacer cualquier arte que desee! Por ejemplo, un arbol, un muneco, un cara feliz, etc\n"
   ],
   "block_group": "50ebf33c96ca4460a89dbc3b3476f803"
  },
  {
   "cell_type": "markdown",
   "metadata": {
    "cell_id": "8bccdc99a3f844088a00017a87668ea1",
    "deepnote_cell_type": "markdown"
   },
   "source": [
    "## Practica 3\n",
    "__Recibos de restaurante__\n",
    "\n",
    "Decidimos perseguir el sueño de ser propietarios de una pequeña empresa y abrir un restaurante. Con nuestro nuevo conocimiento de programación de Python, vamos a crear un sistema para ayudar a acelerar el proceso de creación de recibos para los clientes.\n",
    "\n",
    "En esta practica, almacenaremos los nombres y precios del menu en variables. Luego, se calculara el precio total y la lista de platos de los clientes, imprimiéndolos en el terminal de salida.\n",
    "\n",
    "1. Defina las siguientes variables:\n",
    "- `hamburguesa_desciption`   (str) - Una descripcion corta del producto\n",
    "- `hamburguesa_price`           (float) - Precio del producto - 35.30\n",
    "- `alitas_description`           (str)\n",
    "- `alitas_price`                       (float) - 30.00\n",
    "- `papas_fritas_description`    (str)\n",
    "- `papas_fritas_price`             (float) - 15.50\n",
    "- `sales_tax`                (float) - Precio de impuestos por pedido - 0.088\n",
    "\n",
    "2. Tenemos nuestro primer cliente! En este recibo debemos registrar el pedido del cliente, es decir la descripcion de cada plato, y el precio total que pagara el cliente. Para ello defina:\n",
    "- `customer_one_total` - se debera guardar el total de la compra utilizando las variables creadas anteriormente \n",
    "- `customer_one_itemization` - se debera juntar todas las descripciones del pedido utilizando las variables creadas anteriormente y el operador `+`\n",
    "- `customer_one_tax` - se utiliza para calcular el impuesto a cancelar por la compra realizada. NO se olvide que este impuesto debe adicionarse al costo total!\n",
    "\n",
    "3. Pedido del primer cliente:\n",
    "- Una hamburguesa\n",
    "- Media papa frita\n",
    "- Una porcion de alitas\n",
    "\n",
    "4. Imprima El pedido de nuestro primer cliente y el monto total a ser cancelado. Por ejemplo:\n",
    "```\n",
    "Pedido del cliente uno:\n",
    "Deliciosa Hamburguesa. Elaborada a partir de carne molida seleccionada, y mezclada con otros ingredientes, como condimentos y aditivos alimentarios, contiene salsa de la casa. Papas Fritas con Ajo. Deliciosas papas fritas realizadas con una receta antigua banadas en ajo y acompanadas con queso derretido.\n",
    "\n",
    "Cliente Uno Total:\n",
    "68.2312\n",
    "```"
   ],
   "block_group": "8bccdc99a3f844088a00017a87668ea1"
  },
  {
   "cell_type": "code",
   "metadata": {
    "source_hash": null,
    "execution_start": 1692994760687,
    "execution_millis": 7,
    "deepnote_to_be_reexecuted": false,
    "cell_id": "a39dd0f6db2b4156a563e1e689cd3ed1",
    "deepnote_cell_type": "code",
    "ExecuteTime": {
     "end_time": "2023-09-29T14:56:17.704148700Z",
     "start_time": "2023-09-29T14:56:17.296197700Z"
    }
   },
   "source": [
    "# Practica 3\n",
    "hamburguesa_description = str('Deliciosa Hamburguesa. Elaborada a partir de carne molida seleccionada, y mezclada con otros ingredientes, como condimentos y aditivos alimentarios, contiene salsa de la casa.')\n",
    "hamburguesa_price = float(35.30)\n",
    "alitas_description = str('Deliciosa alitas. Elaborada a partir de pollo seleccionado, y mezclado con otros ingredientes, como condimentos y aditivos alimentarios, contiene salsa de la casa.')\n",
    "alitas_price = float(30.00)\n",
    "papas_fritas_description = str('Papas Fritas con Ajo. Deliciosas papas fritas realizadas con una receta antigua banadas en ajo y acompañadas con queso derretido.')\n",
    "papas_fritas_price = float(15.50) \n",
    "sales_tax = float( 0.088)\n",
    "\n",
    "\n",
    "def calculate_total():\n",
    "    return hamburguesa_price + (papas_fritas_price / 2) + alitas_price\n",
    "def generate_itemization():\n",
    "    return hamburguesa_description  + papas_fritas_description + alitas_description\n",
    "def calculate_tax():\n",
    "    return calculate_total() * sales_tax  \n",
    "\n",
    "total_cost = calculate_tax() + calculate_total()\n",
    "\n",
    "print('Pedido del cliente uno: ')\n",
    "print(generate_itemization())\n",
    "print('')\n",
    "print('Cliente uno total:')\n",
    "print(total_cost)\n"
   ],
   "block_group": "a39dd0f6db2b4156a563e1e689cd3ed1",
   "execution_count": 86,
   "outputs": [
    {
     "name": "stdout",
     "output_type": "stream",
     "text": [
      "Pedido del cliente uno: \n",
      "Deliciosa Hamburguesa. Elaborada a partir de carne molida seleccionada, y mezclada con otros ingredientes, como condimentos y aditivos alimentarios, contiene salsa de la casa.Papas Fritas con Ajo. Deliciosas papas fritas realizadas con una receta antigua banadas en ajo y acompañadas con queso derretido.Deliciosa alitas. Elaborada a partir de pollo seleccionado, y mezclado con otros ingredientes, como condimentos y aditivos alimentarios, contiene salsa de la casa.\n",
      "\n",
      "Cliente uno total:\n",
      "79.4784\n"
     ]
    }
   ]
  },
  {
   "cell_type": "markdown",
   "metadata": {
    "cell_id": "f4066ee6d8ad46a1820503ad0d9b6104",
    "deepnote_cell_type": "markdown"
   },
   "source": [
    "# User Input\n",
    "\n",
    "Hasta ahora, hemos cubierto cómo asignar valores de variables directamente en Python. Sin embargo, a menudo queremos que un usuario de un programa ingrese nueva información en el programa.\n",
    "\n",
    "¿Cómo podemos hacer esto? Resulta que otra forma de asignar un valor a una variable es a través de la `entrada` del usuario.\n",
    "\n",
    "Mientras generamos el valor de una variable usando `print()`, asignamos información a una variable usando la funcion `input()`. La función de entrada `input()` requiere un mensaje rápido, que se imprimirá para el usuario antes de que ingrese la nueva información. Por ejemplo:\n",
    "```\n",
    "likes_dogs = input(\"Te gustan los perritos? \")\n",
    "```"
   ],
   "block_group": "f4066ee6d8ad46a1820503ad0d9b6104"
  },
  {
   "cell_type": "markdown",
   "metadata": {
    "cell_id": "3cf4be1140b04e6da7f3075b7fface91",
    "deepnote_cell_type": "markdown"
   },
   "source": [
    "### Practica 4\n",
    "En el ejemplo anterior, ocurriría lo siguiente:\n",
    "\n",
    "1. El programa imprimiría \"¿Te gustan los perritos?\" para el usuario.\n",
    "2. El usuario ingresaría una respuesta (por ejemplo, \"¡Sí! ¡Tengo siete perritos como mascotas!\") y presionaría enter.\n",
    "3. A la variable likes_dogs se le asignaría un valor de la respuesta del usuario.\n",
    "4. Imprima este valor usando la funcion `print()`\n",
    "\n",
    "¡Intente desarrollar este programa obteniendo `la entrada` del usuario por su cuenta!"
   ],
   "block_group": "3cf4be1140b04e6da7f3075b7fface91"
  },
  {
   "cell_type": "code",
   "metadata": {
    "source_hash": null,
    "execution_start": 1692994777179,
    "execution_millis": 7,
    "deepnote_to_be_reexecuted": false,
    "cell_id": "56a59c875b9d4647b805da8e8b47cb50",
    "deepnote_cell_type": "code",
    "ExecuteTime": {
     "end_time": "2023-09-29T14:56:19.272873700Z",
     "start_time": "2023-09-29T14:56:17.309129500Z"
    }
   },
   "source": [
    "# Practica 4\n",
    "like_dogs = input('Te gustan los perritos? ')\n",
    "print(like_dogs)"
   ],
   "block_group": "56a59c875b9d4647b805da8e8b47cb50",
   "execution_count": 87,
   "outputs": [
    {
     "name": "stdout",
     "output_type": "stream",
     "text": [
      "si\n"
     ]
    }
   ]
  },
  {
   "cell_type": "markdown",
   "metadata": {
    "cell_id": "61e5a325ea184d079c3a5d070ecd7a55",
    "deepnote_cell_type": "markdown"
   },
   "source": [
    "# El derecho a cometer errores\n",
    "Un desarrollador pasa la mayor parte de su tiempo encontrando y corrigiendo errores. Habrá muchos errores, y es importante que los pienses como ejercicios, no como problemas o dificultades. No hay problema si el código no funciona inmediatamente. Así es como debe de ser.\n",
    "No tengas miedo de escribir código. Siempre habrá errores, pero los detectarás. Y si las cosas no funcionan, nosotros podemos ayudarte."
   ],
   "block_group": "61e5a325ea184d079c3a5d070ecd7a55"
  },
  {
   "cell_type": "markdown",
   "metadata": {
    "cell_id": "c9064721daea4862978a5e1876f54440",
    "deepnote_cell_type": "markdown"
   },
   "source": [
    "# Ejercicio 1\n",
    "1. Sustituye los puntos suspensivos en el for loop, utilice la funcion `range`. en un rango de `0` a `24` horas\n",
    "2. Sustituye los puntos susensivos \"...\" de las condiciones por los operadores lógicos and u or."
   ],
   "block_group": "c9064721daea4862978a5e1876f54440"
  },
  {
   "cell_type": "code",
   "metadata": {
    "cell_id": "a0cdd4b6ae924f72b28cef0a6454c5b8",
    "deepnote_cell_type": "code",
    "ExecuteTime": {
     "end_time": "2023-09-29T14:56:19.272873700Z",
     "start_time": "2023-09-29T14:56:19.025068600Z"
    }
   },
   "source": [
    "\n",
    "for current_hour in range(0,24):\n",
    "    print('The time is ' + str(current_hour) + ':00.')\n",
    "    \n",
    "    if current_hour >= 6 and current_hour <= 11 :\n",
    "        print('Good morning!')\n",
    "    elif current_hour >= 12 and current_hour <= 17:  \n",
    "        print('Good afternoon!')\n",
    "    elif current_hour >= 18 and current_hour <= 22:                       \n",
    "        print('Good evening!')\n",
    "    elif current_hour <= 5 or current_hour >= 23:\n",
    "        print('Good night!')\n"
   ],
   "block_group": "a0cdd4b6ae924f72b28cef0a6454c5b8",
   "execution_count": 88,
   "outputs": [
    {
     "name": "stdout",
     "output_type": "stream",
     "text": [
      "The time is 0:00.\n",
      "Good night!\n",
      "The time is 1:00.\n",
      "Good night!\n",
      "The time is 2:00.\n",
      "Good night!\n",
      "The time is 3:00.\n",
      "Good night!\n",
      "The time is 4:00.\n",
      "Good night!\n",
      "The time is 5:00.\n",
      "Good night!\n",
      "The time is 6:00.\n",
      "Good morning!\n",
      "The time is 7:00.\n",
      "Good morning!\n",
      "The time is 8:00.\n",
      "Good morning!\n",
      "The time is 9:00.\n",
      "Good morning!\n",
      "The time is 10:00.\n",
      "Good morning!\n",
      "The time is 11:00.\n",
      "Good morning!\n",
      "The time is 12:00.\n",
      "Good afternoon!\n",
      "The time is 13:00.\n",
      "Good afternoon!\n",
      "The time is 14:00.\n",
      "Good afternoon!\n",
      "The time is 15:00.\n",
      "Good afternoon!\n",
      "The time is 16:00.\n",
      "Good afternoon!\n",
      "The time is 17:00.\n",
      "Good afternoon!\n",
      "The time is 18:00.\n",
      "Good evening!\n",
      "The time is 19:00.\n",
      "Good evening!\n",
      "The time is 20:00.\n",
      "Good evening!\n",
      "The time is 21:00.\n",
      "Good evening!\n",
      "The time is 22:00.\n",
      "Good evening!\n",
      "The time is 23:00.\n",
      "Good night!\n"
     ]
    }
   ]
  },
  {
   "cell_type": "markdown",
   "metadata": {
    "cell_id": "dabd6cef13834e778dee4d23b2fc51f3",
    "deepnote_cell_type": "markdown"
   },
   "source": [
    "# Ejercicio 2\n",
    "Enseñe a su programa a informarte de los nuevos mensajes si no hay más de veinte. Su programa debería mostrar veintiuna notificaciones en función del número de mensajes:\n",
    "```\n",
    "No tienes mensajes nuevos. Expira.\n",
    "Tienes 1 mensaje nuevo, compruébalo.\n",
    "Tienes de 2 a 4 mensajes nuevos, es momento de echarles un vistazo.\n",
    "Tienes entre 5 y 20 mensajes nuevos, ¿Son spam?\n",
    "```\n",
    "Aplica los operadores lógicos `or` y/o `and`, además de la ramificación múltiple con `elif` para que su programa pueda responderte siguiendo el patrón anterior. Por ejemplo: `\"Tienes 1 mensaje nuevo, compruébalo.\"`, `\"Tienes 4 mensajes nuevos, es momento de echarles un vistazo\"`, `\"Tienes 10 mensajes nuevos, ¿Son spam?\"`"
   ],
   "block_group": "dabd6cef13834e778dee4d23b2fc51f3"
  },
  {
   "cell_type": "code",
   "metadata": {
    "cell_id": "6c09e6b4fdbe4e94ba8815f3801d51c7",
    "deepnote_cell_type": "code",
    "ExecuteTime": {
     "end_time": "2023-09-29T14:56:19.274765400Z",
     "start_time": "2023-09-29T14:56:19.032269400Z"
    }
   },
   "source": [
    "\n",
    "# Termine el ciclo For\n",
    "for messages_count in range(0,22):\n",
    "# Añade nuevas condiciones a elif y else\n",
    "    if messages_count == 0:\n",
    "        print('No tienes mensajes nuevos. Expira')\n",
    "    elif messages_count == 1:\n",
    "        # escribe tu código aquí\n",
    "        print('Tienes un mensaje nuevo, compruebalo.')\n",
    "    elif messages_count >= 2 and messages_count <=4:\n",
    "        # escribe tu código aquí\n",
    "        print('Tienes de ' ,messages_count, ' mensajes nuevos, es momento de echarles un vistazo.')\n",
    "    else:\n",
    "        # escribe tu código aquí\n",
    "        print('Tienes entre ', messages_count, ' mensajes nuevos, ¿Son spam?')\n"
   ],
   "block_group": "6c09e6b4fdbe4e94ba8815f3801d51c7",
   "execution_count": 89,
   "outputs": [
    {
     "name": "stdout",
     "output_type": "stream",
     "text": [
      "No tienes mensajes nuevos. Expira\n",
      "Tienes un mensaje nuevo, compruebalo.\n",
      "Tienes de  2  mensajes nuevos, es momento de echarles un vistazo.\n",
      "Tienes de  3  mensajes nuevos, es momento de echarles un vistazo.\n",
      "Tienes de  4  mensajes nuevos, es momento de echarles un vistazo.\n",
      "Tienes entre  5  mensajes nuevos, ¿Son spam?\n",
      "Tienes entre  6  mensajes nuevos, ¿Son spam?\n",
      "Tienes entre  7  mensajes nuevos, ¿Son spam?\n",
      "Tienes entre  8  mensajes nuevos, ¿Son spam?\n",
      "Tienes entre  9  mensajes nuevos, ¿Son spam?\n",
      "Tienes entre  10  mensajes nuevos, ¿Son spam?\n",
      "Tienes entre  11  mensajes nuevos, ¿Son spam?\n",
      "Tienes entre  12  mensajes nuevos, ¿Son spam?\n",
      "Tienes entre  13  mensajes nuevos, ¿Son spam?\n",
      "Tienes entre  14  mensajes nuevos, ¿Son spam?\n",
      "Tienes entre  15  mensajes nuevos, ¿Son spam?\n",
      "Tienes entre  16  mensajes nuevos, ¿Son spam?\n",
      "Tienes entre  17  mensajes nuevos, ¿Son spam?\n",
      "Tienes entre  18  mensajes nuevos, ¿Son spam?\n",
      "Tienes entre  19  mensajes nuevos, ¿Son spam?\n",
      "Tienes entre  20  mensajes nuevos, ¿Son spam?\n",
      "Tienes entre  21  mensajes nuevos, ¿Son spam?\n"
     ]
    }
   ]
  },
  {
   "cell_type": "markdown",
   "metadata": {
    "cell_id": "1585b801b564400985bb564a94b368fb",
    "deepnote_cell_type": "markdown"
   },
   "source": [
    "# Ejercicio 3\n",
    "Ejecuta el código: el tiempo es estupendo, pero el programa dice que es malo. Arregla el código utilizando el operador `not`:"
   ],
   "block_group": "1585b801b564400985bb564a94b368fb"
  },
  {
   "cell_type": "code",
   "metadata": {
    "cell_id": "0d60338bb9364178ace7de48a94f59a3",
    "deepnote_cell_type": "code",
    "ExecuteTime": {
     "end_time": "2023-09-29T14:56:19.274765400Z",
     "start_time": "2023-09-29T14:56:19.039303700Z"
    }
   },
   "source": [
    "good_weather = not True # El tiempo en realidad es agradable\n",
    "\n",
    "if good_weather:\n",
    "    print('Brisa fuerte')\n",
    "    print('Llovizna')\n",
    "    print('Nublado')\n",
    "    print('Mucho frío')\n",
    "    print('No puedes ir a la playa')\n",
    "else:\n",
    "    print('Soleado')\n",
    "    print('No hace demasiado calor')\n",
    "    print('Brisa ligera')\n",
    "    print('Un poco nublado')\n"
   ],
   "block_group": "0d60338bb9364178ace7de48a94f59a3",
   "execution_count": 90,
   "outputs": [
    {
     "name": "stdout",
     "output_type": "stream",
     "text": [
      "Soleado\n",
      "No hace demasiado calor\n",
      "Brisa ligera\n",
      "Un poco nublado\n"
     ]
    }
   ]
  },
  {
   "cell_type": "markdown",
   "metadata": {
    "cell_id": "8e8c4fe543cf409ea8d6de11c59adbc5",
    "deepnote_cell_type": "markdown"
   },
   "source": [
    "# Ejercicio 4\n",
    "Vamos a preparar el desayuno. Hay diferentes menús en función de los productos que tengas en la nevera:\n",
    "- Si tienes leche y cereales, puedes desayunar cereales con leche.\n",
    "- Si hay huevos, puedes desayunar huevos fritos.\n",
    "- Si tienes leche y huevos, puedes hacer una tortilla.\n",
    "- También hay opciones para cuando tengas bajo presupuesto: beber leche, comer cereales solos o no desayunar.\n",
    "Lee el código y revisa cuidadosamente la lógica de la ramificación.\n",
    "Sustituye los puntos suspensivos por el operador lógico que hará que el programa funcione correctamente."
   ],
   "block_group": "8e8c4fe543cf409ea8d6de11c59adbc5"
  },
  {
   "cell_type": "code",
   "metadata": {
    "cell_id": "c16a441da61e47d3b3565229b5f0eeb8",
    "deepnote_cell_type": "code",
    "ExecuteTime": {
     "end_time": "2023-09-29T14:56:19.274765400Z",
     "start_time": "2023-09-29T14:56:19.047171600Z"
    }
   },
   "source": [
    "# No hay suficientes productos:\n",
    "milk =  not True       # NO tienes leche.\n",
    "cereals =  True        # Tienes cereales.\n",
    "eggs = not True         # No tienes huevos.\n",
    "\n",
    "# Sustituye \"...\" por el operador lógico adecuado.\n",
    "# Ten cuidado a la hora de decidir si usas paréntesis o no.\n",
    "\n",
    "if milk and cereals or eggs:\n",
    "    if eggs:\n",
    "        if milk:\n",
    "            breakfast = '- tortilla'\n",
    "        else:\n",
    "            breakfast = '- huevos fritos'\n",
    "    else:\n",
    "        breakfast = '- cereales con leche'\n",
    "else:\n",
    "    if milk:\n",
    "        breakfast = '- un vaso de leche'\n",
    "    elif cereals:\n",
    "        breakfast = 'solo cereales...'\n",
    "    else:\n",
    "        breakfast = 'nada: hoy empiezo mi dieta'\n",
    "\n",
    "print('Hoy para desayunar:', breakfast)"
   ],
   "block_group": "c16a441da61e47d3b3565229b5f0eeb8",
   "execution_count": 91,
   "outputs": [
    {
     "name": "stdout",
     "output_type": "stream",
     "text": [
      "Hoy para desayunar: solo cereales...\n"
     ]
    }
   ]
  },
  {
   "cell_type": "markdown",
   "metadata": {
    "cell_id": "a8b20bd958d345ad807639e608484cc4",
    "deepnote_cell_type": "markdown"
   },
   "source": [
    "# Ejercicio 5\n",
    "\n",
    "Utiliza las expresiones adecuadas en función del número de mensajes:\n",
    "- 0 — `'No tienes mensajes nuevos. Expira.'`\n",
    "- 1 — `'Tienes 1 mensaje nuevo, compruébalo.'`\n",
    "- 2 a 4 — `'Tienes <number> mensajes nuevos. Es el momento de echarles un vistazo.'`\n",
    "- 5 o más — `'Tienes <number> mensajes nuevos. ¿Son spam?'`"
   ],
   "block_group": "a8b20bd958d345ad807639e608484cc4"
  },
  {
   "cell_type": "code",
   "metadata": {
    "cell_id": "7b23bf0a42b44590b1296549eda2f2f3",
    "deepnote_cell_type": "code",
    "ExecuteTime": {
     "end_time": "2023-09-29T14:56:19.274765400Z",
     "start_time": "2023-09-29T14:56:19.055228800Z"
    }
   },
   "source": [
    "# Complete el ciclo for\n",
    "for messages_count in range(0, 6):\n",
    "    # Complete las condiciones\n",
    "    if messages_count == 0:\n",
    "        print('No tienes mensajes nuevos. Expira.')\n",
    "    elif messages_count == 1:\n",
    "        print('Tienes 1 mensaje nuevo, compruébalo.')\n",
    "    elif 2 <= messages_count <= 4:\n",
    "        print('Tienes', messages_count, 'mensajes nuevos. Es el momento de echarles un vistazo.')\n",
    "    else:\n",
    "        print('Tienes', messages_count, 'o más mensajes nuevos. ¿Son spam?')\n"
   ],
   "block_group": "7b23bf0a42b44590b1296549eda2f2f3",
   "execution_count": 92,
   "outputs": [
    {
     "name": "stdout",
     "output_type": "stream",
     "text": [
      "No tienes mensajes nuevos. Expira.\n",
      "Tienes 1 mensaje nuevo, compruébalo.\n",
      "Tienes 2 mensajes nuevos. Es el momento de echarles un vistazo.\n",
      "Tienes 3 mensajes nuevos. Es el momento de echarles un vistazo.\n",
      "Tienes 4 mensajes nuevos. Es el momento de echarles un vistazo.\n",
      "Tienes 5 o más mensajes nuevos. ¿Son spam?\n"
     ]
    }
   ]
  },
  {
   "cell_type": "markdown",
   "metadata": {
    "cell_id": "e23c06aae0f645a796ef5d00c532c134",
    "deepnote_cell_type": "markdown"
   },
   "source": [
    "# Ejercicio 6\n",
    "1. Corrija el siguiente codigo\n",
    "2. Agregue otro `for loop` para mostrar los los elementos de la lista `sport_games`"
   ],
   "block_group": "e23c06aae0f645a796ef5d00c532c134"
  },
  {
   "cell_type": "code",
   "metadata": {
    "cell_id": "f1f8d0ff69434d60bf8edf9cdfbafc6f",
    "deepnote_cell_type": "code",
    "ExecuteTime": {
     "end_time": "2023-09-29T14:56:19.275762900Z",
     "start_time": "2023-09-29T14:56:19.060993100Z"
    }
   },
   "source": [
    "board_games = [\"Settlers of Catan\", \"Carcassone\", \"Power Grid\", \"Agricola\", \"Scrabble\"]\n",
    "\n",
    "sport_games = [\"football\", \"hockey\", \"baseball\", \"cricket\"]\n",
    "\n",
    "print('Lista de board games: ')\n",
    "for game in board_games:\n",
    "    print(game)\n",
    "print('Lista de sport games: ')\n",
    "for sport in sport_games:\n",
    "    print(sport)"
   ],
   "block_group": "f1f8d0ff69434d60bf8edf9cdfbafc6f",
   "execution_count": 93,
   "outputs": [
    {
     "name": "stdout",
     "output_type": "stream",
     "text": [
      "Lista de board games: \n",
      "Settlers of Catan\n",
      "Carcassone\n",
      "Power Grid\n",
      "Agricola\n",
      "Scrabble\n",
      "Lista de sport games: \n",
      "football\n",
      "hockey\n",
      "baseball\n",
      "cricket\n"
     ]
    }
   ]
  },
  {
   "cell_type": "markdown",
   "metadata": {
    "cell_id": "a359b175baec47e48040320060a28b03",
    "deepnote_cell_type": "markdown"
   },
   "source": [
    "# Ejercicio 7\n",
    "Oh no!!!! No has pillao :( y como castigo nos pidieron escribir la string `\"No debo llegar tarde\"` 100 veces!. Suerte para nosotros sabemos usar ciclos `for`. Realice un ciclo `for` que muestre 100 veces la string indicada\n"
   ],
   "block_group": "a359b175baec47e48040320060a28b03"
  },
  {
   "cell_type": "code",
   "metadata": {
    "cell_id": "e814edbc69914d8fa83d491b3eadb01d",
    "deepnote_cell_type": "code",
    "ExecuteTime": {
     "end_time": "2023-09-29T14:56:19.275762900Z",
     "start_time": "2023-09-29T14:56:19.068383400Z"
    }
   },
   "source": [
    "for i in range(0,101):\n",
    "    print(i, 'No debo llegar tarde')"
   ],
   "block_group": "e814edbc69914d8fa83d491b3eadb01d",
   "execution_count": 94,
   "outputs": [
    {
     "name": "stdout",
     "output_type": "stream",
     "text": [
      "0 No debo llegar tarde\n",
      "1 No debo llegar tarde\n",
      "2 No debo llegar tarde\n",
      "3 No debo llegar tarde\n",
      "4 No debo llegar tarde\n",
      "5 No debo llegar tarde\n",
      "6 No debo llegar tarde\n",
      "7 No debo llegar tarde\n",
      "8 No debo llegar tarde\n",
      "9 No debo llegar tarde\n",
      "10 No debo llegar tarde\n",
      "11 No debo llegar tarde\n",
      "12 No debo llegar tarde\n",
      "13 No debo llegar tarde\n",
      "14 No debo llegar tarde\n",
      "15 No debo llegar tarde\n",
      "16 No debo llegar tarde\n",
      "17 No debo llegar tarde\n",
      "18 No debo llegar tarde\n",
      "19 No debo llegar tarde\n",
      "20 No debo llegar tarde\n",
      "21 No debo llegar tarde\n",
      "22 No debo llegar tarde\n",
      "23 No debo llegar tarde\n",
      "24 No debo llegar tarde\n",
      "25 No debo llegar tarde\n",
      "26 No debo llegar tarde\n",
      "27 No debo llegar tarde\n",
      "28 No debo llegar tarde\n",
      "29 No debo llegar tarde\n",
      "30 No debo llegar tarde\n",
      "31 No debo llegar tarde\n",
      "32 No debo llegar tarde\n",
      "33 No debo llegar tarde\n",
      "34 No debo llegar tarde\n",
      "35 No debo llegar tarde\n",
      "36 No debo llegar tarde\n",
      "37 No debo llegar tarde\n",
      "38 No debo llegar tarde\n",
      "39 No debo llegar tarde\n",
      "40 No debo llegar tarde\n",
      "41 No debo llegar tarde\n",
      "42 No debo llegar tarde\n",
      "43 No debo llegar tarde\n",
      "44 No debo llegar tarde\n",
      "45 No debo llegar tarde\n",
      "46 No debo llegar tarde\n",
      "47 No debo llegar tarde\n",
      "48 No debo llegar tarde\n",
      "49 No debo llegar tarde\n",
      "50 No debo llegar tarde\n",
      "51 No debo llegar tarde\n",
      "52 No debo llegar tarde\n",
      "53 No debo llegar tarde\n",
      "54 No debo llegar tarde\n",
      "55 No debo llegar tarde\n",
      "56 No debo llegar tarde\n",
      "57 No debo llegar tarde\n",
      "58 No debo llegar tarde\n",
      "59 No debo llegar tarde\n",
      "60 No debo llegar tarde\n",
      "61 No debo llegar tarde\n",
      "62 No debo llegar tarde\n",
      "63 No debo llegar tarde\n",
      "64 No debo llegar tarde\n",
      "65 No debo llegar tarde\n",
      "66 No debo llegar tarde\n",
      "67 No debo llegar tarde\n",
      "68 No debo llegar tarde\n",
      "69 No debo llegar tarde\n",
      "70 No debo llegar tarde\n",
      "71 No debo llegar tarde\n",
      "72 No debo llegar tarde\n",
      "73 No debo llegar tarde\n",
      "74 No debo llegar tarde\n",
      "75 No debo llegar tarde\n",
      "76 No debo llegar tarde\n",
      "77 No debo llegar tarde\n",
      "78 No debo llegar tarde\n",
      "79 No debo llegar tarde\n",
      "80 No debo llegar tarde\n",
      "81 No debo llegar tarde\n",
      "82 No debo llegar tarde\n",
      "83 No debo llegar tarde\n",
      "84 No debo llegar tarde\n",
      "85 No debo llegar tarde\n",
      "86 No debo llegar tarde\n",
      "87 No debo llegar tarde\n",
      "88 No debo llegar tarde\n",
      "89 No debo llegar tarde\n",
      "90 No debo llegar tarde\n",
      "91 No debo llegar tarde\n",
      "92 No debo llegar tarde\n",
      "93 No debo llegar tarde\n",
      "94 No debo llegar tarde\n",
      "95 No debo llegar tarde\n",
      "96 No debo llegar tarde\n",
      "97 No debo llegar tarde\n",
      "98 No debo llegar tarde\n",
      "99 No debo llegar tarde\n",
      "100 No debo llegar tarde\n"
     ]
    }
   ]
  },
  {
   "cell_type": "markdown",
   "metadata": {
    "cell_id": "4c054a4e9b7c4e8bb56e9b162e5030b5",
    "deepnote_cell_type": "markdown"
   },
   "source": [
    "# Ejercicio 8\n",
    "Se acerca anho nuevo!! (Lo se, Lo se ya paso pero recordemos la cuenta regresiva!). Utilizando un ciclo `while` realice una cuenta regresiva que inicie en `10` y finalice en `0`!\n",
    "Ejemplo: \n",
    "\n",
    "```\n",
    "10\n",
    "9\n",
    "8\n",
    "7\n",
    "6\n",
    "5\n",
    "4\n",
    "3\n",
    "2\n",
    "1\n",
    "0\n",
    "************************\n",
    "* Feliz anho nuevo! :D *\n",
    "************************\n",
    "```"
   ],
   "block_group": "4c054a4e9b7c4e8bb56e9b162e5030b5"
  },
  {
   "cell_type": "code",
   "metadata": {
    "cell_id": "90a33180673f4512bda1564fc992095f",
    "deepnote_cell_type": "code",
    "ExecuteTime": {
     "end_time": "2023-09-29T14:56:19.275762900Z",
     "start_time": "2023-09-29T14:56:19.073666Z"
    }
   },
   "source": [
    "countdown = 10\n",
    "\n",
    "while countdown >= 0:\n",
    "    print(countdown)\n",
    "    countdown -= 1\n",
    "print('''************************\n",
    "* Feliz anho nuevo! :D *\n",
    "************************''')"
   ],
   "block_group": "90a33180673f4512bda1564fc992095f",
   "execution_count": 95,
   "outputs": [
    {
     "name": "stdout",
     "output_type": "stream",
     "text": [
      "10\n",
      "9\n",
      "8\n",
      "7\n",
      "6\n",
      "5\n",
      "4\n",
      "3\n",
      "2\n",
      "1\n",
      "0\n",
      "************************\n",
      "* Feliz anho nuevo! :D *\n",
      "************************\n"
     ]
    }
   ]
  },
  {
   "cell_type": "markdown",
   "metadata": {
    "cell_id": "59cd5deed46a4d32ab67991d4fd53fea",
    "deepnote_cell_type": "markdown"
   },
   "source": [
    "# Ejercicio 9\n",
    "Hummm, la hemos rifado, ahora podemos hacer ciclos! \n",
    "\n",
    "Se nos da una lista con los temas avanzados en el curso!, `python_topics`. Utilice un ciclo `while` para enumerar los temas y mostrar los en la pantalla! Ejemplo:\n",
    "```\n",
    "Temas avanzados!\n",
    "1. Programa de computadora\n",
    "2. Variables\n",
    "3. Conversion de tipos\n",
    "4. Control de flujo\n",
    "5. Ciclos\n",
    "\n",
    "Vamos por mas!\n",
    "```"
   ],
   "block_group": "59cd5deed46a4d32ab67991d4fd53fea"
  },
  {
   "cell_type": "code",
   "metadata": {
    "cell_id": "a6f5938466b845e2b5ef8092423e9f28",
    "deepnote_cell_type": "code",
    "ExecuteTime": {
     "end_time": "2023-09-29T14:56:19.275762900Z",
     "start_time": "2023-09-29T14:56:19.084538500Z"
    }
   },
   "source": [
    "python_topics = [\n",
    "    \"Programa de computadora\",\n",
    "    \"Variables\",\n",
    "    \"Conversion de tipos\",\n",
    "    \"Control de flujo\",\n",
    "    \"Ciclos\"\n",
    "]\n",
    "\n",
    "# Su codigo aqui :)\n",
    "\n",
    "count = len(python_topics)\n",
    "\n",
    "index = 0\n",
    "while index < count:\n",
    "    print(f\"{index+1}. {python_topics[index]}\")\n",
    "    index = index + 1"
   ],
   "block_group": "a6f5938466b845e2b5ef8092423e9f28",
   "execution_count": 96,
   "outputs": [
    {
     "name": "stdout",
     "output_type": "stream",
     "text": [
      "1. Programa de computadora\n",
      "2. Variables\n",
      "3. Conversion de tipos\n",
      "4. Control de flujo\n",
      "5. Ciclos\n"
     ]
    }
   ]
  },
  {
   "cell_type": "markdown",
   "metadata": {
    "cell_id": "86cb982bdf0841b698ba6be0dbe08e11",
    "deepnote_cell_type": "markdown"
   },
   "source": [
    "# Ejercicio 10\n",
    "Tenemos una lista de notas de nuestros alumnos! Y queremos hacerles saber si pasaron la asignatura o tendran que tomar otro examen para recuperar! \n",
    "\n",
    "Utilizando un ciclo `for` y el concepto de ramificacion,  `if`, realice un programa que imprima la string `Has pasado el curso, Yey!` si la nota es mayor o igual a `60`. Caso contrario se debe mostrar la string `Hummm, no te preocupes aun puedes lograrlo!`"
   ],
   "block_group": "86cb982bdf0841b698ba6be0dbe08e11"
  },
  {
   "cell_type": "code",
   "metadata": {
    "cell_id": "1ee02eb307b24969b922ca34775fa538",
    "deepnote_cell_type": "code",
    "ExecuteTime": {
     "end_time": "2023-09-29T14:56:19.276760200Z",
     "start_time": "2023-09-29T14:56:19.090251400Z"
    }
   },
   "source": [
    "grades = [100, 50, 70, 60, 20, 98, 69, 74, 55, 61, 89, 76, 64, 97]\n",
    "\n",
    "estudiante = 1\n",
    "for grade in grades:\n",
    "    if grade >= 60:\n",
    "        print(f'Estudiante {estudiante}: Has pasado el curso, Yey')\n",
    "    else:\n",
    "        print(f'Estudiante {estudiante}: Hummm, no te preocupes, aún puedes lograrlo!')\n",
    "    estudiante += 1\n"
   ],
   "block_group": "1ee02eb307b24969b922ca34775fa538",
   "execution_count": 97,
   "outputs": [
    {
     "name": "stdout",
     "output_type": "stream",
     "text": [
      "Estudiante 1: Has pasado el curso, Yey\n",
      "Estudiante 2: Hummm, no te preocupes, aún puedes lograrlo!\n",
      "Estudiante 3: Has pasado el curso, Yey\n",
      "Estudiante 4: Has pasado el curso, Yey\n",
      "Estudiante 5: Hummm, no te preocupes, aún puedes lograrlo!\n",
      "Estudiante 6: Has pasado el curso, Yey\n",
      "Estudiante 7: Has pasado el curso, Yey\n",
      "Estudiante 8: Has pasado el curso, Yey\n",
      "Estudiante 9: Hummm, no te preocupes, aún puedes lograrlo!\n",
      "Estudiante 10: Has pasado el curso, Yey\n",
      "Estudiante 11: Has pasado el curso, Yey\n",
      "Estudiante 12: Has pasado el curso, Yey\n",
      "Estudiante 13: Has pasado el curso, Yey\n",
      "Estudiante 14: Has pasado el curso, Yey\n"
     ]
    }
   ]
  },
  {
   "cell_type": "markdown",
   "metadata": {
    "cell_id": "7b4be17c1e1147baae4508cd4b601b8d",
    "deepnote_cell_type": "markdown"
   },
   "source": [
    "# Ejercicio 11\n",
    "\n",
    "El programa debe mostrar `True` si `num` es mayor o igual que `lower` y menor o igual que `upper`. De lo contrario, devuelve Falso."
   ],
   "block_group": "7b4be17c1e1147baae4508cd4b601b8d"
  },
  {
   "cell_type": "code",
   "metadata": {
    "cell_id": "7f9be5dced6648c2817611347f2580c4",
    "deepnote_cell_type": "code",
    "ExecuteTime": {
     "end_time": "2023-09-29T14:56:19.276760200Z",
     "start_time": "2023-09-29T14:56:19.098145200Z"
    }
   },
   "source": [
    "def program (num,lower,upper):\n",
    "    return lower <= num <= upper\n",
    "\n",
    "print(program(5,1,10))\n",
    "print(program(11,1,10))\n"
   ],
   "block_group": "7f9be5dced6648c2817611347f2580c4",
   "execution_count": 98,
   "outputs": [
    {
     "name": "stdout",
     "output_type": "stream",
     "text": [
      "True\n",
      "False\n"
     ]
    }
   ]
  },
  {
   "cell_type": "markdown",
   "metadata": {
    "cell_id": "9580e33455e54251b9c65f1ea8b8b85c",
    "deepnote_cell_type": "markdown"
   },
   "source": [
    "# Ejercicio 12\n",
    "Cree un programa que si nuestros nombres son idénticos, muestre `True`. De lo contrario, muestre `Falso`."
   ],
   "block_group": "9580e33455e54251b9c65f1ea8b8b85c"
  },
  {
   "cell_type": "code",
   "metadata": {
    "cell_id": "a7da47bd8b6f4520a7fd7afc0b3fcad7",
    "deepnote_cell_type": "code",
    "ExecuteTime": {
     "end_time": "2023-09-29T14:56:19.277765100Z",
     "start_time": "2023-09-29T14:56:19.103599300Z"
    }
   },
   "source": [
    "def name(name1,name2):\n",
    "    if name1 == name2:\n",
    "        return True\n",
    "    else:\n",
    "        return False\n",
    "print(name('alesandro','alesandro'))\n",
    "print(name('yuliana','alesandro'))\n"
   ],
   "block_group": "a7da47bd8b6f4520a7fd7afc0b3fcad7",
   "execution_count": 99,
   "outputs": [
    {
     "name": "stdout",
     "output_type": "stream",
     "text": [
      "True\n",
      "False\n"
     ]
    }
   ]
  },
  {
   "cell_type": "markdown",
   "metadata": {
    "cell_id": "f3cc92e3b3c4446b8cd125ef3b1e93eb",
    "deepnote_cell_type": "markdown"
   },
   "source": [
    "# Ejercicio 13\n",
    "\n",
    "Si la variable `rating` es menor o igual a `5`, muestre `\"¡Evitar a toda costa!\"`. Si `rating` está entre `5` y `9`, muestre `\"Este fue divertido\"`. Si `rating` es `9` o superior, muestre `\"¡Sobresaliente!\"`\n"
   ],
   "block_group": "f3cc92e3b3c4446b8cd125ef3b1e93eb"
  },
  {
   "cell_type": "code",
   "metadata": {
    "cell_id": "80840d2a51e747aaacfd26c433be632b",
    "deepnote_cell_type": "code",
    "ExecuteTime": {
     "end_time": "2023-09-29T14:56:19.278755400Z",
     "start_time": "2023-09-29T14:56:19.110581500Z"
    }
   },
   "source": [
    "rating = 1\n",
    "\n",
    "if rating <= 5:\n",
    "    print('Evitar a toda costa')\n",
    "elif rating > 5 and rating <=9:\n",
    "    print('Este fue divertido')\n",
    "else:\n",
    "    print('Sobresaliente')"
   ],
   "block_group": "80840d2a51e747aaacfd26c433be632b",
   "execution_count": 100,
   "outputs": [
    {
     "name": "stdout",
     "output_type": "stream",
     "text": [
      "Evitar a toda costa\n"
     ]
    }
   ]
  },
  {
   "cell_type": "markdown",
   "metadata": {
    "cell_id": "0a0a7065c0e149f39871ff0c1e905b8a",
    "deepnote_cell_type": "markdown"
   },
   "source": [
    "# Ejercicio 14\n",
    "Cree un programa que determine que `lista` tiene mas elementos. Si la lista `lst1` tiene mas elementos muestre `\"La lista 1 tiene mas elementos que la lista 2\"` si la lista `lst2` tiene mas elementos que la lista 1 muestre `\"La lista 2 tiene msa elementos que la lista 1\"` en caso de empate muestre `\"Es un empate\"`"
   ],
   "block_group": "0a0a7065c0e149f39871ff0c1e905b8a"
  },
  {
   "cell_type": "code",
   "metadata": {
    "cell_id": "8bebf81c7abe48e0975d3c6522026900",
    "deepnote_cell_type": "code",
    "ExecuteTime": {
     "end_time": "2023-09-29T14:56:19.278755400Z",
     "start_time": "2023-09-29T14:56:19.119243900Z"
    }
   },
   "source": [
    "list1 = [100, 50, 70, 60, 20, 98, 69, 74, 55, 61, 89, 76, 64, 97]\n",
    "list2 = [100, 50, 70, 60, 20, 98, 69, 74, 55, 61, 89, 76, 64]\n",
    "\n",
    "def more_elements(list1,list2):\n",
    "    if len(list1) > len(list2):\n",
    "        print('La lista 1 tiene mas elementos que la lista 2')\n",
    "    elif len(list1) == len(list2):\n",
    "        print('Es un empate')\n",
    "    else:\n",
    "        print('La lista 2 tiene mas elementos que la lista 1')\n",
    "        \n",
    "more_elements(list1,list2)"
   ],
   "block_group": "8bebf81c7abe48e0975d3c6522026900",
   "execution_count": 101,
   "outputs": [
    {
     "name": "stdout",
     "output_type": "stream",
     "text": [
      "La lista 1 tiene mas elementos que la lista 2\n"
     ]
    }
   ]
  },
  {
   "cell_type": "markdown",
   "metadata": {
    "cell_id": "94218e8370a740dea821111295c8b711",
    "deepnote_cell_type": "markdown"
   },
   "source": [
    "# Ejercicio 15\n",
    "Escriba un programa que devuelva todso los numeros divisibls entre 10 en el rango de numeros definidos en la lista `range_num`"
   ],
   "block_group": "94218e8370a740dea821111295c8b711"
  },
  {
   "cell_type": "code",
   "metadata": {
    "cell_id": "b87c7befdeae4810b00ca77f0606567d",
    "deepnote_cell_type": "code",
    "ExecuteTime": {
     "end_time": "2023-09-29T14:56:19.279754300Z",
     "start_time": "2023-09-29T14:56:19.125037300Z"
    }
   },
   "source": [
    "range_num = range(100)\n",
    "\n",
    "# Codigo aqui"
   ],
   "block_group": "b87c7befdeae4810b00ca77f0606567d",
   "execution_count": 102,
   "outputs": []
  },
  {
   "cell_type": "markdown",
   "metadata": {
    "cell_id": "ecafc2b4afa54bddab043c3cdf737478",
    "deepnote_cell_type": "markdown"
   },
   "source": [
    "# Ejercicio 16\n",
    "\n",
    "Se tiene dos listas `lista1` y `lista2` ambas tienen la misma cantidad de elementos. Compare cada elemento de cada lista y muestre los numeros mayores.\n",
    "Ejemplo:\n",
    "\n",
    "`lista1 = [2, 4, 10, 3]`\n",
    "`lista2 = [1, 5, 9, 5]` \n",
    "\n",
    "```\n",
    "OUTPUT\n",
    "2\n",
    "5\n",
    "10\n",
    "5\n",
    "```"
   ],
   "block_group": "ecafc2b4afa54bddab043c3cdf737478"
  },
  {
   "cell_type": "code",
   "metadata": {
    "cell_id": "c4c36b906ce64b54ae42d3a0291bcb61",
    "deepnote_cell_type": "code",
    "ExecuteTime": {
     "end_time": "2023-09-29T14:56:19.279754300Z",
     "start_time": "2023-09-29T14:56:19.130811200Z"
    }
   },
   "source": [
    "lista1 = [2, 4, 10, 3, 11, 15, 20]\n",
    "lista2 = [1, 4, 11, 5, 10, 1, 2]\n",
    "\n",
    "# Codigo aca\n",
    "\n",
    "for i in range(len(lista1)):\n",
    "    if lista1[i] > lista2[i]:\n",
    "        print(lista1[i])\n",
    "    else:\n",
    "        print(lista2[i])"
   ],
   "block_group": "c4c36b906ce64b54ae42d3a0291bcb61",
   "execution_count": 103,
   "outputs": [
    {
     "name": "stdout",
     "output_type": "stream",
     "text": [
      "2\n",
      "4\n",
      "11\n",
      "5\n",
      "11\n",
      "15\n",
      "20\n"
     ]
    }
   ]
  },
  {
   "cell_type": "markdown",
   "metadata": {
    "cell_id": "5cc408295de34da28d60907fa8b64ee5",
    "deepnote_cell_type": "markdown"
   },
   "source": [
    "# Ejercicio 17\n",
    "\n",
    "Se tiene dos listas de numeros. Sume los numeros de cada lista por separado, luego devuelva la suma mayor que se obtuvo.  Ejemplo:\n",
    "\n",
    "`lista1 = [2, 4, 10, 3]`\n",
    "`lista2 = [1, 5, 9, 5]` \n",
    "\n",
    "```\n",
    "OUTPUT\n",
    "suma1 = 19 # suma de la lista1\n",
    "suma2 = 20 # suma de la lista2\n",
    "La suma con mayor valor es: 20 de la lista2\n",
    "```"
   ],
   "block_group": "5cc408295de34da28d60907fa8b64ee5"
  },
  {
   "cell_type": "code",
   "metadata": {
    "cell_id": "e00631cb0e8d4667bbc796b080fe385a",
    "deepnote_cell_type": "code",
    "ExecuteTime": {
     "end_time": "2023-09-29T14:56:19.279754300Z",
     "start_time": "2023-09-29T14:56:19.138782200Z"
    }
   },
   "source": [
    "lista1 = [2, 4, 10, 3]\n",
    "lista2 = [1, 5, 9, 5]\n",
    "\n",
    "suma1 = sum(lista1)\n",
    "suma2 = sum(lista2)\n",
    "\n",
    "if suma1 > suma2:\n",
    "    suma_mayor = suma1\n",
    "    lista_mayor = \"lista1\"\n",
    "elif suma2 > suma1:\n",
    "    suma_mayor = suma2\n",
    "    lista_mayor = \"lista2\"\n",
    "    \n",
    "print(f'suma1 = {suma1} # suma de la lista1')\n",
    "print(f'suma2 = {suma2} # suma de la lista2')\n",
    "print(f'La suma con mayor valor es: {suma_mayor} de la {lista_mayor}')"
   ],
   "block_group": "e00631cb0e8d4667bbc796b080fe385a",
   "execution_count": 104,
   "outputs": [
    {
     "name": "stdout",
     "output_type": "stream",
     "text": [
      "suma1 = 19 # suma de la lista1\n",
      "suma2 = 20 # suma de la lista2\n",
      "La suma con mayor valor es: 20 de la lista2\n"
     ]
    }
   ]
  },
  {
   "cell_type": "markdown",
   "source": [
    "## Ejercicio 18\n",
    "\n",
    "Escribe una función que reciba un nombre de ciudad y devuelva la hora en aquella ciudad.\n",
    "\n",
    "Hemos preparado un diccionario `UTC_OFFSET` que almacena los desfases horarios en horas de la UTC."
   ],
   "metadata": {
    "collapsed": false
   }
  },
  {
   "cell_type": "code",
   "execution_count": 105,
   "outputs": [
    {
     "name": "stdout",
     "output_type": "stream",
     "text": [
      "La hora actual en Taskent es 19:56:19 2023-09-29\n",
      "La hora actual en Beirut es 17:56:19 2023-09-29\n",
      "Lo siento, no tengo información\n",
      "None\n"
     ]
    }
   ],
   "source": [
    "\n",
    "import datetime as dt\n",
    "\n",
    "UTC_OFFSET = {\n",
    "    'Beirut': 3,\n",
    "    'Helsinki': 3,\n",
    "    'Tiflis': 4,\n",
    "    'Yakarta': 7,\n",
    "    'Taskent': 5,\n",
    "    'Estambul': 3,\n",
    "    'Sofía': 3,\n",
    "    'Malé': 5,\n",
    "    'Ciudad de México': -5,\n",
    "    'Kiev': 3,\n",
    "    'Panamá': -5,\n",
    "    'Bangkok': 7,\n",
    "    'Manila': 8,\n",
    "    'Atenas': 3,\n",
    "    'Sao Paulo': -3,\n",
    "    'Santiago': -3,\n",
    "    'Berlín': 2\n",
    "}\n",
    "\n",
    "def what_time(city):\n",
    "    # Escribe el cuerpo de la funcion;\n",
    "    # esta debe devolver la hora actual en la ciudad\n",
    "    \n",
    "    time_ = dt.datetime.utcnow()\n",
    "    if city in UTC_OFFSET:\n",
    "        offset_hours = UTC_OFFSET[city]\n",
    "        time_city = time_ + dt.timedelta(hours=offset_hours)\n",
    "        formatted_time = time_city.strftime('%H:%M:%S %Y-%m-%d')\n",
    "        return f\"La hora actual en {city} es {formatted_time}\"\n",
    "    else:\n",
    "        print('Lo siento, no tengo información')\n",
    "print(what_time('Taskent'))\n",
    "print(what_time('Beirut'))\n",
    "print(what_time('Santa Cruz'))\n"
   ],
   "metadata": {
    "collapsed": false,
    "ExecuteTime": {
     "end_time": "2023-09-29T14:56:19.294713Z",
     "start_time": "2023-09-29T14:56:19.142292Z"
    }
   }
  },
  {
   "cell_type": "markdown",
   "source": [
    "## Ejercicio 19\n",
    "\n",
    "\n",
    "Este código tiene un diccionario `DATABASE` (base de datos) que almacena información sobre dónde vive cada uno de tus amigos.\n",
    "\n",
    "Escribe un código de `what_time()` función que lea el nombre de tu amigo(a) y te diga la hora local del lugar en el que están.\n",
    "\n",
    "La función debe tomar el nombre de un amigo(a) como argumento, y devolver la hora actual en su ciudad.\n"
   ],
   "metadata": {
    "collapsed": false
   }
  },
  {
   "cell_type": "code",
   "execution_count": 112,
   "outputs": [
    {
     "name": "stdout",
     "output_type": "stream",
     "text": [
      "La hora actual en París para Sophie es 17:05:24 2023-09-29\n",
      "La hora actual en Lisboa para Kevin es 16:05:24 2023-09-29\n"
     ]
    }
   ],
   "source": [
    "import datetime as dt\n",
    "\n",
    "DATABASE = {\n",
    "    'Mark': 'Río de Janeiro',\n",
    "    'Sophie': 'París',\n",
    "    'Victor': 'Yakarta',\n",
    "    'Marina': 'Beijing',\n",
    "    'Kevin': 'Lisboa'\n",
    "}\n",
    "\n",
    "UTC_OFFSET = {\n",
    "    'Beirut': 3,\n",
    "    'Lisboa': 1,\n",
    "    'Tiflis': 4,\n",
    "    'Yakarta': 7,\n",
    "    'Taskent': 5,\n",
    "    'Estambul': 3,\n",
    "    'Sofía': 3,\n",
    "    'Beijing': 8,\n",
    "    'Ciudad de México': -5,\n",
    "    'Kiev': 3,\n",
    "    'Panamá': -5,\n",
    "    'Bangkok': 7,\n",
    "    'Manila': 8,\n",
    "    'Atenas': 3,\n",
    "    'Río de Janeiro': -3,\n",
    "    'Santiago': -3,\n",
    "    'París': 2\n",
    "}\n",
    "\n",
    "def what_time(friend):\n",
    "    # escribe el código del cuerpo de la función\n",
    "    # esta debe devolver la hora con base al argumento de tu amigo\n",
    "    time_ = dt.datetime.utcnow()\n",
    "    city = DATABASE[friend]\n",
    "    if city:\n",
    "        offset_hours = UTC_OFFSET[city]\n",
    "        time_city = time_ + dt.timedelta(hours=offset_hours)\n",
    "        formatted_time = time_city.strftime('%H:%M:%S %Y-%m-%d')\n",
    "        return f\"La hora actual en {city} para {friend} es {formatted_time}\"\n",
    "    else:\n",
    "        print('Lo siento, no tengo información')\n",
    "print(what_time('Sophie'))\n",
    "print(what_time('Kevin'))"
   ],
   "metadata": {
    "collapsed": false,
    "ExecuteTime": {
     "end_time": "2023-09-29T15:05:24.040280Z",
     "start_time": "2023-09-29T15:05:24.034540200Z"
    }
   }
  },
  {
   "cell_type": "code",
   "execution_count": null,
   "outputs": [],
   "source": [],
   "metadata": {
    "collapsed": false
   }
  }
 ],
 "nbformat": 4,
 "nbformat_minor": 0,
 "metadata": {
  "deepnote": {},
  "orig_nbformat": 2,
  "deepnote_notebook_id": "1cbebf65307744188179cf2df7f145cb",
  "deepnote_execution_queue": [],
  "kernelspec": {
   "name": "python3",
   "language": "python",
   "display_name": "Python 3 (ipykernel)"
  }
 }
}
