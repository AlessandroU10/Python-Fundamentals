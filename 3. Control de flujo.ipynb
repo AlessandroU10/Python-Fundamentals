{
 "cells": [
  {
   "cell_type": "markdown",
   "metadata": {
    "formattedRanges": [],
    "cell_id": "dc2269b5c3f14b1ea84aff556097b80e",
    "deepnote_cell_type": "text-cell-p"
   },
   "source": [],
   "block_group": "dc2269b5c3f14b1ea84aff556097b80e"
  },
  {
   "cell_type": "markdown",
   "metadata": {
    "cell_id": "4a871ba4f9254c41949dcaa22ed04b5f",
    "deepnote_cell_type": "markdown"
   },
   "source": [
    "# Ramificación\n",
    "Además de las expresiones aritméticas, Python tiene expresiones booleanas que devuelven un valor que dice si la expresión es `verdadera` o `falsa`.\n",
    "\n",
    "La igualdad se comprueba con el operador `==`. Al principio es fácil confundirlo con el operador de asignación `=`.\n",
    "\n",
    "La expresión `x = 5` utiliza el operador de asignación: esto significa que a la `x` se le asigna el valor de `5`.\n",
    "En cambio, la expresión `x == 5`, que utiliza el operador lógico `\"igual a \"`, equivale a preguntar: `\"¿Es cierto que x es igual a cinco?\"`\n",
    "\n",
    "Dependiendo del valor de la variable `x` el programa dará una respuesta u otra (`\"devolverá un valor\"`): `\"sí, es cierto\"` (el valor es `True`) o `\"no, no es cierto\"` (el valor es `False`).\n",
    "\n",
    "También puedes comparar números utilizando los operadores `<` (menor que) y `>` (mayor que).\n",
    "- `5 < 3`: `\"¿Es cierto que 5 es menor que 3?\"`. Respuesta: `False`.\n",
    "- `100 > 1`: `\"¿Es 100 mayor que 1?\"`. Respuesta: `True`.\n",
    "\n",
    "El resultado de la comprobación es un valor lógico especial: `True` o `False`."
   ],
   "block_group": "4a871ba4f9254c41949dcaa22ed04b5f"
  },
  {
   "cell_type": "code",
   "metadata": {
    "source_hash": null,
    "execution_start": 1692994824632,
    "execution_millis": 17,
    "deepnote_to_be_reexecuted": false,
    "cell_id": "108d7420659247af820ad1d4c8e926f9",
    "deepnote_cell_type": "code",
    "ExecuteTime": {
     "end_time": "2023-09-06T13:06:38.663593300Z",
     "start_time": "2023-09-06T13:06:38.278215700Z"
    }
   },
   "source": [
    "# Ejemplo\n",
    "check = 2 > 3\n",
    "print(\"Mayor que:\", check)\n",
    "\n",
    "check = 2*2 > 3\n",
    "print(\"Mayor que:\", check)\n",
    "\n",
    "check = 2*2 == 4\n",
    "print(\"Igualdad:\", check)\n",
    "\n",
    "check = 2*2 != 4\n",
    "print(\"Desigualdad:\", check)"
   ],
   "block_group": "108d7420659247af820ad1d4c8e926f9",
   "execution_count": 1,
   "outputs": [
    {
     "name": "stdout",
     "output_type": "stream",
     "text": [
      "Mayor que: False\n",
      "Mayor que: True\n",
      "Igualdad: True\n",
      "Desigualdad: False\n"
     ]
    }
   ]
  },
  {
   "cell_type": "markdown",
   "metadata": {
    "cell_id": "b004d7e089574160baa52d7190b666cb",
    "deepnote_cell_type": "markdown"
   },
   "source": [
    "## Ejercicio 1\n",
    "- Modifica cada variable de tal forma que obtengamos el contrario. Es decir si check es True, modifiquela para obtener False. \n",
    "Ejemplo:\n",
    "```python\n",
    "check = 2 == 4\n",
    "# prints False\n",
    "\n",
    "# Modificamos a:\n",
    "check = 2 * 2 == 4 \n",
    "# prints True\n",
    "```\n",
    "\n",
    "En el utlimo ejemplo, Python ha devuelto True. Eso significa que \"dos veces dos es cuatro\" es una afirmación verdadera."
   ],
   "block_group": "b004d7e089574160baa52d7190b666cb"
  },
  {
   "cell_type": "code",
   "metadata": {
    "source_hash": null,
    "execution_start": 1692994836483,
    "execution_millis": 14,
    "deepnote_to_be_reexecuted": false,
    "cell_id": "1f6dbdf3fb6c41e7a132c951e1488354",
    "deepnote_cell_type": "code",
    "ExecuteTime": {
     "end_time": "2023-09-06T13:20:06.207940900Z",
     "start_time": "2023-09-06T13:20:06.187320600Z"
    }
   },
   "source": [
    "check = 2 < 3\n",
    "print(\"Mayor que:\", check)   # Resultado esperado: True\n",
    "\n",
    "check = 2*2 < 3\n",
    "print(\"Mayor que:\", check)   # Resultado esperado: False\n",
    "\n",
    "check = 2*2 == 5\n",
    "print(\"Igualdad:\", check)    # Resultado esperado: False\n",
    "\n",
    "check = 2*2 != 5\n",
    "print(\"Desigualdad:\", check) # Resultado esperado: True"
   ],
   "block_group": "1f6dbdf3fb6c41e7a132c951e1488354",
   "execution_count": 17,
   "outputs": [
    {
     "name": "stdout",
     "output_type": "stream",
     "text": [
      "Mayor que: True\n",
      "Mayor que: False\n",
      "Igualdad: False\n",
      "Desigualdad: True\n"
     ]
    }
   ]
  },
  {
   "cell_type": "markdown",
   "metadata": {
    "cell_id": "ddc26587bb4f4fbab681e938924c001e",
    "deepnote_cell_type": "markdown"
   },
   "source": [
    "# if\n",
    "La forma de declarar las ramas es utilizando la declaración `if`. `if` va seguido de una `condición` (una expresión lógica) cuyo resultado puede ser tanto `True` como `False`.\n",
    "\n",
    "Si la expresión en la condición es verdadera, entonces se ejecuta el código escrito después de los dos puntos. Si es falsa, el código no se ejecutará.\n",
    "\n",
    "```python\n",
    "if <condicion>:\n",
    "    <codigo a ejecutarse si la condicion es verdadera>\n",
    "    # Importante: el código después de if debe tener una sangría de 4 espacios\n",
    "```"
   ],
   "block_group": "ddc26587bb4f4fbab681e938924c001e"
  },
  {
   "cell_type": "markdown",
   "metadata": {
    "cell_id": "1634b0c14aa8477cb4bfd92ecfe165c2",
    "deepnote_cell_type": "markdown"
   },
   "source": [
    "## Ejemplo\n",
    "\n",
    "Queremos mostrar al usuario un mensaje si escoje el valor correcto. En nuestro caso, el valor correcto sera `2`. Es decir si la variable `my_num` es igual a 2, se debera mostrar el mensaje `Has ganado!!`. "
   ],
   "block_group": "1634b0c14aa8477cb4bfd92ecfe165c2"
  },
  {
   "cell_type": "code",
   "metadata": {
    "source_hash": null,
    "execution_start": 1692994853035,
    "execution_millis": 11,
    "deepnote_to_be_reexecuted": false,
    "cell_id": "78c8aff6c2574cf59ac4c9d03ee650d5",
    "deepnote_cell_type": "code",
    "ExecuteTime": {
     "end_time": "2023-09-06T13:23:20.804191Z",
     "start_time": "2023-09-06T13:23:20.771013300Z"
    }
   },
   "source": [
    "my_num = 2\n",
    "if my_num == 2:\n",
    "    print(\"Has ganado!!\")\n",
    "    print(\"hello world\")\n",
    "\n",
    "# Note que despues del if se ejecutara cualquier codigo que se encuentre aqui!\n",
    "# Prube agregando otro mensaje o modificando el mensaje existente\n",
    "print(\"Hola :)\")"
   ],
   "block_group": "78c8aff6c2574cf59ac4c9d03ee650d5",
   "execution_count": 18,
   "outputs": [
    {
     "name": "stdout",
     "output_type": "stream",
     "text": [
      "Has ganado!!\n",
      "hello world\n",
      "Hola :)\n"
     ]
    }
   ]
  },
  {
   "cell_type": "markdown",
   "metadata": {
    "cell_id": "6f45da2be17249c5a78194d96f093277",
    "deepnote_cell_type": "markdown"
   },
   "source": [
    "## Ejemplo\n",
    "Tambien podemos utilizar strings en lugar de numeros enteros. Por ejemplo, queremos verificar si la contrasena de un usuario esta correcta. Digamos, que la contrasena es `password123` (Una mala constrasena por cierto :)). Le pedimos al usuario que introduzca su contrasena y esta es guardad en una variable `password`.\n",
    "\n",
    "## Ejercicio 2\n",
    "- Introduzca la contrasena correcta para poder tener acceso!"
   ],
   "block_group": "6f45da2be17249c5a78194d96f093277"
  },
  {
   "cell_type": "code",
   "metadata": {
    "source_hash": null,
    "execution_start": 1692994869903,
    "execution_millis": 9,
    "deepnote_to_be_reexecuted": false,
    "cell_id": "36fdccd6d4444c4ea76d89d4f88451dc",
    "deepnote_cell_type": "code",
    "ExecuteTime": {
     "end_time": "2023-09-06T13:43:10.239558900Z",
     "start_time": "2023-09-06T13:43:10.227585600Z"
    }
   },
   "source": [
    "# Introduzca la contrasena correcta para tener acceso!\n",
    "password = \"mypassword\" \n",
    "if password == \"mypassword\":\n",
    "    print(\"Tienes acceso!\")"
   ],
   "block_group": "36fdccd6d4444c4ea76d89d4f88451dc",
   "execution_count": 19,
   "outputs": [
    {
     "name": "stdout",
     "output_type": "stream",
     "text": [
      "Tienes acceso!\n"
     ]
    }
   ]
  },
  {
   "cell_type": "markdown",
   "metadata": {
    "cell_id": "86d8ac90805243b9a45086839f1c0971",
    "deepnote_cell_type": "markdown"
   },
   "source": [
    "# if - else\n",
    "La sentencia if puede incluir un bloque de código que se ejecutará si la condición es falsa. Hay una declaración if / else para ello.\n",
    "Si la expresión condicional es verdadera, se ejecuta el código del bloque if, y si la condición es falsa, se ejecuta el código del bloque else.\n",
    "```python\n",
    "if <condition>:\n",
    "    <code to be executed if the condition is true>\n",
    "    # Importante: el bloque de código debajo de if debe tener una sangría de 4 espacios\n",
    "else:\n",
    "    <code to be executed if the condition is false>\n",
    "    # Este bloque también está sangrado con 4 espacios\n",
    "```"
   ],
   "block_group": "86d8ac90805243b9a45086839f1c0971"
  },
  {
   "cell_type": "markdown",
   "metadata": {
    "cell_id": "2c51d68e6f6a4d178bdbbc0e06208421",
    "deepnote_cell_type": "markdown"
   },
   "source": [
    "Continuemos con el ejemplo anterior. Ahora si el numero es distinto de 2 queremos mostrar un mensaje especial `siga intentando`"
   ],
   "block_group": "2c51d68e6f6a4d178bdbbc0e06208421"
  },
  {
   "cell_type": "markdown",
   "metadata": {
    "cell_id": "9edd958aa13d4d65b0c0db6f03b44d3e",
    "deepnote_cell_type": "markdown"
   },
   "source": [
    "## Ejercicio 3\n",
    "1. Corra la celda y analice el resutlado\n",
    "2. Modifique la variable `my_num` con cualquier otro numero y verifique que se muestre el mensaje adecuado\n",
    "3. Modifique la condicion dentro del `if`"
   ],
   "block_group": "9edd958aa13d4d65b0c0db6f03b44d3e"
  },
  {
   "cell_type": "code",
   "metadata": {
    "source_hash": null,
    "execution_start": 1692994894414,
    "execution_millis": 10,
    "deepnote_to_be_reexecuted": false,
    "cell_id": "ce2138c650ec4077ada4c8a053074cac",
    "deepnote_cell_type": "code",
    "ExecuteTime": {
     "end_time": "2023-09-06T13:52:15.652680200Z",
     "start_time": "2023-09-06T13:52:15.629229600Z"
    }
   },
   "source": [
    "my_num = 3               # modifique esta variable\n",
    "if my_num == 2:          # modifique esta condicion\n",
    "    print(\"Has ganado!!\")\n",
    "else:\n",
    "    print(\"Siga intentando\")\n",
    "    print('sigan viendo')\n",
    "\n",
    "# Note que despues del if se ejecutara cualquier codigo que se encuentre aqui!\n",
    "# Prube agregando otro mensaje o modificando el mensaje existente\n",
    "print(\"Hola :), este es un codigo aparte de la condicion\")"
   ],
   "block_group": "ce2138c650ec4077ada4c8a053074cac",
   "execution_count": 21,
   "outputs": [
    {
     "name": "stdout",
     "output_type": "stream",
     "text": [
      "Siga intentando\n",
      "sigan viendo\n",
      "Hola :)\n"
     ]
    }
   ]
  },
  {
   "cell_type": "markdown",
   "metadata": {
    "cell_id": "d567ffc78ab5455f8824406c299c96a7",
    "deepnote_cell_type": "markdown"
   },
   "source": [
    "## Ejercicio 4\n",
    "- Continuemos con el codigo de la contrasena! Ahora si la contrasena es incorrecta se debera mostrar un mensaje al usuario `Contrasena incorrecta, vuelva a intentarlo`"
   ],
   "block_group": "d567ffc78ab5455f8824406c299c96a7"
  },
  {
   "cell_type": "code",
   "metadata": {
    "source_hash": null,
    "execution_start": 1692994910367,
    "execution_millis": 7,
    "deepnote_to_be_reexecuted": false,
    "cell_id": "6af4022eeffe4ad988d9f3c1b1c13a94",
    "deepnote_cell_type": "code",
    "ExecuteTime": {
     "end_time": "2023-09-06T13:06:38.684537Z",
     "start_time": "2023-09-06T13:06:38.333976300Z"
    }
   },
   "source": [
    "# Introduzca la contrasena correcta para tener acceso!\n",
    "password = \"mypassword\" \n",
    "if password == \"password123\":\n",
    "    print(\"Tienes acceso!\")\n",
    "# Else ... "
   ],
   "block_group": "6af4022eeffe4ad988d9f3c1b1c13a94",
   "execution_count": 6,
   "outputs": []
  },
  {
   "cell_type": "markdown",
   "metadata": {
    "cell_id": "521434b8819a42609b975ecdb140a221",
    "deepnote_cell_type": "markdown"
   },
   "source": [
    "## Ejercicio 5\n",
    "- Enseña a su programa a mostrar la frase `Nuevos mensajes: {messages_count variable value}` cuando la variable `messages_count` tome valores superiores a 0. "
   ],
   "block_group": "521434b8819a42609b975ecdb140a221"
  },
  {
   "cell_type": "code",
   "metadata": {
    "source_hash": null,
    "execution_start": 1692994921050,
    "execution_millis": 10,
    "deepnote_to_be_reexecuted": false,
    "cell_id": "e88bd3a673b342daba10480aff6e9e4b",
    "deepnote_cell_type": "code",
    "ExecuteTime": {
     "end_time": "2023-09-06T14:07:29.495757200Z",
     "start_time": "2023-09-06T14:07:29.479284600Z"
    }
   },
   "source": [
    "# Ejecute la celda varias veces y modifique el valor de esta variable\n",
    "messages_count = 2\n",
    "\n",
    "# CODIGO AQUI!\n",
    "if messages_count > 0:\n",
    "    print(f'Nuevos mensaje: {messages_count}')\n"
   ],
   "block_group": "e88bd3a673b342daba10480aff6e9e4b",
   "execution_count": 34,
   "outputs": [
    {
     "name": "stdout",
     "output_type": "stream",
     "text": [
      "Nuevos mensaje: 2\n"
     ]
    }
   ]
  },
  {
   "cell_type": "markdown",
   "metadata": {
    "cell_id": "c566c4d65d7d4f86a73a78610676e74f",
    "deepnote_cell_type": "markdown"
   },
   "source": [
    "## Ejercicio 6\n",
    "- Ahora si la variable `messages_count` es igual a cero, su programa debería mostrar la frase `'No tienes mensajes nuevos'.`\n"
   ],
   "block_group": "c566c4d65d7d4f86a73a78610676e74f"
  },
  {
   "cell_type": "code",
   "metadata": {
    "source_hash": null,
    "execution_start": 1692994932659,
    "execution_millis": 8,
    "deepnote_to_be_reexecuted": false,
    "cell_id": "6a23b234d37946ccb0b3d4ff0b71cde9",
    "deepnote_cell_type": "code",
    "ExecuteTime": {
     "end_time": "2023-09-06T14:09:09.119730300Z",
     "start_time": "2023-09-06T14:09:09.096785400Z"
    }
   },
   "source": [
    "# Ejecute la celda varias veces y modifique el valor de esta variable\n",
    "messages_count = 0\n",
    "\n",
    "# CODIGO AQUI\n",
    "if messages_count == 0:\n",
    "    print(f'No tienes mensajes nuevos')"
   ],
   "block_group": "6a23b234d37946ccb0b3d4ff0b71cde9",
   "execution_count": 35,
   "outputs": [
    {
     "name": "stdout",
     "output_type": "stream",
     "text": [
      "No tienes mensajes nuevos\n"
     ]
    }
   ]
  },
  {
   "cell_type": "markdown",
   "metadata": {
    "cell_id": "bfd81b9355984f2d9d1649c8df710e03",
    "deepnote_cell_type": "markdown"
   },
   "source": [
    "## Ejercicio 7\n",
    "- Enseña a su programa a desearte `\"Buenos días\"` si la variable `current_hour` contiene un valor inferior a 12.\n"
   ],
   "block_group": "bfd81b9355984f2d9d1649c8df710e03"
  },
  {
   "cell_type": "code",
   "metadata": {
    "source_hash": null,
    "execution_start": 1692994941343,
    "execution_millis": 14,
    "deepnote_to_be_reexecuted": false,
    "cell_id": "c3476f2aa6b94b2da9c0716678f88516",
    "deepnote_cell_type": "code",
    "ExecuteTime": {
     "end_time": "2023-09-06T14:11:30.018451100Z",
     "start_time": "2023-09-06T14:11:30.004529Z"
    }
   },
   "source": [
    "# Ejecute la celda varias veces y modifique el valor de esta variable\n",
    "current_hour = 12\n",
    "\n",
    "# CODIGO AQUI\n",
    "if current_hour < 12:\n",
    "    print(f'Good morning Alessandro')\n",
    "else:\n",
    "    print('Ya es muy tarde, sigan viendo')"
   ],
   "block_group": "c3476f2aa6b94b2da9c0716678f88516",
   "execution_count": 41,
   "outputs": [
    {
     "name": "stdout",
     "output_type": "stream",
     "text": [
      "Ya es muy tarde, sigan viendo\n"
     ]
    }
   ]
  },
  {
   "cell_type": "markdown",
   "metadata": {
    "cell_id": "b0004bf31c0b46309af11b080ce73663",
    "deepnote_cell_type": "markdown"
   },
   "source": [
    "## Ejercicio 8\n",
    "Sigamos trabajando en el código del ejercicio anterior. Si es mediodía o más tarde, su programa debería decir: `'¡Buenas tardes!'`"
   ],
   "block_group": "b0004bf31c0b46309af11b080ce73663"
  },
  {
   "cell_type": "code",
   "metadata": {
    "source_hash": null,
    "execution_start": 1692994952143,
    "execution_millis": 14,
    "deepnote_to_be_reexecuted": false,
    "cell_id": "028b08f0b23c4f1491b03e7cbaf33db5",
    "deepnote_cell_type": "code",
    "ExecuteTime": {
     "end_time": "2023-09-06T14:12:52.370002700Z",
     "start_time": "2023-09-06T14:12:52.362482Z"
    }
   },
   "source": [
    "# Ejecute la celda varias veces y modifique el valor de esta variable\n",
    "current_hour = 23\n",
    "\n",
    "# CODIGO AQUI\n",
    "if current_hour < 12:\n",
    "    print(f'Good morning Alessandro')\n",
    "else:\n",
    "    print('¡Buenas tardes!')"
   ],
   "block_group": "028b08f0b23c4f1491b03e7cbaf33db5",
   "execution_count": 46,
   "outputs": [
    {
     "name": "stdout",
     "output_type": "stream",
     "text": [
      "¡Buenas tardes!\n"
     ]
    }
   ]
  },
  {
   "cell_type": "markdown",
   "metadata": {
    "cell_id": "fae831a6e0a64cadbbd5a06540d8c95d",
    "deepnote_cell_type": "markdown"
   },
   "source": [
    "## Ejercicio 9\n",
    "Analicemos la velocidad del viento en la `escala Beaufort` utilizando ramas en Python.\n",
    "```\n",
    "# Comprueba el valor de la variable beaufort.\n",
    "# Si la velocidad del viento es de 0 nudos, el programa indicará que el tiempo está calmado (sin viento).\n",
    "beaufort = 0\n",
    "if beaufort == 0:\n",
    "    print('calmado')\n",
    "# Si la condición es falsa (la velocidad del viento no es igual a cero), se omitirá este fragmento de código\n",
    "# y no se ejecutará nada\n",
    "```\n",
    "\n",
    "Ahora si la variable beaufort no es igual a cero su programa debera mostrar `Hay viento`"
   ],
   "block_group": "fae831a6e0a64cadbbd5a06540d8c95d"
  },
  {
   "cell_type": "code",
   "metadata": {
    "source_hash": null,
    "execution_start": 1692994961631,
    "execution_millis": 7,
    "deepnote_to_be_reexecuted": false,
    "cell_id": "87439ec8194f4389a47fbfb508bb4cd4",
    "deepnote_cell_type": "code",
    "ExecuteTime": {
     "end_time": "2023-09-06T14:16:52.952816900Z",
     "start_time": "2023-09-06T14:16:52.936569800Z"
    }
   },
   "source": [
    "# Utilice el codigo de arriba para iniciar\n",
    "\n",
    "beaufort = 1\n",
    "if beaufort == 0:\n",
    "    print('calmado')\n",
    "else:\n",
    "    print('Hay viento')"
   ],
   "block_group": "87439ec8194f4389a47fbfb508bb4cd4",
   "execution_count": 48,
   "outputs": [
    {
     "name": "stdout",
     "output_type": "stream",
     "text": [
      "Hay viento\n"
     ]
    }
   ]
  },
  {
   "cell_type": "markdown",
   "metadata": {
    "cell_id": "c2468c103eeb437381c6ae468f9e6671",
    "deepnote_cell_type": "markdown"
   },
   "source": [
    "## Ejercicio 10\n",
    "\n",
    "Tenemos una tienda online y hemos decidido dar cupones de descuento! Le pedimos a los usuarios que introduzcan su cupon! `CUPON123`. Si introducen este cupon correctamente debemos mostrarle que se han ganado el descuento! `Ahora tienes 50% de descuento!`"
   ],
   "block_group": "c2468c103eeb437381c6ae468f9e6671"
  },
  {
   "cell_type": "code",
   "metadata": {
    "source_hash": null,
    "execution_start": 1692994971092,
    "execution_millis": 9,
    "deepnote_to_be_reexecuted": false,
    "cell_id": "78f69709fca841208c3373334500572c",
    "deepnote_cell_type": "code",
    "ExecuteTime": {
     "end_time": "2023-09-06T14:18:02.181483200Z",
     "start_time": "2023-09-06T14:18:02.174609600Z"
    }
   },
   "source": [
    "# El cupon que introduce el usuario\n",
    "coupon = \"123\"\n",
    "\n",
    "# CODIGO AQUI\n",
    "if coupon == '123':\n",
    "    print('Ahora tienes 50% de descuento')\n",
    "    \n"
   ],
   "block_group": "78f69709fca841208c3373334500572c",
   "execution_count": 49,
   "outputs": [
    {
     "name": "stdout",
     "output_type": "stream",
     "text": [
      "Ahora tienes 50% de descuento\n"
     ]
    }
   ]
  },
  {
   "cell_type": "markdown",
   "metadata": {
    "cell_id": "04c591b51842407aa0b627466bf113f1",
    "deepnote_cell_type": "markdown"
   },
   "source": [
    "# Multiple Condiciones\n",
    "Hasta ahora nuestros programas solo tienen dos Condiciones, si pasa algo o si no pasa algo... \n",
    "Normalmente, esto no es asi, si no que se tiene multiples casos!! Por ejemplo, si es de dia (antes de las 12) decimos buenos dias, si es depues de las 12 pero antes de las 6 decimos buenas tardes, etc. Para ello tenemos que aprender a mostrar multiples condiciones. Una forma seria:\n",
    "\n",
    "```\n",
    "...\n",
    "if condicion1:\n",
    "    ...\n",
    "else:\n",
    "    if condicion2:\n",
    "        ...\n",
    "    else:\n",
    "        if condicion3:\n",
    "            ...\n",
    "        else:\n",
    "            if condicion4:\n",
    "                ...\n",
    "```\n",
    "\n",
    "\n",
    "Este tipo de código consiste en muchas declaraciones condicionales anidadas; y cada nuevo bloque anidado está separado por cuatro espacios más, como si el código en sí no fuera ya lo suficientemente difícil de leer.\n",
    "Podemos simplificar este código utilizando la sentencia `elif` que permite comprobar una condición más.\n",
    "`elif` es una declaración anidada para `if`: `\"si la condición de if no se cumple, pero la condición de elif sí, ejecuta el código en el bloque elif\"`.\n",
    "\n",
    "Al igual que la sentencia `if`, `elif` necesita una condición: una expresión booleana que devuelva `True` o `False`.\n",
    "\n",
    "Volvamos a nuestro ejemplo del viento:\n",
    "\n",
    "```\n",
    "if beaufort == 0:\n",
    "    print('Calmado')\n",
    "elif beaufort == 1:\n",
    "    print('Poco aire')\n",
    "elif beaufort == 2:\n",
    "    print('Brisa ligera')\n",
    "...\n",
    "else:\n",
    "    # Si ninguna de las condiciones del código anterior funciona, se ejecuta el código del bloque else\n",
    "    print('Riesgo de vendaval')\n",
    "```"
   ],
   "block_group": "04c591b51842407aa0b627466bf113f1"
  },
  {
   "cell_type": "markdown",
   "metadata": {
    "cell_id": "2228b6ab4b3e4ff189b0c2c24bb3747a",
    "deepnote_cell_type": "markdown"
   },
   "source": [
    "## Ejercicio 11\n",
    "\n",
    "Utiliza las expresiones adecuadas en función del número de mensajes:\n",
    "- 0 — 'No tienes mensajes nuevos. Expira.'\n",
    "- 1 — 'Tienes 1 mensaje nuevo, compruébalo.'\n",
    "- 2 a 4 — 'Tienes <number> mensajes nuevos. Es el momento de echarles un vistazo.'\n",
    "- 5 o más — 'Tienes <number> mensajes nuevos. ¿Son spam?'"
   ],
   "block_group": "2228b6ab4b3e4ff189b0c2c24bb3747a"
  },
  {
   "cell_type": "code",
   "metadata": {
    "source_hash": null,
    "execution_start": 1692994989567,
    "execution_millis": 8,
    "deepnote_to_be_reexecuted": false,
    "cell_id": "729c9e707c36494b97dbc7301dce21c4",
    "deepnote_cell_type": "code",
    "ExecuteTime": {
     "end_time": "2023-09-06T15:23:57.833390100Z",
     "start_time": "2023-09-06T15:23:57.826590Z"
    }
   },
   "source": [
    "# Modifique el valor de esta varible para probar su codigo\n",
    "messages_count = 5\n",
    "\n",
    "# CODIGO AQUI\n",
    "if messages_count == 0:\n",
    "    print(f'No tienes mensajes nuevos. Expira')\n",
    "elif messages_count == 1:\n",
    "    print(f'Tienes un mensaje nuevo,compruebalo')\n",
    "elif messages_count < 4:\n",
    "    print(f'Tienes mensajes nuevos. Es el momento de echarles un vistazo')\n",
    "else:\n",
    "    print(f'Tienes mensajes nuevos. Son spam?')\n",
    "\n",
    "    \n",
    "    \n",
    "    "
   ],
   "block_group": "729c9e707c36494b97dbc7301dce21c4",
   "execution_count": 56,
   "outputs": [
    {
     "name": "stdout",
     "output_type": "stream",
     "text": [
      "Tienes mensajes nuevos. Son spam?\n"
     ]
    }
   ]
  },
  {
   "cell_type": "markdown",
   "metadata": {
    "cell_id": "70aa8b8008154461aeda0e7434a8c70e",
    "deepnote_cell_type": "markdown"
   },
   "source": [
    "## Ejercicio 12\n",
    "\n",
    "En muchos países del mundo, los saludos dependen de la hora del día. Por ejemplo, en español utilizamos los siguientes saludos:\n",
    "- De 6:00 a 12:00\tBuenos dias!\n",
    "- 12-8\tBuenas tardes!\n",
    "- 8+\tBuenas noches!\n"
   ],
   "block_group": "70aa8b8008154461aeda0e7434a8c70e"
  },
  {
   "cell_type": "code",
   "metadata": {
    "source_hash": null,
    "execution_start": 1692995002440,
    "execution_millis": 8,
    "deepnote_to_be_reexecuted": false,
    "cell_id": "eb4e1c11eabc48b488fd2ae4967786fa",
    "deepnote_cell_type": "code",
    "ExecuteTime": {
     "end_time": "2023-09-06T15:38:54.769090800Z",
     "start_time": "2023-09-06T15:38:54.753618300Z"
    }
   },
   "source": [
    "# Modifique el valor de esta varible para probar su codigo\n",
    "current_hour = 2\n",
    "\n",
    "# Termine el codigo\n",
    "if 6 <= current_hour <= 12:\n",
    "    print('Buenos dias')\n",
    "elif 12 <= current_hour <= 20:\n",
    "    print('Buenos Tardes')\n",
    "else:\n",
    "    print('Buenas noches!')\n",
    "    "
   ],
   "block_group": "eb4e1c11eabc48b488fd2ae4967786fa",
   "execution_count": 87,
   "outputs": [
    {
     "name": "stdout",
     "output_type": "stream",
     "text": [
      "Buenas noches!\n"
     ]
    }
   ]
  },
  {
   "cell_type": "markdown",
   "metadata": {
    "cell_id": "6a081bc9fa55453e805ce29afbe38cd7",
    "deepnote_cell_type": "markdown"
   },
   "source": [
    "# Expresiones booleanas\n",
    "Además de los operadores de comparación simples...\n",
    "- \"Igual a\" `==`\n",
    "- \"Menor que\" `<`\n",
    "- \"Mayor que\" `>`\n",
    "\n",
    "Hay operadores más complejos que tienen en cuenta dos condiciones a la vez:\n",
    "\n",
    "- Mayor o igual que `>=`,\n",
    "- Menor o igual que `<=`,\n",
    "- No es igual `!=`.\n",
    "\n",
    "Por ejemplo:\n",
    "```\n",
    "# Si el viento tiene un número Beaufort de seis o más\n",
    "if beaufort >= 6:\n",
    "    print('¡Cuidado, hace mucho viento ahí fuera!')\n",
    "\n",
    "# Si el viento tiene un número Beaufort de cuatro o menos\n",
    "if beaufort <= 4:\n",
    "    print('Brisa ligera')\n",
    "\n",
    "# Si hay un poco de viento\n",
    "if beaufort != 0:\n",
    "    print ('Ventoso')\n",
    "```"
   ],
   "block_group": "6a081bc9fa55453e805ce29afbe38cd7"
  },
  {
   "cell_type": "markdown",
   "metadata": {
    "cell_id": "08ab6b26894f476083e0a68d6df37433",
    "deepnote_cell_type": "markdown"
   },
   "source": [
    "Cuando hay que elegir entre dos condiciones, se utilizan operaciones lógicas.\n",
    "\n",
    "El operador `or`, llamado `\"OR lógico\"`, devuelve `True` si al menos una de las condiciones es verdadera.\n",
    "\n",
    "```\n",
    "# Si el viento tiene un número de Beaufort de 7, 8 o 9, se denomina vendaval\n",
    "if beaufort == 0:\n",
    "    print('Calmado')\n",
    "elif beaufort == 1:\n",
    "    print('Poco aire')\n",
    "elif beaufort == 2:\n",
    "    print('Brisa ligera')\n",
    "elif beaufort == 3:\n",
    "    print('Suave brisa')\n",
    "elif beaufort == 4:\n",
    "    print('Brisa moderada')\n",
    "elif beaufort == 5:\n",
    "    print('Brisa fresca')\n",
    "elif beaufort == 6:\n",
    "    print('Brisa fuerte')\n",
    "elif beaufort == 7 or beaufort == 8:\n",
    "    print('Riesgo de vendaval')\n",
    "```"
   ],
   "block_group": "08ab6b26894f476083e0a68d6df37433"
  },
  {
   "cell_type": "markdown",
   "metadata": {
    "cell_id": "e1341a15dadb41bfb59f4c1cdf181bbc",
    "deepnote_cell_type": "markdown"
   },
   "source": [
    "El operador `and`, un `\"AND lógico\"`, devuelve True solo si ambas condiciones son verdaderas.\n",
    "\n",
    "```\n",
    "# si el viento tiene un número Beaufort entre 9 y 11, se clasifica como tormenta (de fuerza variable)\n",
    "if beaufort == 0:\n",
    "    print('Calmado')\n",
    "elif beaufort == 1:\n",
    "    print('Poco aire')\n",
    "elif beaufort == 2:\n",
    "    print('Brisa ligera')\n",
    "elif beaufort == 3:\n",
    "    print(('Suave brisa')\n",
    "elif beaufort == 4:\n",
    "    print('Brisa moderada')\n",
    "elif beaufort == 5:\n",
    "    print('Brisa fresca')\n",
    "elif beaufort == 6:\n",
    "    print('Brisa fuerte')\n",
    "elif beaufort == 7 or beaufort == 8:\n",
    "    print('Riesgo de vendaval')\n",
    "elif beaufort >= 9 and beaufort <= 11:\n",
    "    print('Tormenta')\n",
    "elif beaufort == 12:\n",
    "    print('Huracán')\n",
    "else:  # else también puede estar al final, después de la cadena elif\n",
    "    print('Valor desconocido')\n",
    "```"
   ],
   "block_group": "e1341a15dadb41bfb59f4c1cdf181bbc"
  },
  {
   "cell_type": "markdown",
   "metadata": {
    "cell_id": "c41e8d2b7dfa4d64952717167a44103c",
    "deepnote_cell_type": "markdown"
   },
   "source": [
    "## Ejercicio 13\n",
    "Sustituye los puntos susensivos `\"...\"` de las condiciones por los operadores lógicos `and` u `or`."
   ],
   "block_group": "c41e8d2b7dfa4d64952717167a44103c"
  },
  {
   "cell_type": "code",
   "metadata": {
    "source_hash": null,
    "execution_start": 1692995036383,
    "execution_millis": 12,
    "deepnote_to_be_reexecuted": false,
    "cell_id": "924989f10c78452ca64a61ed5ba69f75",
    "deepnote_cell_type": "code",
    "ExecuteTime": {
     "end_time": "2023-09-11T16:09:50.738491500Z",
     "start_time": "2023-09-11T16:09:50.714964700Z"
    }
   },
   "source": [
    "# Modifique el valor de esta varible para probar su codigo\n",
    "current_hour = 11\n",
    "\n",
    "print('The time is ' + str(current_hour) + ':00.')\n",
    "\n",
    "if current_hour >= 6 and current_hour <= 11 :  \n",
    "    print('Good morning!')\n",
    "elif current_hour >= 12 and current_hour <= 17:  \n",
    "    print('Good afternoon!')\n",
    "elif current_hour >= 18 and current_hour <= 22:                       \n",
    "    print('Good evening!')\n",
    "elif current_hour <= 5 or current_hour >= 23:\n",
    "    print('Good night!')"
   ],
   "block_group": "924989f10c78452ca64a61ed5ba69f75",
   "execution_count": 11,
   "outputs": [
    {
     "name": "stdout",
     "output_type": "stream",
     "text": [
      "The time is 11:00.\n",
      "Good morning!\n"
     ]
    }
   ]
  },
  {
   "cell_type": "markdown",
   "metadata": {
    "cell_id": "e9ce95d122e443fc9ea05a5e25826259",
    "deepnote_cell_type": "markdown"
   },
   "source": [
    "## Ejercicio 14\n",
    "Enseña a tu programa a informarte de los nuevos mensajes si no hay más de veinte. Dependiendo de la variable `message_count` su programa deberia mostrar uno de estos mensajes:\n",
    "\n",
    "```\n",
    "No tienes mensajes nuevos. Expira.\n",
    "Tienes 1 mensaje nuevo, compruébalo.\n",
    "Tienes de 2 a 4 mensajes nuevos, es momento de echarles un vistazo.\n",
    "Tienes entre 5 y 20 mensajes nuevos, ¿Son spam?\n",
    "```\n",
    "\n",
    "Aplica los operadores lógicos `or` y/o `and`, además de la ramificación múltiple con `elif` para que su programa pueda responderte siguiendo el patrón anterior. Por ejemplo: `\"Tienes 1 mensaje nuevo, compruébalo.\"`, `\"Tienes 4 mensajes nuevos, es momento de echarles un vistazo\"`, `\"Tienes 10 mensajes nuevos, ¿Son spam?\"`"
   ],
   "block_group": "e9ce95d122e443fc9ea05a5e25826259"
  },
  {
   "cell_type": "code",
   "metadata": {
    "source_hash": null,
    "execution_start": 1692995052951,
    "execution_millis": 23,
    "deepnote_to_be_reexecuted": false,
    "cell_id": "b1690feb648b4c00bf065e01583da400",
    "deepnote_cell_type": "code",
    "ExecuteTime": {
     "end_time": "2023-09-06T15:57:17.967225800Z",
     "start_time": "2023-09-06T15:57:17.953717800Z"
    }
   },
   "source": [
    "# Modifique el valor de esta varible para probar su codigo\n",
    "messages_count = 50\n",
    "\n",
    "# Añade nuevas condiciones a elif y else\n",
    "if messages_count == 0:\n",
    "    print('No tienes mensajes nuevos. Expira')\n",
    "elif messages_count == 1:\n",
    "    print('Tienes un mensaje nuevo, compruebalo')\n",
    "elif messages_count >= 2 and messages_count <= 4:  \n",
    "    print('Tienes de 2 a 4 mensajes nuevos, es momento de echarles un vistazo')\n",
    "elif messages_count >= 5 and messages_count <= 20:  \n",
    "    print('Tienes entre 5 y 20 mensajes nuevos, son spam?')\n",
    "else:\n",
    "    print('Tienes más de 20 mensajes nuevos, estás seguro?')\n"
   ],
   "block_group": "b1690feb648b4c00bf065e01583da400",
   "execution_count": 108,
   "outputs": [
    {
     "name": "stdout",
     "output_type": "stream",
     "text": [
      "Tienes más de 20 mensajes nuevos, estás seguro?\n"
     ]
    }
   ]
  }
 ],
 "nbformat": 4,
 "nbformat_minor": 0,
 "metadata": {
  "deepnote": {},
  "orig_nbformat": 2,
  "deepnote_notebook_id": "8be2cb00acb240608c8afdba0cfe3279",
  "deepnote_persisted_session": {
   "createdAt": "2023-08-25T21:01:48.577Z"
  },
  "deepnote_execution_queue": [],
  "kernelspec": {
   "name": "python3",
   "language": "python",
   "display_name": "Python 3 (ipykernel)"
  }
 }
}
