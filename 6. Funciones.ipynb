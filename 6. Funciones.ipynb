{
 "cells": [
  {
   "cell_type": "markdown",
   "metadata": {
    "cell_id": "2c76fc31c1cf4054830aa4ef32f869fd",
    "deepnote_cell_type": "markdown"
   },
   "source": [
    "# Funciones\n",
    "A veces es necesario realizar los mismos pasos en diferentes partes del programa. La solución más sencilla es copiar el código necesario y pegarlo donde sea necesario."
   ],
   "block_group": "2c76fc31c1cf4054830aa4ef32f869fd"
  },
  {
   "cell_type": "markdown",
   "metadata": {
    "cell_id": "b8ee2fd957614413b61554f4756913b3",
    "deepnote_cell_type": "markdown"
   },
   "source": [
    "## Ejercicio 1\n",
    "1. Cree una funcion llamada `hello` sin argumentos\n",
    "2. La funcion debe mostrar el mensaje `Hello there! :)`\n",
    "3. Llame la funcion "
   ],
   "block_group": "b8ee2fd957614413b61554f4756913b3"
  },
  {
   "cell_type": "code",
   "metadata": {
    "cell_id": "2cddbdbc176145cf81896dd1ec614484",
    "deepnote_cell_type": "code",
    "ExecuteTime": {
     "end_time": "2023-09-11T18:41:07.778837600Z",
     "start_time": "2023-09-11T18:41:07.524945700Z"
    }
   },
   "source": [
    "# Codigo aqui+\n",
    "def hello():\n",
    "    print('Hello There! :)')\n",
    "hello()"
   ],
   "block_group": "2cddbdbc176145cf81896dd1ec614484",
   "execution_count": 18,
   "outputs": [
    {
     "name": "stdout",
     "output_type": "stream",
     "text": [
      "Hello There! :)\n"
     ]
    }
   ]
  },
  {
   "cell_type": "markdown",
   "metadata": {
    "cell_id": "d8cc2562c06943239b4913421cd8fd1f",
    "deepnote_cell_type": "markdown"
   },
   "source": [
    "## Ejercicio 2\n",
    "1. Cree una funcion llamada `hello` con un argumento `name`\n",
    "2. La funcion debe mostrar el mensaje `{el nombre en la variable name} Te saludo!`\n",
    "3. Llame la funcion dos veces, en cada llamada el nombre debe ser distinto\n",
    " "
   ],
   "block_group": "d8cc2562c06943239b4913421cd8fd1f"
  },
  {
   "cell_type": "code",
   "metadata": {
    "cell_id": "97d335de6a734c4bbcdccf14b8085221",
    "deepnote_cell_type": "code",
    "ExecuteTime": {
     "end_time": "2023-09-11T18:41:07.792797200Z",
     "start_time": "2023-09-11T18:41:07.532670800Z"
    }
   },
   "source": [
    "# Codigo aqui\n",
    "\n",
    "def hello(name):\n",
    "    print(f'{name} Te saludo!')\n",
    "hello('Sandro')\n",
    "hello('Juan')\n",
    "hello('Maria')\n",
    "hello('David')\n"
   ],
   "block_group": "97d335de6a734c4bbcdccf14b8085221",
   "execution_count": 19,
   "outputs": [
    {
     "name": "stdout",
     "output_type": "stream",
     "text": [
      "Sandro Te saludo!\n",
      "Juan Te saludo!\n",
      "Maria Te saludo!\n",
      "David Te saludo!\n"
     ]
    }
   ]
  },
  {
   "cell_type": "markdown",
   "metadata": {
    "cell_id": "2a7e51f13e244b71b439d590c3444410",
    "deepnote_cell_type": "markdown"
   },
   "source": [
    "## Ejercicio 3\n",
    "1. Cree una funcion llamada `hello` con dos argumentos `name` y `bonus`\n",
    "2. La funcion debe mostrar el mensaje `{el nombre en la variable name} Te saludo! Sirvete {la variable bonus}`\n",
    "3. Llame la funcion dos veces, en cada llamada los argumentos deben ser distintos"
   ],
   "block_group": "2a7e51f13e244b71b439d590c3444410"
  },
  {
   "cell_type": "code",
   "metadata": {
    "cell_id": "bbad8eb5b4264d5bbdb5d67c8265631f",
    "deepnote_cell_type": "code",
    "ExecuteTime": {
     "end_time": "2023-09-11T18:41:07.805762900Z",
     "start_time": "2023-09-11T18:41:07.538332300Z"
    }
   },
   "source": [
    "# Codigo aqui\n",
    "\n",
    "def hello(name,bonus):\n",
    "    \n",
    "    print(f'{name} Te saludo!' f' Sirvete {bonus}')\n",
    "    \n",
    "hello('Sandro','comida')\n",
    "hello('Juan','bebida')\n"
   ],
   "block_group": "bbad8eb5b4264d5bbdb5d67c8265631f",
   "execution_count": 20,
   "outputs": [
    {
     "name": "stdout",
     "output_type": "stream",
     "text": [
      "Sandro Te saludo! Sirvete comida\n",
      "Juan Te saludo! Sirvete bebida\n"
     ]
    }
   ]
  },
  {
   "cell_type": "markdown",
   "metadata": {
    "cell_id": "8f338637f5e9452c9e85a937aa48762a",
    "deepnote_cell_type": "markdown"
   },
   "source": [
    "## Ejercicio 4\n",
    "1. Cree una funcion `say_hello` sin argumentos\n",
    "2. Mueva el codigo de la celda de abajo dentro de su funcion\n",
    "3. Llame la funcion con diferentes argumentos\n",
    "4. Cree un bucle `for` que llame la funcion 24 veces. En donde la variable `current_hour` tendra los valores de `0 ... 23`"
   ],
   "block_group": "8f338637f5e9452c9e85a937aa48762a"
  },
  {
   "cell_type": "code",
   "metadata": {
    "cell_id": "3e7e17410bf64d73aa29cc107491fe5e",
    "deepnote_cell_type": "code",
    "ExecuteTime": {
     "end_time": "2023-09-11T18:41:07.806760200Z",
     "start_time": "2023-09-11T18:41:07.549448100Z"
    }
   },
   "source": [
    "# Cree la funcion say_hello y mueva el codigo\n",
    "\n",
    "def say_hello(current_hour):\n",
    "    if current_hour <= 5 or current_hour >= 23:\n",
    "        print('Good night!')\n",
    "    elif current_hour >= 6 and current_hour <= 11:\n",
    "        print('Good morning!')\n",
    "    elif current_hour >= 12 and current_hour <= 17:\n",
    "        print('Good afternoon!')\n",
    "    elif current_hour >= 18 and current_hour <= 22:\n",
    "        print('Good evening!')\n",
    "\n",
    "# Llama a say_hello() varias veces con diferentes argumentos:\n",
    "\n",
    "say_hello(5)\n",
    "say_hello(11)\n",
    "\n",
    "# Cree un bucle for para llamar la funcion 24 veces\n",
    "\n",
    "for i in range(24):\n",
    "    say_hello(i)\n",
    "    \n",
    "    "
   ],
   "block_group": "3e7e17410bf64d73aa29cc107491fe5e",
   "execution_count": 21,
   "outputs": [
    {
     "name": "stdout",
     "output_type": "stream",
     "text": [
      "Good night!\n",
      "Good morning!\n",
      "Good night!\n",
      "Good night!\n",
      "Good night!\n",
      "Good night!\n",
      "Good night!\n",
      "Good night!\n",
      "Good morning!\n",
      "Good morning!\n",
      "Good morning!\n",
      "Good morning!\n",
      "Good morning!\n",
      "Good morning!\n",
      "Good afternoon!\n",
      "Good afternoon!\n",
      "Good afternoon!\n",
      "Good afternoon!\n",
      "Good afternoon!\n",
      "Good afternoon!\n",
      "Good evening!\n",
      "Good evening!\n",
      "Good evening!\n",
      "Good evening!\n",
      "Good evening!\n",
      "Good night!\n"
     ]
    }
   ]
  },
  {
   "cell_type": "markdown",
   "metadata": {
    "cell_id": "05c6a4a9aeda45099de12de92f481a68",
    "deepnote_cell_type": "markdown"
   },
   "source": [
    "## Ejercicio 5\n",
    "A menudo, se tiene que presentarse a los usuarios. Lo práctico sería definir una función que muestre sus mensajes de presentación. Entonces podrás llamar a esta función desde cualquier parte del programa y el programa se presentará al usuario.\n",
    "1. Define la función say_about() que muestra el mensaje de saludo.\n",
    "2. Llama a esta función para asegurarte de que funciona como es debido."
   ],
   "block_group": "05c6a4a9aeda45099de12de92f481a68"
  },
  {
   "cell_type": "code",
   "metadata": {
    "cell_id": "c9a10e23c7bf400f9890a833017f888c",
    "deepnote_cell_type": "code",
    "ExecuteTime": {
     "end_time": "2023-09-11T18:41:07.806760200Z",
     "start_time": "2023-09-11T18:41:07.560489Z"
    }
   },
   "source": [
    "# Define say_about()\n",
    "def say_about():\n",
    "    \n",
    "    # Inserta el siguiente código en el cuerpo de la función\n",
    "    print('¡Hola, me llamo Siri!')\n",
    "    print('Soy su asistente/a personal.')\n",
    "    print('Aun no me he desarrollado,')\n",
    "    print('pero estoy en constante crecimiento y haciéndome más inteligente')\n",
    "    print('¡mi código se actualiza cada día!')\n",
    "\n",
    "say_about()\n",
    "# Llama a say_about() a continuación\n"
   ],
   "block_group": "c9a10e23c7bf400f9890a833017f888c",
   "execution_count": 22,
   "outputs": [
    {
     "name": "stdout",
     "output_type": "stream",
     "text": [
      "¡Hola, me llamo Siri!\n",
      "Soy su asistente/a personal.\n",
      "Aun no me he desarrollado,\n",
      "pero estoy en constante crecimiento y haciéndome más inteligente\n",
      "¡mi código se actualiza cada día!\n"
     ]
    }
   ]
  },
  {
   "cell_type": "markdown",
   "metadata": {
    "cell_id": "e040056fa74f43d0bc181726766d2636",
    "deepnote_cell_type": "markdown"
   },
   "source": [
    "## Ejercicio 6\n",
    "Defina una función para mostrar el número de amigos, `print_friends_count()`. Pasa el número de amigos a la función cuando la llames. El argumetno se llamará `friends_count`.\n",
    "Llama a esta función con diferentes valores del argumento al menos tres veces. La función debe devolver el número de amigos siempre que la variable `friends_count` sea mayor que cero. En caso de que haya menos de `20` amigos, la frase que se devuelve debe ser específica. De lo contrario, muestra el mensaje: `'¡Vaya, tienes muchos amigos! Yo he contado que tienes {friends_count}'`\n",
    "\n",
    "Cuando `friends_count` es igual a cero se debe mostrar\n",
    "```\n",
    "Todavía no tienes amigos, ¡pero seguro que pronto los tendrás!\n",
    "```\n",
    "\n",
    "Cuando `friends_count` es igual a uno se debe mostrar\n",
    "```\n",
    "Solo tienes un amigo o una amiga, pero es el/la mejor de todos.\n",
    "```\n",
    "\n",
    "Cuando `friends_count` esta en el rango 2-4 se debe mostrar\n",
    "```\n",
    "Tienes de 2 a 4 amigos, un equipo perfecto.\n",
    "```\n",
    "\n",
    "Cuando `friends_count` esta en el rango 5-19 se debe mostrar\n",
    "```\n",
    "Tienes entre 5 y 19 amigos, ¡increíble!\n",
    "```\n",
    "\n",
    "Cuando `friends_count` es mayor o igual 20 se debe mostrar\n",
    "```\n",
    "¡Vaya, tienes muchos amigos! ¡Yo he contado que tienes 20! \n",
    "```"
   ],
   "block_group": "e040056fa74f43d0bc181726766d2636"
  },
  {
   "cell_type": "code",
   "metadata": {
    "cell_id": "40b066da4ba64599944819a32808ac6a",
    "deepnote_cell_type": "code",
    "ExecuteTime": {
     "end_time": "2023-09-11T18:41:07.812744900Z",
     "start_time": "2023-09-11T18:41:07.569197Z"
    }
   },
   "source": [
    "# Codigo aqui\n",
    "\n",
    "def num_friends(friends_count):\n",
    "    if friends_count == 0:\n",
    "        print('Todavía no tienes amigos, ¡pero seguro que pronto los tendrás!')\n",
    "    if friends_count == 1:\n",
    "        print('Solo tienes un amigo o una amiga, pero es el/la mejor de todos.')\n",
    "    if friends_count >= 2 and friends_count <=4:\n",
    "        print('Tienes de 2 a 4 amigos, un equipo perfecto.')\n",
    "    if friends_count >= 5 and friends_count <=19:\n",
    "        print('Tienes entre 5 y 19 amigos, ¡increíble!')\n",
    "    if friends_count >=20:\n",
    "        print(f'¡Vaya, tienes muchos amigos! Yo he contado que tienes {friends_count}')\n",
    "num_friends(0)\n",
    "num_friends(1)\n",
    "num_friends(2)\n",
    "num_friends(5)\n",
    "num_friends(50)\n",
    "  "
   ],
   "block_group": "40b066da4ba64599944819a32808ac6a",
   "execution_count": 23,
   "outputs": [
    {
     "name": "stdout",
     "output_type": "stream",
     "text": [
      "Todavía no tienes amigos, ¡pero seguro que pronto los tendrás!\n",
      "Solo tienes un amigo o una amiga, pero es el/la mejor de todos.\n",
      "Tienes de 2 a 4 amigos, un equipo perfecto.\n",
      "Tienes entre 5 y 19 amigos, ¡increíble!\n",
      "¡Vaya, tienes muchos amigos! Yo he contado que tienes 50\n"
     ]
    }
   ]
  },
  {
   "cell_type": "markdown",
   "metadata": {
    "cell_id": "9b9027ea6c544e1ebe44cde791a79884",
    "deepnote_cell_type": "markdown"
   },
   "source": [
    "## Ejercicio 7\n",
    "Escribe un `for` loop que llame a `print_friends_count()`, pasando los números de `0 a 20` como argumentos.\n",
    "No cambies la definición de la función. Comienza tu bucle `for` en una nueva línea después de la función, sin sangría."
   ],
   "block_group": "9b9027ea6c544e1ebe44cde791a79884"
  },
  {
   "cell_type": "code",
   "metadata": {
    "source_hash": null,
    "execution_start": 1692995458523,
    "execution_millis": 7,
    "deepnote_to_be_reexecuted": false,
    "cell_id": "654c501d2d0049c0887a8bac50b2c5bf",
    "deepnote_cell_type": "code",
    "ExecuteTime": {
     "end_time": "2023-09-11T18:41:07.825920900Z",
     "start_time": "2023-09-11T18:41:07.579056200Z"
    }
   },
   "source": [
    "# codigo aqui\n",
    "def num_friends(friends_count):\n",
    "    if friends_count == 0:\n",
    "        print('Todavía no tienes amigos, ¡pero seguro que pronto los tendrás!')\n",
    "    if friends_count == 1:\n",
    "        print('Solo tienes un amigo o una amiga, pero es el/la mejor de todos.')\n",
    "    if friends_count >= 2 and friends_count <=4:\n",
    "        print('Tienes de 2 a 4 amigos, un equipo perfecto.')\n",
    "    if friends_count >= 5 and friends_count <=19:\n",
    "        print('Tienes entre 5 y 19 amigos, ¡increíble!')\n",
    "    if friends_count >=20:\n",
    "        print(f'¡Vaya, tienes muchos amigos! Yo he contado que tienes {friends_count}')\n",
    "        \n",
    "for i in range(24):\n",
    "    num_friends(i)"
   ],
   "block_group": "654c501d2d0049c0887a8bac50b2c5bf",
   "execution_count": 24,
   "outputs": [
    {
     "name": "stdout",
     "output_type": "stream",
     "text": [
      "Todavía no tienes amigos, ¡pero seguro que pronto los tendrás!\n",
      "Solo tienes un amigo o una amiga, pero es el/la mejor de todos.\n",
      "Tienes de 2 a 4 amigos, un equipo perfecto.\n",
      "Tienes de 2 a 4 amigos, un equipo perfecto.\n",
      "Tienes de 2 a 4 amigos, un equipo perfecto.\n",
      "Tienes entre 5 y 19 amigos, ¡increíble!\n",
      "Tienes entre 5 y 19 amigos, ¡increíble!\n",
      "Tienes entre 5 y 19 amigos, ¡increíble!\n",
      "Tienes entre 5 y 19 amigos, ¡increíble!\n",
      "Tienes entre 5 y 19 amigos, ¡increíble!\n",
      "Tienes entre 5 y 19 amigos, ¡increíble!\n",
      "Tienes entre 5 y 19 amigos, ¡increíble!\n",
      "Tienes entre 5 y 19 amigos, ¡increíble!\n",
      "Tienes entre 5 y 19 amigos, ¡increíble!\n",
      "Tienes entre 5 y 19 amigos, ¡increíble!\n",
      "Tienes entre 5 y 19 amigos, ¡increíble!\n",
      "Tienes entre 5 y 19 amigos, ¡increíble!\n",
      "Tienes entre 5 y 19 amigos, ¡increíble!\n",
      "Tienes entre 5 y 19 amigos, ¡increíble!\n",
      "Tienes entre 5 y 19 amigos, ¡increíble!\n",
      "¡Vaya, tienes muchos amigos! Yo he contado que tienes 20\n",
      "¡Vaya, tienes muchos amigos! Yo he contado que tienes 21\n",
      "¡Vaya, tienes muchos amigos! Yo he contado que tienes 22\n",
      "¡Vaya, tienes muchos amigos! Yo he contado que tienes 23\n"
     ]
    }
   ]
  },
  {
   "cell_type": "markdown",
   "metadata": {
    "cell_id": "d3debb4ee98747b48b9d9cb216c9436a",
    "deepnote_cell_type": "markdown"
   },
   "source": [
    "## Ejercicio 8\n",
    "El siguiente codigo tiene un error. Necesita ser corregido!"
   ],
   "block_group": "d3debb4ee98747b48b9d9cb216c9436a"
  },
  {
   "cell_type": "code",
   "metadata": {
    "cell_id": "3cbdec6da8354651b4b929d0460b1594",
    "deepnote_cell_type": "code",
    "ExecuteTime": {
     "end_time": "2023-09-11T18:41:07.832693Z",
     "start_time": "2023-09-11T18:41:07.586527900Z"
    }
   },
   "source": [
    "def print_home(name, planet):\n",
    "    print(name + ' vive en el planeta ' + planet)\n",
    "\n",
    "# Pasa un solo argumento en lugar de dos\n",
    "print_home('Yoda','Marte')"
   ],
   "block_group": "3cbdec6da8354651b4b929d0460b1594",
   "execution_count": 25,
   "outputs": [
    {
     "name": "stdout",
     "output_type": "stream",
     "text": [
      "Yoda vive en el planeta Marte\n"
     ]
    }
   ]
  },
  {
   "cell_type": "markdown",
   "metadata": {
    "cell_id": "4a1e9d1864b147a099243422a91a8c28",
    "deepnote_cell_type": "markdown"
   },
   "source": [
    "## Ejercicio 9\n",
    "1. Cree una funcion que devuelva cuantos numeros divisibles entre `5` existen en un rango determinado\n",
    "2. La funcion debe aceptar un argumento\n",
    "3. La funcion debe retornar un valor\n",
    "4. Llame la funcion varias veces con diferentes argumentos\n",
    "5. Muestre el numero que devuelve la funcion"
   ],
   "block_group": "4a1e9d1864b147a099243422a91a8c28"
  },
  {
   "cell_type": "code",
   "metadata": {
    "cell_id": "3fcf3352360847ecbe4898886ce6036f",
    "deepnote_cell_type": "code",
    "ExecuteTime": {
     "end_time": "2023-09-11T19:15:47.985273300Z",
     "start_time": "2023-09-11T19:15:47.958260800Z"
    }
   },
   "source": [
    "\n",
    "# Define su función para contar números divisibles por 5\n",
    "def divisibles(numbers):\n",
    "    count = 0\n",
    "    for number in numbers:\n",
    "        if number % 5 == 0:\n",
    "            count += 1\n",
    "    return count\n",
    "\n",
    "numbers = range(50)\n",
    "numeros = divisibles(numbers)\n",
    "\n",
    "print(f\"Número divisibles por 5 en el rango 0-99: {numeros}\")\n"
   ],
   "block_group": "3fcf3352360847ecbe4898886ce6036f",
   "execution_count": 34,
   "outputs": [
    {
     "name": "stdout",
     "output_type": "stream",
     "text": [
      "Número divisibles por 5 en el rango 0-99: 10\n"
     ]
    }
   ]
  },
  {
   "cell_type": "markdown",
   "metadata": {
    "cell_id": "ccea8203730f4c159d0e1a3bbcdd96f5",
    "deepnote_cell_type": "markdown"
   },
   "source": [
    "## Ejercicio 10\n",
    "1. Termine la función `number_of_occurrences()`  que cuente cuántas veces aparece una letra en una frase. \n",
    "2. La funcion tiene dos argumentos `char` y `frase`.\n",
    "\n",
    "Note que una `string` también es una lista. Al igual que con una lista, puedes hacer un bucle a través de los caracteres de una `string` y encontrar y contar los elementos necesarios."
   ],
   "block_group": "ccea8203730f4c159d0e1a3bbcdd96f5"
  },
  {
   "cell_type": "code",
   "metadata": {
    "cell_id": "4d3c8f905ba249d28e2a76362351470a",
    "deepnote_cell_type": "code",
    "ExecuteTime": {
     "end_time": "2023-09-15T12:02:24.692573200Z",
     "start_time": "2023-09-15T12:02:24.674890500Z"
    }
   },
   "source": [
    "def number_of_occurrences(char, frase):\n",
    "    # Declara una nueva variable count que es igual a cero.\n",
    "    # Almacenará el número de ocurrencias.\n",
    "    count = 0 # cree la variable count\n",
    "    for letter in frase:\n",
    "        # Escribe una condición: compara las variables letter y char,\n",
    "        # y si letter es igual a char, añade 1 al contador.\n",
    "        if letter == char:\n",
    "            count += 1\n",
    "    # Muestra el string inicial:\n",
    "    print('String inicial:', frase)\n",
    "\n",
    "    # Muestra el resultado de los cálculos:\n",
    "    print('El número de ocurrencias para', char, 'es igual a', count)\n",
    "    \n",
    "\n",
    "# No cambies el código que se da a continuación\n",
    "phrase = 'No te preocupes si algo no funciona. Si todo lo hiciera, estarías despedido.'\n",
    "phrase1 = 'alesandro'\n",
    "phrase2 = 'aaaa'\n",
    "# Llama a number_of_occurrences() para contar\n",
    "# cuántas veces aparece la letra 'e'.\n",
    "number_of_occurrences('e', phrase)\n",
    "number_of_occurrences('a', phrase1)\n",
    "number_of_occurrences('a', phrase2)\n"
   ],
   "block_group": "4d3c8f905ba249d28e2a76362351470a",
   "execution_count": 5,
   "outputs": [
    {
     "name": "stdout",
     "output_type": "stream",
     "text": [
      "String inicial: No te preocupes si algo no funciona. Si todo lo hiciera, estarías despedido.\n",
      "El número de ocurrencias para e es igual a 7\n",
      "String inicial: alesandro\n",
      "El número de ocurrencias para a es igual a 2\n",
      "String inicial: aaaa\n",
      "El número de ocurrencias para a es igual a 4\n"
     ]
    }
   ]
  },
  {
   "cell_type": "markdown",
   "metadata": {
    "cell_id": "e5a82b11b2d44820b52c5f4e6533d594",
    "deepnote_cell_type": "markdown"
   },
   "source": [
    "## Ejercicio 11\n",
    "1. Echemos un vistazo a las temperaturas medias diarias en Berlín en mayo de 2017 y mayo de 2018.\n",
    "\n",
    "2. Realice la función `comfort_count(temperatures)` para que cuente los días en los que la temperatura del aire fue de `22 a 26` grados centígrados.\n",
    "\n",
    "3. La función toma un argumento: `la lista temperatures`.\n",
    "\n",
    "4. En el cuerpo de la función, declara una variable de `counter`.\n",
    "\n",
    "5. Utiliza `for temp in temperatures:` para hacer un bucle de los elementos de la lista y encontrar todos los valores de `22 a 26`.\n",
    "\n",
    "6. Para encontrar estos valores, utiliza una desigualdad doble: `\"la temperatura es mayor o igual a 22 Y menor o igual a 26\".`\n",
    "```\n",
    "if temp >= 22 and temp <= 26:\n",
    "Esta desigualdad se puede escribir como un enunciado corto:\n",
    "if 22 <= temp <= 26:\n",
    "Si la condición es verdadera, añade 1 al contador.\n",
    "```\n",
    "\n",
    "Como resultado, la función debe mostrar `'The number of warm days this month: N'` (El número de días cálidos de este mes: `N`), donde `N` es el resultado del cálculo."
   ],
   "block_group": "e5a82b11b2d44820b52c5f4e6533d594"
  },
  {
   "cell_type": "code",
   "metadata": {
    "cell_id": "570606439f1340f689fba750938a897d",
    "deepnote_cell_type": "code",
    "ExecuteTime": {
     "end_time": "2023-09-15T12:51:04.936538400Z",
     "start_time": "2023-09-15T12:51:04.929871900Z"
    }
   },
   "source": [
    "may_2017 = [24, 26, 15, 10, 15, 19, 10, 1, 4, 7, 7, 7, 12, 14, 17, 8, 9, 19, 21, 22, 11, 15, 19, 23, 15, 21, 16, 13, 25, 17, 19]\n",
    "may_2018 = [20, 27, 23, 18, 24, 16, 20, 24, 18, 15, 19, 25, 24, 26, 19, 24, 25, 21, 17, 11, 20, 21, 22, 23, 18, 20, 23, 18, 22, 23, 11]\n",
    "\n",
    "# Defina su funcion aqui\n",
    "\n",
    "def comfort_count(temperatures):\n",
    "    counter = 0\n",
    "    for temp in temperatures:\n",
    "        if 22 <= temp <= 26:\n",
    "            counter += 1 \n",
    "        # Muestra el string inicial:\n",
    "    print('The number of warm days this month:', counter)\n",
    "\n",
    "# No cambies el siguiente código\n",
    "comfort_count(may_2017)  # Conoce el resultado para mayo de 2017\n",
    "comfort_count(may_2018)  # Conoce el resultado para mayo de 2018"
   ],
   "block_group": "570606439f1340f689fba750938a897d",
   "execution_count": 6,
   "outputs": [
    {
     "name": "stdout",
     "output_type": "stream",
     "text": [
      "The number of warm days this month: 5\n",
      "The number of warm days this month: 13\n"
     ]
    }
   ]
  },
  {
   "cell_type": "markdown",
   "metadata": {
    "cell_id": "24ab1d93c44f452884c0e3fb1c6f94df",
    "deepnote_cell_type": "markdown"
   },
   "source": [
    "## Ejercicio 12\n",
    "\n",
    "1. Cree una funcion que verifique la contrasena de un usuario\n",
    "2. La funcion debe tener un argumento `password`\n",
    "3. La funcion debe retornar si la contrasena es verdadera o falsa. Es decir `True` or `False`\n",
    "\n",
    "Note que la funcion puede retornar cualqueir valor. Podemos retornar enteros, flotantes, booleans, etc\n",
    "\n",
    "4. Llame su funcion dos veces para verificar su funcionamiento"
   ],
   "block_group": "24ab1d93c44f452884c0e3fb1c6f94df"
  },
  {
   "cell_type": "code",
   "metadata": {
    "cell_id": "03abc79ba65c4d7eb27e3f0fd11ac706",
    "deepnote_cell_type": "code",
    "ExecuteTime": {
     "end_time": "2023-09-15T12:55:49.182184400Z",
     "start_time": "2023-09-15T12:55:49.164722Z"
    }
   },
   "source": [
    "# codigo aqui\n",
    "def main(pass1,pass2):\n",
    "    if pass1 == pass2:\n",
    "        print('true')\n",
    "    else:\n",
    "        print('false')\n",
    "        \n",
    "main('hola','hola')\n",
    "main(5.1,5.1)\n",
    "main(5.1,5.0)"
   ],
   "block_group": "03abc79ba65c4d7eb27e3f0fd11ac706",
   "execution_count": 15,
   "outputs": [
    {
     "name": "stdout",
     "output_type": "stream",
     "text": [
      "true\n",
      "true\n",
      "false\n"
     ]
    }
   ]
  }
 ],
 "nbformat": 4,
 "nbformat_minor": 0,
 "metadata": {
  "deepnote": {},
  "orig_nbformat": 2,
  "deepnote_notebook_id": "ce73a14e8f6d470d97d0398550d84981",
  "deepnote_execution_queue": [],
  "kernelspec": {
   "name": "python3",
   "language": "python",
   "display_name": "Python 3 (ipykernel)"
  }
 }
}
