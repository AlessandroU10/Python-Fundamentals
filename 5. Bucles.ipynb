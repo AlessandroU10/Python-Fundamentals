{
 "cells": [
  {
   "cell_type": "markdown",
   "metadata": {
    "cell_id": "67a77b5d84854ef881293234f4716a76",
    "deepnote_cell_type": "markdown"
   },
   "source": [
    "# Bucles\n",
    "Pongamos de ejemplo una lista:\n",
    "```\n",
    "ingredients = [\"milk\", \"sugar\", \"vanilla extract\", \"dough\", \"chocolate\"]\n",
    "```\n",
    "Pero queremos mostrar el contenido de esta lista (elemento por elemento) una forma seria la siguiente:\n",
    "```\n",
    "print(ingredients[0])\n",
    "print(ingredients[1])\n",
    "print(ingredients[2])\n",
    "print(ingredients[3])\n",
    "print(ingredients[4])\n",
    "```\n",
    "\n",
    "La salida del codigo:\n",
    "```\n",
    "milk\n",
    "sugar\n",
    "vanilla extract\n",
    "dough\n",
    "chocolate\n",
    "```\n",
    "\n",
    "Okey, se pudo realizar, sin embargo esto seria imposible con una lista de 10000 elementos o incluso mas! Para estas tareas repetitivas es que existen los bucles!\n",
    "\n",
    "Los `bucles` se inventaron para realizar operaciones repetitivas como ésta. Los bucles ejecutan ciertas instrucciones hasta que se cumple una condición determinada."
   ],
   "block_group": "67a77b5d84854ef881293234f4716a76"
  },
  {
   "cell_type": "markdown",
   "metadata": {
    "cell_id": "1b6cc53e924647a0b527980b269ac1d9",
    "deepnote_cell_type": "markdown"
   },
   "source": [
    "# Declaración del bucle\n",
    "\n",
    "Para que el programa entienda dónde empieza un `bucle`, es necesario declarar un bucle (informar al programa sobre el bucle mediante palabras `clave especiales`). Python tiene varios tipos de bucles. El bucle más sencillo para iterar sobre una lista es `for … in ….` Así que empecemos por ahí.\n",
    "\n",
    "Este bucle se declara utilizando las palabras clave `for` e `in`; la declaración del bucle debe terminar siempre con dos puntos.\n",
    "\n",
    "Debajo de la declaración escribirás el `cuerpo del bucle`: el código que describe lo que hay que hacer con cada elemento de la lista.\n",
    "\n",
    "Sintaxis:\n",
    "```\n",
    "for <variable temporal> in <lista>:\n",
    "  <acciones>\n",
    "```\n",
    "\n",
    "Desglosemos cada uno de estos componentes:\n",
    "\n",
    "1. Una palabra clave `for` indica el comienzo de un bucle for.\n",
    "2. Una `<variable temporal>` que se usa para representar el valor del elemento en la colección en la que se encuentra actualmente el bucle.\n",
    "3. Una palabra clave `in` separa la `variable temporal` de la `lista` utilizada para la iteración.\n",
    "4. Una `<lista>` para recorrer. En nuestros ejemplos, usaremos una `lista`.\n",
    "5. Una `<accion>` para hacer cualquier cosa en cada iteración del bucle.\n",
    "\n",
    "\n",
    "Puedes llamar como quieras a la `variable en la declaración del bucle` (temporal), pero tradicionalmente el nombre se basa en el nombre de la lista procesada en singular. Por ejemplo, si la lista se llama `musicians` (músicos), la variable se llamaría `musician` (músico); si la lista se llama `cats` (gatos), la variable se llamaría `cat` (gato)."
   ],
   "block_group": "1b6cc53e924647a0b527980b269ac1d9"
  },
  {
   "cell_type": "code",
   "execution_count": 1,
   "outputs": [
    {
     "name": "stdout",
     "output_type": "stream",
     "text": [
      "milk\n",
      "sugar\n",
      "vanilla extract\n",
      "dough\n",
      "chocolate\n"
     ]
    }
   ],
   "source": [
    "ingredients = [\"milk\", \"sugar\", \"vanilla extract\", \"dough\", \"chocolate\"]\n",
    " \n",
    "for ingredient in ingredients:\n",
    "    print(ingredient)"
   ],
   "metadata": {
    "collapsed": false,
    "ExecuteTime": {
     "end_time": "2023-09-11T15:09:25.622619800Z",
     "start_time": "2023-09-11T15:09:25.441789800Z"
    }
   }
  },
  {
   "cell_type": "markdown",
   "source": [
    "En este ejemplo:\n",
    "\n",
    "1. `ingredient` es la `<variable temporal>`.\n",
    "2. `ingredients` es nuestra `<lista>`.\n",
    "3. `print(ingrediente)` fue la `<accion>` realizada en cada iteración utilizando la variable temporal de ingrediente."
   ],
   "metadata": {
    "collapsed": false
   }
  },
  {
   "cell_type": "markdown",
   "source": [
    "# Cuerpo del bucle\n",
    "Una vez hayamos declarado el bucle, podemos escribir el cuerpo del bucle en la siguiente línea. Cada línea del cuerpo del bucle debe tener una sangría de cuatro espacios:\n",
    "```\n",
    "for variable in item_list:\n",
    "    # Aquí está el inicio del cuerpo del bucle: este código se ejecutará para cada elemento\n",
    "    # Puedes hacer algo con la variable declarada en la condición del bucle,\n",
    "    # como mostrar su valor: print(variable) \n",
    "```\n",
    "\n",
    "Volvamos al ejemplo de los beatles! de listas\n",
    "Podemos escribir un bucle que muestre automáticamente los nombres de los miembros de The Beatles.\n",
    "\n",
    "```\n",
    "the_beatles = ['John', 'Paul', 'George', 'Ringo']\n",
    "\n",
    "for musician in the_beatles:\n",
    "        # Cada elemento de the_beatles\n",
    "        # se pasará a su vez a la variable musician\n",
    "        # y se mostrará\n",
    "        print(musician)\n",
    "\n",
    "# En este caso, puede haber algo de código que se ejecutará\n",
    "# solo después de que el bucle haya terminado \n",
    "```"
   ],
   "metadata": {
    "collapsed": false
   }
  },
  {
   "cell_type": "code",
   "execution_count": 2,
   "outputs": [
    {
     "name": "stdout",
     "output_type": "stream",
     "text": [
      "John\n",
      "Paul\n",
      "George\n",
      "Ringo\n",
      "Ayer tuve un gran dia!\n"
     ]
    }
   ],
   "source": [
    "the_beatles = ['John', 'Paul', 'George', 'Ringo']\n",
    "# El código del bucle for\n",
    "for musician in the_beatles:\n",
    "    # Cada elemento de the_beatles\n",
    "    # se pasará a su vez a la variable musician\n",
    "    # y se mostrará\n",
    "    print(musician)\n",
    "\n",
    "# El código que se ejecuta después del bucle\n",
    "print('Ayer tuve un gran dia!')"
   ],
   "metadata": {
    "collapsed": false,
    "ExecuteTime": {
     "end_time": "2023-09-11T15:09:25.629601600Z",
     "start_time": "2023-09-11T15:09:25.474138100Z"
    }
   }
  },
  {
   "cell_type": "markdown",
   "source": [
    "## Ejercicio 1\n",
    "- Copie el codigo de arriba y pruebe cambiando la `variable temporal` musician y vuelva a correr el codigo\n",
    "- Tome en cuenta que hay dos lugares que debe modificar el nombre de la `variable temporal`"
   ],
   "metadata": {
    "collapsed": false
   }
  },
  {
   "cell_type": "code",
   "execution_count": 3,
   "outputs": [
    {
     "name": "stdout",
     "output_type": "stream",
     "text": [
      "John\n",
      "Paul\n",
      "George\n",
      "Ringo\n",
      "Ayer tuve un gran dia!\n"
     ]
    }
   ],
   "source": [
    "the_beatles = ['John', 'Paul', 'George', 'Ringo']\n",
    "# El código del bucle for\n",
    "for musics in the_beatles:\n",
    "    # Cada elemento de the_beatles\n",
    "    # se pasará a su vez a la variable musician\n",
    "    # y se mostrará\n",
    "    print(musics)\n",
    "\n",
    "# El código que se ejecuta después del bucle\n",
    "print('Ayer tuve un gran dia!')"
   ],
   "metadata": {
    "collapsed": false,
    "ExecuteTime": {
     "end_time": "2023-09-11T15:09:25.630677600Z",
     "start_time": "2023-09-11T15:09:25.480061100Z"
    }
   }
  },
  {
   "cell_type": "markdown",
   "metadata": {
    "cell_id": "eaf70e7811ee4c42b3610bef74a73bde",
    "deepnote_cell_type": "markdown"
   },
   "source": [
    "## Ejercicio 2\n",
    "- Cree una lista `months` (meses) con todos los meses del anho\n",
    "- Muestra cada mes del anho usando un bucle `for`"
   ],
   "block_group": "eaf70e7811ee4c42b3610bef74a73bde"
  },
  {
   "cell_type": "code",
   "metadata": {
    "cell_id": "ce26b4f0782043ff8e7d62dba217b225",
    "deepnote_cell_type": "code",
    "ExecuteTime": {
     "end_time": "2023-09-11T15:09:25.631597900Z",
     "start_time": "2023-09-11T15:09:25.500219200Z"
    }
   },
   "source": [
    "# Agregue los meses del anho\n",
    "months = ['enero', 'febrero', 'marzo', 'abril', 'mayo', 'junio', 'julio', 'agosto', 'septiembre', 'octubre', 'noviembre', 'diciembre']\n",
    "for meses in months:\n",
    "    print(meses)\n",
    "# Use un bucle for "
   ],
   "block_group": "ce26b4f0782043ff8e7d62dba217b225",
   "execution_count": 4,
   "outputs": [
    {
     "name": "stdout",
     "output_type": "stream",
     "text": [
      "enero\n",
      "febrero\n",
      "marzo\n",
      "abril\n",
      "mayo\n",
      "junio\n",
      "julio\n",
      "agosto\n",
      "septiembre\n",
      "octubre\n",
      "noviembre\n",
      "diciembre\n"
     ]
    }
   ]
  },
  {
   "cell_type": "markdown",
   "metadata": {
    "cell_id": "ed161fbffcc04e5c89860c6390193f7c",
    "deepnote_cell_type": "markdown"
   },
   "source": [
    "## Ejercicio 3\n",
    "- Muestre una invitación a cenar: utiliza el bucle para mostrar los nombres de los invitados de la lista `hobbits`.\n",
    "- Describe la condición y el cuerpo del bucle para que funcione."
   ],
   "block_group": "ed161fbffcc04e5c89860c6390193f7c"
  },
  {
   "cell_type": "code",
   "metadata": {
    "cell_id": "91f09aa4e37e46f48c03e2ad7655dab6",
    "deepnote_cell_type": "code",
    "ExecuteTime": {
     "end_time": "2023-09-11T15:11:58.918697900Z",
     "start_time": "2023-09-11T15:11:58.901711700Z"
    }
   },
   "source": [
    "hobbits = ['Frodo', 'Sam', 'Merry', 'Pippin']\n",
    "print('¡Queridos hobbits!')\n",
    "\n",
    "# Complete el codigo\n",
    "for hobbit in hobbits:\n",
    "    print(hobbit)\n",
    "print('¡Os invito amablemente a un viaje a Mordor!')\n",
    "print('Atentamente, Gandalf')"
   ],
   "block_group": "91f09aa4e37e46f48c03e2ad7655dab6",
   "execution_count": 6,
   "outputs": [
    {
     "name": "stdout",
     "output_type": "stream",
     "text": [
      "¡Queridos hobbits!\n",
      "Frodo\n",
      "Sam\n",
      "Merry\n",
      "Pippin\n",
      "¡Os invito amablemente a un viaje a Mordor!\n",
      "Atentamente, Gandalf\n"
     ]
    }
   ]
  },
  {
   "cell_type": "markdown",
   "metadata": {
    "cell_id": "5b91505beecb4fd3b24e5b6d20578528",
    "deepnote_cell_type": "markdown"
   },
   "source": [
    "# Rangos\n",
    "La función `range()`: un rango de números en lugar de una lista.\n",
    "\n",
    "A menudo necesitamos crear y procesar una secuencia de números enteros en un rango determinado. Por ejemplo, puedes necesitar encontrar la suma de todos los números enteros del `3 al 5` o enumerar una serie de números de vagones de tren.\n",
    "\n",
    "Podrías crear manualmente una lista de números, pero hay una manera más fácil: Python tiene una función `range()`. Se le pasan dos números enteros: el inicio y el final del rango. El resultado será una secuencia que incluye todos los enteros del rango especificado.\n",
    "\n",
    "Es importante recordar que la secuencia resultante `no incluirá el último entero del rango`:"
   ],
   "block_group": "5b91505beecb4fd3b24e5b6d20578528"
  },
  {
   "cell_type": "code",
   "metadata": {
    "cell_id": "7870bd1d7252414fbee67f84abd34143",
    "deepnote_cell_type": "code",
    "ExecuteTime": {
     "start_time": "2023-09-11T15:09:25.522888Z"
    }
   },
   "source": [
    "three = range(0, 3)\n",
    "around_zero = range(-3, 3)\n"
   ],
   "block_group": "7870bd1d7252414fbee67f84abd34143",
   "execution_count": null,
   "outputs": []
  },
  {
   "cell_type": "code",
   "metadata": {
    "cell_id": "bd8532537ecc4c7d94d88d70f51da9af",
    "deepnote_cell_type": "code",
    "ExecuteTime": {
     "end_time": "2023-09-11T15:12:39.017948200Z",
     "start_time": "2023-09-11T15:12:38.996551Z"
    }
   },
   "source": [
    "around_zero = range(-3, 3)\n",
    "\n",
    "# En lugar de una lista, la variable around_zero se pasa al bucle\n",
    "# que almacena range() de -3 a 3\n",
    "for i in around_zero:\n",
    "    # Haz un bucle por todos los enteros entre -3 y 3 y muéstralos:\n",
    "    print(i)"
   ],
   "block_group": "bd8532537ecc4c7d94d88d70f51da9af",
   "execution_count": 7,
   "outputs": [
    {
     "name": "stdout",
     "output_type": "stream",
     "text": [
      "-3\n",
      "-2\n",
      "-1\n",
      "0\n",
      "1\n",
      "2\n"
     ]
    }
   ]
  },
  {
   "cell_type": "markdown",
   "metadata": {
    "cell_id": "45c94f474f614de59d87e97d3961edae",
    "deepnote_cell_type": "markdown"
   },
   "source": [
    "## Ejercicio 4\n",
    "Una lista de vagones utilizando `range`\n",
    "\n",
    "Ejecuta el código y mira lo que este muestra. Prueba a cambiar los parámetros en `range()` y a ejecutar el código de nuevo.\n",
    "\n",
    "Ten cuidado: recuerda que el segundo número de range() es un `\"breakpoint\"` (punto de ruptura), el contador se detiene antes de él, por lo que este número no se incluirá en la secuencia."
   ],
   "block_group": "45c94f474f614de59d87e97d3961edae"
  },
  {
   "cell_type": "code",
   "metadata": {
    "cell_id": "6e96dbb3409b41b0bb351d931a787873",
    "deepnote_cell_type": "code",
    "ExecuteTime": {
     "end_time": "2023-09-11T15:13:49.904685600Z",
     "start_time": "2023-09-11T15:13:49.888708600Z"
    }
   },
   "source": [
    "for i in range(1,8): # Como definimos el final como el numero 8 no incluye ya que cuenta desde 0\n",
    "    print('Vagón nº' + str(i))"
   ],
   "block_group": "6e96dbb3409b41b0bb351d931a787873",
   "execution_count": 12,
   "outputs": [
    {
     "name": "stdout",
     "output_type": "stream",
     "text": [
      "Vagón nº1\n",
      "Vagón nº2\n",
      "Vagón nº3\n",
      "Vagón nº4\n",
      "Vagón nº5\n",
      "Vagón nº6\n",
      "Vagón nº7\n"
     ]
    }
   ]
  },
  {
   "cell_type": "markdown",
   "metadata": {
    "cell_id": "1704cefc7d1e4edc84cc08838ed4df94",
    "deepnote_cell_type": "markdown"
   },
   "source": [
    "## Ejercicio 5\n",
    "Tendrás que realizar varios ejercicios en esta lección. Comienza mostrando un mantra mágico que te ayudará a terminarlas con éxito:\n",
    "```\n",
    "Voy a hacer el ejercicio 1\n",
    "Voy a hacer el ejercicio 2\n",
    "Voy a hacer el ejercicio 3\n",
    "Voy a hacer el ejercicio 4\n",
    "¡Soy imparable! \n",
    "```\n",
    "\n",
    "Sustituye `...` por el código necesario: el nombre de la variable y el rango.\n",
    "Puedes nombrar la variable interna del bucle i: es el nombre tradicional para una variable a la que se le pasan números de una secuencia consecutiva."
   ],
   "block_group": "1704cefc7d1e4edc84cc08838ed4df94"
  },
  {
   "cell_type": "code",
   "metadata": {
    "cell_id": "cc0b033ce11e4e648c04db33719c66c7",
    "deepnote_cell_type": "code",
    "ExecuteTime": {
     "end_time": "2023-09-11T15:14:34.031587Z",
     "start_time": "2023-09-11T15:14:34.013403100Z"
    }
   },
   "source": [
    "for i in range(1,5):\n",
    "\tprint('Voy a hacer el ejercicio', i)\n",
    "\n",
    "print('¡Soy imparable!')"
   ],
   "block_group": "cc0b033ce11e4e648c04db33719c66c7",
   "execution_count": 13,
   "outputs": [
    {
     "name": "stdout",
     "output_type": "stream",
     "text": [
      "Voy a hacer el ejercicio 1\n",
      "Voy a hacer el ejercicio 2\n",
      "Voy a hacer el ejercicio 3\n",
      "Voy a hacer el ejercicio 4\n",
      "¡Soy imparable!\n"
     ]
    }
   ]
  },
  {
   "cell_type": "markdown",
   "metadata": {
    "cell_id": "ea2383b01f35445f95fcf515b4587678",
    "deepnote_cell_type": "markdown"
   },
   "source": [
    "## Ejercicio 6\n",
    "Si Jack (el que construyó la casa) construyera su casa con números, se vería así:\n",
    "```\n",
    "Este es el primer piso.\n",
    "Este es el piso 2, un piso más alto que el piso 1\n",
    "Este es el piso 3, un piso más alto que el 2\n",
    "...\n",
    "``` \n",
    "Utiliza un bucle para construir una casa de diez pisos. La última línea de la salida del bucle debe ser:\n",
    "`Este es el piso 10, un piso más alto que el 9 `\n",
    "\n",
    "Use la funcion `print()` de la siguiente forma:\n",
    "```\n",
    "print(\"Piso numero\", num, \"Siguiente piso\", num + 1)\n",
    "```\n",
    "\n",
    "En donde, `num` en la variable temporal del bucle"
   ],
   "block_group": "ea2383b01f35445f95fcf515b4587678"
  },
  {
   "cell_type": "code",
   "metadata": {
    "cell_id": "b4e7f46490c14b12bf13d6c174f73481",
    "deepnote_cell_type": "code",
    "ExecuteTime": {
     "end_time": "2023-09-11T15:21:20.014761800Z",
     "start_time": "2023-09-11T15:21:19.994208800Z"
    }
   },
   "source": [
    "print('Este es el primer piso')\n",
    "# La primera planta ya está construida, así que empieza a construir desde la segunda planta\n",
    "for i in range(1,10):\n",
    "    # Justo aquí, haz que los puntos suspensivos \"...\"\n",
    "    # se sustituyan por el número del piso actual,\n",
    "    # entonces calcula e inserta el número del piso anterior.\n",
    "    print('Piso Numero', i, ', Siguiente piso', i+1)"
   ],
   "block_group": "b4e7f46490c14b12bf13d6c174f73481",
   "execution_count": 18,
   "outputs": [
    {
     "name": "stdout",
     "output_type": "stream",
     "text": [
      "Este es el primer piso\n",
      "Piso Numero 1 , Siguiente piso 2\n",
      "Piso Numero 2 , Siguiente piso 3\n",
      "Piso Numero 3 , Siguiente piso 4\n",
      "Piso Numero 4 , Siguiente piso 5\n",
      "Piso Numero 5 , Siguiente piso 6\n",
      "Piso Numero 6 , Siguiente piso 7\n",
      "Piso Numero 7 , Siguiente piso 8\n",
      "Piso Numero 8 , Siguiente piso 9\n",
      "Piso Numero 9 , Siguiente piso 10\n"
     ]
    }
   ]
  }
 ],
 "nbformat": 4,
 "nbformat_minor": 0,
 "metadata": {
  "deepnote": {},
  "orig_nbformat": 2,
  "deepnote_notebook_id": "ee1eb4a6c97d4bc0823f6aa7fa280831",
  "deepnote_persisted_session": {
   "createdAt": "2023-08-25T21:01:48.563Z"
  },
  "deepnote_execution_queue": [],
  "kernelspec": {
   "name": "python3",
   "language": "python",
   "display_name": "Python 3 (ipykernel)"
  }
 }
}
