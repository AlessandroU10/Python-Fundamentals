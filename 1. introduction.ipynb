{
 "cells": [
  {
   "cell_type": "markdown",
   "metadata": {
    "tags": [],
    "cell_id": "6285c43acf554dcaa232d8732ac38b1c",
    "deepnote_cell_type": "markdown"
   },
   "source": [
    "# Introduccion\n",
    "\n",
    "Python es un lenguaje de programación sencillo que utiliza una sintaxis concisa y comprensible.\n",
    "\n",
    "Aquí tienes un programa sencillo que consta de un solo comando de Python: `import this`.\n",
    "\n",
    "Este no es un simple comando, sino un easter egg que muestra en la pantalla el \"Zen de Python\".\n",
    "\n",
    "#### Tarea\n",
    "1. Ejecutar el programa\n",
    "2. Leer la _salida del programa_"
   ],
   "block_group": "6285c43acf554dcaa232d8732ac38b1c"
  },
  {
   "cell_type": "code",
   "execution_count": 20,
   "outputs": [],
   "source": [
    "import this"
   ],
   "metadata": {
    "collapsed": false,
    "ExecuteTime": {
     "end_time": "2023-09-04T15:26:34.038629400Z",
     "start_time": "2023-09-04T15:26:33.680402500Z"
    }
   }
  },
  {
   "cell_type": "markdown",
   "source": [
    "## Zen Python\n",
    "El Zen de Python son recomendaciones para hacer que tu código se vea mejor y sea más claro.\n",
    "Cuando aprendas Python al punto en que seas capaz de resolver un mismo problema de diferentes maneras, vuelve a estas lineas y encontrarás en ellas nuevos significados:\n",
    "\n",
    "- Bello es mejor que feo.\n",
    "- Explícito es mejor que implícito.\n",
    "- Simple es mejor que complejo.\n",
    "- Complejo es mejor que complicado.\n",
    "- Plano es mejor que anidado.\n",
    "- Espaciado es mejor que denso.\n",
    "- La legibilidad es importante.\n",
    "- Los casos especiales no son lo suficientemente especiales como para romper las reglas.\n",
    "- Sin embargo, la practicidad le gana a la pureza.\n",
    "- Los errores nunca deberían pasar en silencio.\n",
    "- A menos que se silencien explícitamente.\n",
    "- Frente a la ambigüedad, evita la tentación de adivinar.\n",
    "- Debería haber una, y preferiblemente solo una, manera obvia de hacerlo;\n",
    "- Aunque no sea obvio al principio, a menos que seas Dutch.\n",
    "- Ahora es mejor que nunca.\n",
    "- A pesar de que nunca es muchas veces mejor que ahora mismo.\n",
    "- Si la implementación es difícil de explicar, es una mala idea.\n",
    "- Si la implementación es fácil de explicar, puede que sea una buena idea.\n",
    "- Los espacios de nombres son una gran idea, ¡tengamos más de esos!"
   ],
   "metadata": {
    "collapsed": false
   }
  },
  {
   "cell_type": "markdown",
   "source": [
    "## Instrucciones\n",
    "\n",
    "Al dar ejecutar el codigo Python leerá el código de arriba para abajo y ejecutará línea a línea todas las instrucciones que vea.\n",
    "\n",
    "#### Código para la gente: comentarios\n",
    "\n",
    "Las líneas de código que comienzan con el símbolo # son comentarios: notas que el autor del programa escribe para otros equipos de desarrollo.\n",
    "Python ignora cualquier carácter en la línea que esté después de #. Por favor, observa que los comentarios se resaltan automáticamente en color, lo que hace más fácil leerlos."
   ],
   "metadata": {
    "collapsed": false
   }
  },
  {
   "cell_type": "markdown",
   "source": [
    "El texto de los comentarios no es para el programa, sino para la persona que lee el código. Lee los comentarios, ya que contienen instrucciones para ti."
   ],
   "metadata": {
    "collapsed": false
   }
  },
  {
   "cell_type": "markdown",
   "source": [
    "### Ejercicio 1\n",
    "\n",
    "1. Escribe un programa tenga muestre una salida: \"Hola, me llamo Dino!\"\n",
    "2. Ejecute la celda y verifique su funcionalidad\n",
    "\n",
    "### Ejercicio 2\n",
    "1. En otra celda realice un programa que muestre \"Hola, me llamo Dino!\" en una linea y en la siguiente linea \"Soy nuevo, pero ya soy un programa!\"\n",
    "2. Ejecute el programa y verifique su funcionalidad"
   ],
   "metadata": {
    "collapsed": false
   }
  },
  {
   "cell_type": "code",
   "execution_count": 36,
   "outputs": [
    {
     "name": "stdout",
     "output_type": "stream",
     "text": [
      "Hola, me llamo Dino!\n"
     ]
    }
   ],
   "source": [
    "print(\"Hola, me llamo Dino!\")"
   ],
   "metadata": {
    "collapsed": false,
    "ExecuteTime": {
     "end_time": "2023-09-04T15:28:27.755408300Z",
     "start_time": "2023-09-04T15:28:27.738939300Z"
    }
   }
  },
  {
   "cell_type": "code",
   "metadata": {
    "tags": [],
    "cell_id": "900b126af51b413fbaa6d3c4edb15418",
    "source_hash": null,
    "output_cleared": true,
    "execution_start": 1673017445552,
    "execution_millis": 1,
    "deepnote_to_be_reexecuted": false,
    "deepnote_cell_type": "code",
    "ExecuteTime": {
     "end_time": "2023-09-04T15:28:29.423469700Z",
     "start_time": "2023-09-04T15:28:29.416935900Z"
    }
   },
   "source": [
    "print(\"Hola,me llamo dino\")\n",
    "print(\"Soy Nuevo, pero ya soy un programa\")"
   ],
   "block_group": "900b126af51b413fbaa6d3c4edb15418",
   "execution_count": 37,
   "outputs": [
    {
     "name": "stdout",
     "output_type": "stream",
     "text": [
      "Hola,me llamo dino\n",
      "Soy Nuevo, pero ya soy un programa\n"
     ]
    }
   ]
  },
  {
   "cell_type": "markdown",
   "metadata": {
    "tags": [],
    "cell_id": "c7cb5e6b473d46549ada63de542a2e91",
    "deepnote_cell_type": "markdown"
   },
   "source": [
    "# Variables y tipos\n",
    "\n",
    "## Variables\n",
    "Una __variable__ funciona como una caja etiquetada o una celda marcada donde puedes poner algo para que no se pierda.\n",
    "\n",
    "A la primera vez que escribes el nombre de una variable en el código se le conoce como una __declaración de variable__. Quien lo programa decide el nombre.\n",
    "\n",
    "En Python, cuando la variable es __declarada__ se le asigna un valor. Para declarar una variable, introduce un signo de igual `=` (en Python, a este signo se le llama __operador de asignación__) y escribe el valor que será almacenado en la variable."
   ],
   "block_group": "c7cb5e6b473d46549ada63de542a2e91"
  },
  {
   "cell_type": "code",
   "metadata": {
    "tags": [],
    "cell_id": "0dd6237633a44fb78263bc72f412a29c",
    "source_hash": null,
    "output_cleared": true,
    "execution_start": 1672889621049,
    "execution_millis": 1,
    "deepnote_to_be_reexecuted": false,
    "deepnote_cell_type": "code",
    "ExecuteTime": {
     "end_time": "2023-09-04T15:26:34.277971900Z",
     "start_time": "2023-09-04T15:26:33.786878300Z"
    }
   },
   "source": [
    "name = \"Alesandro\"\n",
    "apellido = \"Paredes\""
   ],
   "block_group": "0dd6237633a44fb78263bc72f412a29c",
   "execution_count": 23,
   "outputs": []
  },
  {
   "cell_type": "markdown",
   "metadata": {
    "tags": [],
    "cell_id": "08db69459380482baad9056a3ea31efd",
    "deepnote_cell_type": "markdown"
   },
   "source": [
    "Las variables nos permiten guardar, o recordar un valor por un tiempo. Estos pueden ser:\n",
    "- Numeros \n",
    "- Oraciones, las cuales se llaman Strings (\"Esto es una string\") y __debe estar entre dos comillas!__"
   ],
   "block_group": "08db69459380482baad9056a3ea31efd"
  },
  {
   "cell_type": "code",
   "metadata": {
    "tags": [],
    "cell_id": "5a6170dcca2e4e89b7813c6ecfb14597",
    "source_hash": null,
    "output_cleared": true,
    "execution_start": 1672889715567,
    "execution_millis": 0,
    "deepnote_to_be_reexecuted": false,
    "deepnote_cell_type": "code",
    "ExecuteTime": {
     "end_time": "2023-09-04T15:26:34.278965900Z",
     "start_time": "2023-09-04T15:26:33.795322400Z"
    }
   },
   "source": [
    "pages = 0"
   ],
   "block_group": "5a6170dcca2e4e89b7813c6ecfb14597",
   "execution_count": 24,
   "outputs": []
  },
  {
   "cell_type": "code",
   "metadata": {
    "tags": [],
    "cell_id": "270e0da2c03e403f812f76ab9203dcf7",
    "source_hash": null,
    "output_cleared": true,
    "execution_start": 1672889723805,
    "execution_millis": 1,
    "deepnote_to_be_reexecuted": false,
    "deepnote_cell_type": "code",
    "ExecuteTime": {
     "end_time": "2023-09-04T15:26:34.282955Z",
     "start_time": "2023-09-04T15:26:33.799825600Z"
    }
   },
   "source": [
    "message = \"Hola, Mundo!\""
   ],
   "block_group": "270e0da2c03e403f812f76ab9203dcf7",
   "execution_count": 25,
   "outputs": []
  },
  {
   "cell_type": "markdown",
   "metadata": {
    "tags": [],
    "cell_id": "515da37ec1494d6eb07c236b0b43a6fd",
    "deepnote_cell_type": "markdown"
   },
   "source": [
    "Y ahora, veamos el siguiente paso: cuando se declara una variable y se le asigna un valor, el nombre de la variable puede usarse en el código, y después, ese nombre sustituirá su valor."
   ],
   "block_group": "515da37ec1494d6eb07c236b0b43a6fd"
  },
  {
   "cell_type": "markdown",
   "metadata": {
    "tags": [],
    "cell_id": "ab3725351b2a45e886105c509865a804",
    "deepnote_cell_type": "markdown"
   },
   "source": [
    "\n",
    "### Ejercicio 1\n",
    "Hagamos un experimento:\n",
    "1. Ejecute el código. La variable 'message' se pasa a la función print().\n",
    "2. Cambie la frase '¡Hola, mundo!' a cualquier otra cosa y ejecuta nuevamente el código."
   ],
   "block_group": "ab3725351b2a45e886105c509865a804"
  },
  {
   "cell_type": "code",
   "metadata": {
    "tags": [],
    "cell_id": "11c8faef840148908ca9c05c6ca1be20",
    "source_hash": null,
    "output_cleared": true,
    "execution_start": 1672889828961,
    "execution_millis": 2,
    "deepnote_to_be_reexecuted": false,
    "deepnote_cell_type": "code",
    "ExecuteTime": {
     "end_time": "2023-09-04T15:30:02.298465600Z",
     "start_time": "2023-09-04T15:30:02.281504800Z"
    }
   },
   "source": [
    "message = '¡This is a exercise of python about variables!'\n",
    "\n",
    "# La función proporciona la variable que almacena el texto, no el texto en sí:\n",
    "print(message)"
   ],
   "block_group": "11c8faef840148908ca9c05c6ca1be20",
   "execution_count": 38,
   "outputs": [
    {
     "name": "stdout",
     "output_type": "stream",
     "text": [
      "¡This is a exercise of python about variables!\n"
     ]
    }
   ]
  },
  {
   "cell_type": "markdown",
   "metadata": {
    "tags": [],
    "cell_id": "c2f71af7c3a5407a9407bc2b31ddaaa5",
    "deepnote_cell_type": "markdown"
   },
   "source": [
    "### Ejercicio 2\n",
    "Vamos a hacer a Iris más amigable enseñándole cómo presentarse a sí misma. Para empezar, muestra en la pantalla la frase:\n",
    "\n",
    "`'¡Hola, soy Iris, tu asistente personal!'`\n",
    "\n",
    "En lugar de los puntos suspensivos, escribe en el código las variables `'name'` (nombre) y `'job'` (trabajo). Ten cuidado con no omitir una coma, un signo de exclamación o un espacio, ya que esto cambiará el resultado del código"
   ],
   "block_group": "c2f71af7c3a5407a9407bc2b31ddaaa5"
  },
  {
   "cell_type": "code",
   "metadata": {
    "tags": [],
    "cell_id": "c7c0fd18b4564794a1dd7a0dcd5ad8d2",
    "source_hash": null,
    "output_cleared": true,
    "execution_start": 1672890196980,
    "execution_millis": 359,
    "deepnote_to_be_reexecuted": false,
    "deepnote_cell_type": "code",
    "ExecuteTime": {
     "end_time": "2023-09-04T15:32:28.407792800Z",
     "start_time": "2023-09-04T15:32:28.390974100Z"
    }
   },
   "source": [
    "name = 'Iris'                # Nombre\n",
    "job = 'asistente personal'   # Profesión\n",
    "\n",
    "# Sustituye los \"...\" por los nombres de las variables.\n",
    "print('¡Hola, soy '+ name +', tu '+ job +'!')"
   ],
   "block_group": "c7c0fd18b4564794a1dd7a0dcd5ad8d2",
   "execution_count": 39,
   "outputs": [
    {
     "name": "stdout",
     "output_type": "stream",
     "text": [
      "¡Hola, soy Iris, tu asistente personal!\n"
     ]
    }
   ]
  },
  {
   "cell_type": "markdown",
   "metadata": {
    "tags": [],
    "cell_id": "6384311b57104971b2612d0f9e9a5753",
    "deepnote_cell_type": "markdown"
   },
   "source": [
    "## Tipos de datos: numeros y strings\n",
    "Un __string__ se escribe como un carácter o un conjunto de caracteres entre comillas 'single' o \"double\""
   ],
   "block_group": "6384311b57104971b2612d0f9e9a5753"
  },
  {
   "cell_type": "code",
   "metadata": {
    "tags": [],
    "cell_id": "42d413b08a884e969047c2a2966b13f3",
    "source_hash": null,
    "output_cleared": true,
    "execution_start": 1672890229843,
    "execution_millis": 1,
    "deepnote_to_be_reexecuted": false,
    "deepnote_cell_type": "code",
    "ExecuteTime": {
     "start_time": "2023-09-04T15:26:33.847753200Z"
    }
   },
   "source": [
    "genre = 'Novela'  # Un string entre comillas sencillas\n",
    "author = \"George Orwell\"  # Un string entre comillas dobles\n",
    "title = '1984'  # Un número entrecomillado también se convierte en un string\n",
    "space = ' ' # Incluso un espacio entrecomillado es un string "
   ],
   "block_group": "42d413b08a884e969047c2a2966b13f3",
   "execution_count": null,
   "outputs": []
  },
  {
   "cell_type": "markdown",
   "metadata": {
    "tags": [],
    "cell_id": "7f1bd974ed5c4580a6eb37f010fffeeb",
    "deepnote_cell_type": "markdown"
   },
   "source": [
    "### Ejercicio 3\n",
    "1. Imprima la siguiente string usando las variables declaradas abajo:\n",
    "\n",
    "`Una Novala de George Orwell es 1984`\n",
    "\n",
    "2. Corra el codigo y verifique sus resultados"
   ],
   "block_group": "7f1bd974ed5c4580a6eb37f010fffeeb"
  },
  {
   "cell_type": "code",
   "metadata": {
    "tags": [],
    "cell_id": "a14443c8b95a4a88bcb7d37e36426f97",
    "source_hash": null,
    "output_cleared": true,
    "execution_start": 1672890336644,
    "execution_millis": 2,
    "deepnote_to_be_reexecuted": false,
    "deepnote_cell_type": "code",
    "ExecuteTime": {
     "end_time": "2023-09-04T15:38:21.630477100Z",
     "start_time": "2023-09-04T15:38:21.612433100Z"
    }
   },
   "source": [
    "genre = 'Novela'  # Un string entre comillas sencillas\n",
    "author = \"George Orwell\"  # Un string entre comillas dobles\n",
    "title = '1984'  # Un número entrecomillado también se convierte en un string\n",
    "\n",
    "print('Una '+ genre +' de ' + author + ' es '+ title )"
   ],
   "block_group": "a14443c8b95a4a88bcb7d37e36426f97",
   "execution_count": 45,
   "outputs": [
    {
     "name": "stdout",
     "output_type": "stream",
     "text": [
      "Una Novela de George Orwell es 1984\n"
     ]
    }
   ]
  },
  {
   "cell_type": "markdown",
   "metadata": {
    "tags": [],
    "cell_id": "11eb8fce30d6482da50001e896439319",
    "deepnote_cell_type": "markdown"
   },
   "source": [
    "### Ejercicio 4\n",
    "1. Ejecute el siguiente codigo!\n",
    "2. Oh no! un error!! Trate de indentificar donde esta el error!\n",
    "3. Vuelva a ejecutar el codigo"
   ],
   "block_group": "11eb8fce30d6482da50001e896439319"
  },
  {
   "cell_type": "code",
   "metadata": {
    "tags": [],
    "cell_id": "77d9739e981a44acbb0676182d20e72a",
    "source_hash": null,
    "output_cleared": true,
    "execution_start": 1672890408380,
    "execution_millis": 2,
    "deepnote_to_be_reexecuted": false,
    "deepnote_cell_type": "code",
    "ExecuteTime": {
     "end_time": "2023-09-04T15:39:25.199259200Z",
     "start_time": "2023-09-04T15:39:25.192765500Z"
    }
   },
   "source": [
    "# Corrigeme :(\n",
    "author = \"George Orwell\"\n",
    "print(author)"
   ],
   "block_group": "77d9739e981a44acbb0676182d20e72a",
   "execution_count": 48,
   "outputs": [
    {
     "name": "stdout",
     "output_type": "stream",
     "text": [
      "George Orwell\n"
     ]
    }
   ]
  },
  {
   "cell_type": "code",
   "metadata": {
    "tags": [],
    "cell_id": "aa6e0f78e5dc47b0a3db7519e3689aac",
    "source_hash": null,
    "output_cleared": true,
    "execution_start": 1672890428262,
    "execution_millis": 1,
    "deepnote_to_be_reexecuted": false,
    "deepnote_cell_type": "code",
    "ExecuteTime": {
     "end_time": "2023-09-04T15:39:07.148892300Z",
     "start_time": "2023-09-04T15:39:07.111883100Z"
    }
   },
   "source": [
    "# los numero no tienen comillas \n",
    "twenty_five = '25'\n",
    "about_pi = '3'"
   ],
   "block_group": "aa6e0f78e5dc47b0a3db7519e3689aac",
   "execution_count": 47,
   "outputs": []
  },
  {
   "cell_type": "markdown",
   "metadata": {
    "tags": [],
    "cell_id": "95c777927325475da33b7810628cf39d",
    "deepnote_cell_type": "markdown"
   },
   "source": [
    "## Sumemos!\n"
   ],
   "block_group": "95c777927325475da33b7810628cf39d"
  },
  {
   "cell_type": "markdown",
   "metadata": {
    "tags": [],
    "cell_id": "ab34f1f2600b42ed8d6dae0f06f5e2b7",
    "source_hash": "e31f5415",
    "execution_start": 1672890567189,
    "execution_millis": 1,
    "deepnote_to_be_reexecuted": false,
    "deepnote_cell_type": "markdown"
   },
   "source": [
    "Python trabaja de modo diferente con valores de tipos distintos.\n",
    "Con variables que contienen números, puedes realizar cualquier operación aritmética. Por ejemplo, puedes sumarlos con el operador `+`:"
   ],
   "block_group": "ab34f1f2600b42ed8d6dae0f06f5e2b7"
  },
  {
   "cell_type": "code",
   "metadata": {
    "tags": [],
    "cell_id": "1edae012f40b4f6285fe84b44033c8bd",
    "source_hash": null,
    "output_cleared": true,
    "execution_start": 1672890584537,
    "execution_millis": 3,
    "deepnote_to_be_reexecuted": false,
    "deepnote_cell_type": "code",
    "ExecuteTime": {
     "end_time": "2023-09-04T15:39:50.263343Z",
     "start_time": "2023-09-04T15:39:50.253524900Z"
    }
   },
   "source": [
    "twenty_five = 25\n",
    "about_pi = 3\n",
    "# Puedes sumar variables de diferentes tipos,\n",
    "# y asignarles el valor resultante a otra variable.\n",
    "total = twenty_five + about_pi\n",
    "\n",
    "# Vamos a mostrar el valor de esta variable:\n",
    "print(total)"
   ],
   "block_group": "1edae012f40b4f6285fe84b44033c8bd",
   "execution_count": 49,
   "outputs": [
    {
     "name": "stdout",
     "output_type": "stream",
     "text": [
      "28\n"
     ]
    }
   ]
  },
  {
   "cell_type": "markdown",
   "metadata": {
    "tags": [],
    "cell_id": "1a30a28ecb20427082a41bad7a9aa22f",
    "deepnote_cell_type": "markdown"
   },
   "source": [
    "Excelente! Ahora, hagamos la prueba con unas strings!"
   ],
   "block_group": "1a30a28ecb20427082a41bad7a9aa22f"
  },
  {
   "cell_type": "code",
   "metadata": {
    "tags": [],
    "cell_id": "9de44f8c0a7b4721a03647ad3568ca2c",
    "source_hash": null,
    "output_cleared": true,
    "execution_start": 1672890613448,
    "execution_millis": 3,
    "deepnote_to_be_reexecuted": false,
    "deepnote_cell_type": "code",
    "ExecuteTime": {
     "end_time": "2023-09-04T15:40:00.360973Z",
     "start_time": "2023-09-04T15:40:00.348942100Z"
    }
   },
   "source": [
    "twenty_five = '25'\n",
    "about_pi = '3'\n",
    "\n",
    "total = twenty_five + about_pi\n",
    "\n",
    "print(total)"
   ],
   "block_group": "9de44f8c0a7b4721a03647ad3568ca2c",
   "execution_count": 50,
   "outputs": [
    {
     "name": "stdout",
     "output_type": "stream",
     "text": [
      "253\n"
     ]
    }
   ]
  },
  {
   "cell_type": "markdown",
   "metadata": {
    "tags": [],
    "cell_id": "76202ca51a4145eba97c8934dd846e89",
    "deepnote_cell_type": "markdown"
   },
   "source": [
    "Los strings no funcionan igual que los números: cuando sumas dos strings, Python \"pega\" el contenido de ambos strings en uno solo."
   ],
   "block_group": "76202ca51a4145eba97c8934dd846e89"
  },
  {
   "cell_type": "markdown",
   "source": [],
   "metadata": {
    "collapsed": false
   }
  },
  {
   "cell_type": "code",
   "metadata": {
    "tags": [],
    "cell_id": "a01273c3f49c412c98faf52b374b2d5d",
    "source_hash": null,
    "output_cleared": true,
    "execution_start": 1672890631905,
    "execution_millis": 1,
    "deepnote_to_be_reexecuted": false,
    "deepnote_cell_type": "code",
    "ExecuteTime": {
     "end_time": "2023-09-04T15:40:32.145734400Z",
     "start_time": "2023-09-04T15:40:32.128929200Z"
    }
   },
   "source": [
    "print('Caracteres '+' entre comillas '+' son' + ' strings.')"
   ],
   "block_group": "a01273c3f49c412c98faf52b374b2d5d",
   "execution_count": 52,
   "outputs": [
    {
     "name": "stdout",
     "output_type": "stream",
     "text": [
      "Caracteres  entre comillas  son strings.\n"
     ]
    }
   ]
  },
  {
   "cell_type": "markdown",
   "metadata": {
    "tags": [],
    "cell_id": "8c3fe6b1b63447d7ba72acabaea87d4a",
    "deepnote_cell_type": "markdown"
   },
   "source": [
    "### Ejercicio 6\n",
    "\n",
    "\n",
    "La suma de variables funcionará igual si los strings están almacenados en distintas variables!\n",
    "\n",
    "Compruebelo en este ejercicio! Obtenga la siguiente string:\n",
    "`Caracteres entre comillas son strings.`"
   ],
   "block_group": "8c3fe6b1b63447d7ba72acabaea87d4a"
  },
  {
   "cell_type": "code",
   "metadata": {
    "tags": [],
    "cell_id": "18fc794695ca430c86a292c247f81059",
    "source_hash": null,
    "output_cleared": true,
    "execution_start": 1672890711972,
    "execution_millis": 2,
    "deepnote_to_be_reexecuted": false,
    "deepnote_cell_type": "code",
    "ExecuteTime": {
     "end_time": "2023-09-04T15:42:11.220602400Z",
     "start_time": "2023-09-04T15:42:11.190140Z"
    }
   },
   "source": [
    "word1 = 'Caracteres '\n",
    "word2 = 'entre comillas '\n",
    "word3 = 'son '\n",
    "word4 = 'strings.'\n",
    "\n",
    "# Puedes sumar estas variables y guardar el resultado en el texto de la variable\n",
    "text= word1 + word2 + word3 +  word4 \n",
    "\n",
    "# ...y puedes mostrar el valor de la variable 'texto'\n",
    "print(text)\n"
   ],
   "block_group": "18fc794695ca430c86a292c247f81059",
   "execution_count": 55,
   "outputs": [
    {
     "name": "stdout",
     "output_type": "stream",
     "text": [
      "Caracteres entre comillas son strings.\n"
     ]
    }
   ]
  },
  {
   "cell_type": "markdown",
   "metadata": {
    "tags": [],
    "cell_id": "c2ece554cba54f2caeedf294eb4c7868",
    "deepnote_cell_type": "markdown"
   },
   "source": [
    "### Ejercicio 7\n",
    "1. Sume las dos variables de abajo\n",
    "2. Que observa?"
   ],
   "block_group": "c2ece554cba54f2caeedf294eb4c7868"
  },
  {
   "cell_type": "code",
   "metadata": {
    "tags": [],
    "cell_id": "c01ae186cbd24053878b49ad82b4f600",
    "source_hash": null,
    "output_cleared": true,
    "execution_start": 1672890799169,
    "execution_millis": 2,
    "deepnote_to_be_reexecuted": false,
    "deepnote_cell_type": "code",
    "ExecuteTime": {
     "end_time": "2023-09-04T16:01:44.865061100Z",
     "start_time": "2023-09-04T16:01:44.833627700Z"
    }
   },
   "source": [
    "num_as_string = '100499'  # El valor de esta variable es un string\n",
    "num_as_num = 1  # El valor de esta variable es un número\n",
    "\n",
    "# Intentemos sumar y mostrar un resultado:\n",
    "print(num_as_string + str(num_as_num))\n",
    "\n",
    "# Corregido \n",
    "# num_as_string = 100499  # El valor de esta variable es un string\n",
    "# num_as_num = 1  # El valor de esta variable es un número\n",
    "\n",
    "# Intentemos sumar y mostrar un resultado:\n",
    "# print(num_as_string + str(num_as_num))"
   ],
   "block_group": "c01ae186cbd24053878b49ad82b4f600",
   "execution_count": 64,
   "outputs": [
    {
     "name": "stdout",
     "output_type": "stream",
     "text": [
      "1004991\n"
     ]
    }
   ]
  },
  {
   "cell_type": "markdown",
   "metadata": {
    "tags": [],
    "cell_id": "b3c39c8221d542fbbfb628c19619b0bd",
    "deepnote_cell_type": "markdown"
   },
   "source": [
    "Oh no!! Todo se descompuso."
   ],
   "block_group": "b3c39c8221d542fbbfb628c19619b0bd"
  },
  {
   "cell_type": "markdown",
   "metadata": {
    "tags": [],
    "cell_id": "4a79940c9fae44d8b706dfffd93d6702",
    "deepnote_cell_type": "markdown"
   },
   "source": [
    "### Ejercicio 8\n",
    "\n",
    "Si Dino está configurado para ser un seguidor de actividad fitness, podría contar el número de pasos que dio el usuario e informar sobre los resultados.\n",
    "\n",
    "Enséñale a Dino a escribir en un mensaje la suma de los pasos dados durante dos días.\n",
    "\n",
    "Las variables `steps_today` (pasos hoy) y `steps_yesterday` (pasos ayer) contienen el número de pasos que dio Jose en los últimos dos días.\n",
    "\n",
    "Calcule la suma de los pasos y guarde el resultado en la variable `steps_sum` (suma de los pasos). Y haz que el programa muestre el resultado."
   ],
   "block_group": "4a79940c9fae44d8b706dfffd93d6702"
  },
  {
   "cell_type": "code",
   "metadata": {
    "tags": [],
    "cell_id": "2331383a2b4945c8860b14aa3e629339",
    "source_hash": null,
    "output_cleared": true,
    "execution_start": 1672890941205,
    "execution_millis": 2,
    "deepnote_to_be_reexecuted": false,
    "deepnote_cell_type": "code",
    "ExecuteTime": {
     "end_time": "2023-09-04T15:48:37.618109900Z",
     "start_time": "2023-09-04T15:48:37.605140Z"
    }
   },
   "source": [
    "steps_yesterday = 8452\n",
    "steps_today = 6783\n",
    "\n",
    "# Cálcula le suma aquí: en lugar de una elipsis, escribe una expresión\n",
    "# que sume el número de pasos durante dos días\n",
    "steps_sum = steps_today + steps_today\n",
    "\n",
    "print('¿Cuántos pasos dio Vincent en los últimos dos días?')\n",
    "\n",
    "# Muestre el resultado total de pasos dados\n",
    "print('Vincent dio ' + str(steps_sum) + ' pasos ')"
   ],
   "block_group": "2331383a2b4945c8860b14aa3e629339",
   "execution_count": 62,
   "outputs": [
    {
     "name": "stdout",
     "output_type": "stream",
     "text": [
      "¿Cuántos pasos dio Vincent en los últimos dos días?\n",
      "Vincent dio 13566 pasos \n"
     ]
    }
   ]
  },
  {
   "cell_type": "markdown",
   "metadata": {
    "tags": [],
    "cell_id": "84d084eafa0240808ba48c3b6421eba0",
    "deepnote_cell_type": "markdown"
   },
   "source": [
    "### Errores!\n",
    "Siempre nos encontraremos errores cuando programemos, sin embargo, no es el fin del mundo. Estos nos ayudan a mejorar, buscar ayuda, y mejorar como programadores! En esta leccion de seguro que se cometieron muchos errores! Y esta totalmente bien que eso ocurra, ocurrira hoy y ocurrira manana e incluso despues de muchos anhos de programar! Es parte de la programacion! :)\n",
    "\n",
    "Luego, veremos como lidiar con los errores de una mejor manera! \n",
    "\n"
   ],
   "block_group": "84d084eafa0240808ba48c3b6421eba0"
  },
  {
   "cell_type": "markdown",
   "source": [],
   "metadata": {
    "created_in_deepnote_cell": true,
    "deepnote_cell_type": "markdown"
   }
  }
 ],
 "nbformat": 4,
 "nbformat_minor": 0,
 "metadata": {
  "deepnote": {},
  "orig_nbformat": 2,
  "deepnote_full_width": false,
  "deepnote_notebook_id": "84c0b3045d93414b8b6d1d289199a19d",
  "deepnote_execution_queue": [],
  "kernelspec": {
   "name": "python3",
   "language": "python",
   "display_name": "Python 3 (ipykernel)"
  }
 }
}
