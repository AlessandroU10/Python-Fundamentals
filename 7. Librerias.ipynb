{
 "cells": [
  {
   "cell_type": "markdown",
   "metadata": {
    "cell_id": "f2f26984965d4d169057b30eea094a71",
    "deepnote_cell_type": "markdown"
   },
   "source": [
    "## Ejercicio 1\n",
    "Sus compañeros de clase le pidieron que copiara algunos papeles para ellos. Se sabe que hay `n` compañeros de clase y el papeleo tiene `m` páginas.\n",
    "\n",
    "La tarea es calcular cuántas páginas en blanco necesitas. \n",
    "Cree una funcion que acepte los argumentos `n` y `m`. Note que esta funcion debe retornar la operacion `n * m` solo:\n",
    "- Si `n < 0` o `m < 0` esta funcion devuelve `0`.\n",
    "- Si `n == 0` o `m == 0` esta funcion devuelve un mensaje: `\"No hay trabajo que hacer!\"`"
   ],
   "block_group": "f2f26984965d4d169057b30eea094a71"
  },
  {
   "cell_type": "code",
   "metadata": {
    "cell_id": "47a6bcc092b64f4c9c030f5e3147ef10",
    "deepnote_cell_type": "code",
    "ExecuteTime": {
     "end_time": "2023-09-17T01:30:17.871326700Z",
     "start_time": "2023-09-17T01:30:17.695077800Z"
    }
   },
   "source": [
    "# Codigo aqui\n",
    "\n",
    "def pages(n,m):\n",
    "    if n < 0 or m <0:\n",
    "        return 0\n",
    "    elif n == 0 or m ==0:\n",
    "        return 'No hay trabajo que hacer!'\n",
    "    else:\n",
    "        return n * m \n",
    "    \n",
    "pages(0,0)"
   ],
   "block_group": "47a6bcc092b64f4c9c030f5e3147ef10",
   "execution_count": 1,
   "outputs": [
    {
     "data": {
      "text/plain": "'No hay trabajo que hacer!'"
     },
     "execution_count": 1,
     "metadata": {},
     "output_type": "execute_result"
    }
   ]
  },
  {
   "cell_type": "markdown",
   "metadata": {
    "cell_id": "ceb4e46f4db64f8c868d1ad532fe94ca",
    "deepnote_cell_type": "markdown"
   },
   "source": [
    "## Ejercicio 2 \n",
    "\n",
    "Se puede encontrar la aguja en el pajar?\n",
    "\n",
    "Escriba una función `find_neddle()` que tome como parametro una `lista` llena de basura pero que contenga una `\"aguja\"`\n",
    "\n",
    "Después de que su función encuentre la `aguja`, debería devolver un mensaje (una string) que diga:\n",
    "\n",
    "`\"Se encontro la aguja en la posición\" más el índice en donde se encontro la aguja, entonces:`\n",
    "\n",
    "Por ejemplo:\n",
    "```\n",
    "find_needle(['basura', 'basura', 'masmasbasura', 'blbablabla', 'másbasura', 'aguja', 'basura aleatoria'])\n",
    "\n",
    "debe devolver: \"encontró la aguja en la posición 5\"\n",
    "```"
   ],
   "block_group": "ceb4e46f4db64f8c868d1ad532fe94ca"
  },
  {
   "cell_type": "code",
   "metadata": {
    "source_hash": null,
    "execution_start": 1692995595243,
    "execution_millis": 7,
    "deepnote_to_be_reexecuted": false,
    "cell_id": "3b6f0026e450498a9d3bd5d6759ab919",
    "deepnote_cell_type": "code",
    "ExecuteTime": {
     "end_time": "2023-09-17T01:30:17.872323700Z",
     "start_time": "2023-09-17T01:30:17.715174800Z"
    }
   },
   "source": [
    "# Codigo aqui\n",
    "\n",
    "def find_neddle():\n",
    "    pajar = [\"Aguja\", \"Basura\", \"masmasbasura\", \"blablabla\", \"mas basura\", \"dasdadd\", \"Basura aleatoria\"]\n",
    "    for i in range(len(pajar)):\n",
    "        if pajar[i] == \"Aguja\":\n",
    "            indice = i\n",
    "            print(\"Se encontró la aguja en la posición \" + str(indice))\n",
    "            break\n",
    "        else:\n",
    "            print(\"No se encontro la palabra aguja\")\n",
    "find_neddle()"
   ],
   "block_group": "3b6f0026e450498a9d3bd5d6759ab919",
   "execution_count": 2,
   "outputs": [
    {
     "name": "stdout",
     "output_type": "stream",
     "text": [
      "Se encontró la aguja en la posición 0\n"
     ]
    }
   ]
  },
  {
   "cell_type": "markdown",
   "metadata": {
    "cell_id": "485f7ccb6abe47f487167d1df968edaa",
    "deepnote_cell_type": "markdown"
   },
   "source": [
    "## Ejercicio 3\n",
    "\n",
    "Considere una lista de ovejas donde algunas ovejas pueden faltar en su lugar.\n",
    "\n",
    "Necesitamos una función que cuente el número de ovejas presentes en la `matriz` (1 significa presente).\n",
    "```\n",
    "Entrada: Lista de ovejas\n",
    "Salida: Ovejas presentas\n",
    "``` \n",
    "\n",
    "Ejemplo de entrada:\n",
    "```\n",
    "    in = [ 1,  1,  1,  0,\n",
    "           1,  1,  1,  1,\n",
    "            1,  0,  1,  0,\n",
    "            1,  0,  0,  1,\n",
    "            1,  1,  1,  1,\n",
    "            0,  0,  1,  1]\n",
    "```\n",
    "\n",
    "En el caso de arriba la funcion deberia retornar `17`"
   ],
   "block_group": "485f7ccb6abe47f487167d1df968edaa"
  },
  {
   "cell_type": "code",
   "metadata": {
    "cell_id": "304030c72cec4a4e98108ae8cf1a4303",
    "deepnote_cell_type": "code",
    "ExecuteTime": {
     "end_time": "2023-09-17T01:30:17.873436500Z",
     "start_time": "2023-09-17T01:30:17.731659700Z"
    }
   },
   "source": [
    "in_1 = [1, 1, 1, 0, 1, 1, 1, 1, 1, 0, 1, 0, 1, 0, 0, 1, 1, 1, 1, 1, 0, 0, 1, 1]\n",
    "\n",
    "# Codigo aqui\n",
    "\n",
    "def contar_ovejas(in_1):\n",
    "    return in_1.count(1)\n",
    "contar_ovejas(in_1)"
   ],
   "block_group": "304030c72cec4a4e98108ae8cf1a4303",
   "execution_count": 3,
   "outputs": [
    {
     "data": {
      "text/plain": "17"
     },
     "execution_count": 3,
     "metadata": {},
     "output_type": "execute_result"
    }
   ]
  },
  {
   "cell_type": "markdown",
   "metadata": {
    "cell_id": "ec9267e7edc742f297f6efb96a43309f",
    "deepnote_cell_type": "markdown"
   },
   "source": [
    "## Ejercicio 4\n",
    "\n",
    "En el código se ha elaborado una lista de solicitudes para distintas consultas. \n",
    "Es necesario determinar cuáles de estas están dirigidos a Jesus y cuáles a otras personas.\n",
    "Escriba una función `check_query()` que tome una solicitud `query` como argumento, la analice y devuelva una de dos strings:\n",
    "- string `'Solicitud dirigida a Jesus'`, si la solicitud comienza con la palabra `'Jesus'`,\n",
    "- o la string `'Solicitud dirigida a otra persona'` si la solicitud comienza con cualquier otra palabra."
   ],
   "block_group": "ec9267e7edc742f297f6efb96a43309f"
  },
  {
   "cell_type": "code",
   "metadata": {
    "cell_id": "51ea4a129fcf4098943fcedb11d755fb",
    "deepnote_cell_type": "code",
    "ExecuteTime": {
     "end_time": "2023-09-17T01:36:46.724876100Z",
     "start_time": "2023-09-17T01:36:46.716858300Z"
    }
   },
   "source": [
    "# Defina esta funcion\n",
    "def check_query(query):\n",
    "    # su codigo aqui\n",
    "    if query.startswith('Jesus'):\n",
    "        return 'Solicitud dirigida a Jesus'\n",
    "    else:\n",
    "        return 'Solicitud dirigida a otra persona'\n",
    "\n",
    "queries = [\n",
    "    \"Jesus, que hora es?\",\n",
    "    \"Pedro, donde estas?\",\n",
    "    \"Kate, vamos?\",\n",
    "    \"Jesus, como va el curso?\",\n",
    "]\n",
    "\n",
    "# No modificar \n",
    "for q in queries:\n",
    "    result = check_query(q)\n",
    "    print(q, \"-\", result)"
   ],
   "block_group": "51ea4a129fcf4098943fcedb11d755fb",
   "execution_count": 1,
   "outputs": [
    {
     "name": "stdout",
     "output_type": "stream",
     "text": [
      "Jesus, que hora es? - Solicitud dirigida a Jesus\n",
      "Pedro, donde estas? - Solicitud dirigida a otra persona\n",
      "Kate, vamos? - Solicitud dirigida a otra persona\n",
      "Jesus, como va el curso? - Solicitud dirigida a Jesus\n"
     ]
    }
   ]
  },
  {
   "cell_type": "markdown",
   "metadata": {
    "cell_id": "261f214a55bc4c0083b21f1937360d45",
    "deepnote_cell_type": "markdown"
   },
   "source": [
    "## Ejercicio 5\n",
    "\n",
    "Defina una funcion `calcular_area_cuadrado(side_a, side_b)` que toma dos argumentos `side_a` y `side_b`. Note que esta funcion debe retornar lo siguiente:\n",
    "- Si `side_a` o `side_b` es igual a `0` la funcion retorna la string `\"No se permite ceros\"`\n",
    "- Si `side_a` o `side_b` es menor a `0` la funcion retorna la string `\"No se permite numeros negativos\"`\n",
    "- Caso que ninguna de las condiciones de arriba se cumpla, la funcion retorna la multiplicacion `side_a * side_b`"
   ],
   "block_group": "261f214a55bc4c0083b21f1937360d45"
  },
  {
   "cell_type": "code",
   "metadata": {
    "cell_id": "da159e9ac3d1405d9e8bd4f169b6927b",
    "deepnote_cell_type": "code",
    "ExecuteTime": {
     "end_time": "2023-09-17T01:40:45.454268700Z",
     "start_time": "2023-09-17T01:40:45.421408800Z"
    }
   },
   "source": [
    "# Defina su funcion aqui\n",
    "def calcular_area_cuadrado(side_a,side_b):\n",
    "    if side_a < 0 or side_b <0:\n",
    "        return 'No se permite ceros'\n",
    "    elif side_a == 0 or side_b ==0:\n",
    "        return 'No se permite numeros negativos'\n",
    "    else:\n",
    "        return side_a * side_b\n",
    "    \n",
    "# Llame su funcion aca\n",
    "calcular_area_cuadrado(5,5)"
   ],
   "block_group": "da159e9ac3d1405d9e8bd4f169b6927b",
   "execution_count": 2,
   "outputs": [
    {
     "data": {
      "text/plain": "25"
     },
     "execution_count": 2,
     "metadata": {},
     "output_type": "execute_result"
    }
   ]
  },
  {
   "cell_type": "markdown",
   "metadata": {
    "cell_id": "eef98f6457654aa4af47eb8c1a834989",
    "deepnote_cell_type": "markdown"
   },
   "source": [
    "## Ejercicio 6\n",
    "\n",
    "Cree una funcion `create_big_list(number)` que tome un argumento `number`. Este argumento es un numero entero. La funcion debe crear una lista con `number` de elementos. Es decir:\n",
    "\n",
    "```\n",
    "my_list = create_big_list(10)\n",
    "\n",
    "print(my_list)\n",
    "# Salida\n",
    "Name 1\n",
    "Name 2\n",
    "Name 3\n",
    "...\n",
    "Name 10\n",
    "```\n",
    "\n",
    "La lista que retorna la funcion `create_big_list` tiene 10 elementos ya que su argumento `number` es igual a `10`"
   ],
   "block_group": "eef98f6457654aa4af47eb8c1a834989"
  },
  {
   "cell_type": "code",
   "metadata": {
    "cell_id": "2211e9b492434fb2a4b682306db57a5e",
    "deepnote_cell_type": "code",
    "ExecuteTime": {
     "end_time": "2023-09-17T01:45:05.015140500Z",
     "start_time": "2023-09-17T01:45:05.007288Z"
    }
   },
   "source": [
    "# Defina su funcion aqui\n",
    "def create_big_list(number):\n",
    "    my_list = []\n",
    "    \n",
    "    for i in range(1,number+1):\n",
    "        my_list.append(f'name {i}')\n",
    "    \n",
    "    return my_list\n",
    "\n",
    "# Llame su funcion aca\n",
    "create_big_list(10)"
   ],
   "block_group": "2211e9b492434fb2a4b682306db57a5e",
   "execution_count": 7,
   "outputs": [
    {
     "data": {
      "text/plain": "['name 1',\n 'name 2',\n 'name 3',\n 'name 4',\n 'name 5',\n 'name 6',\n 'name 7',\n 'name 8',\n 'name 9',\n 'name 10']"
     },
     "execution_count": 7,
     "metadata": {},
     "output_type": "execute_result"
    }
   ]
  },
  {
   "cell_type": "markdown",
   "metadata": {
    "cell_id": "6ff434ffbab243519c9566f8342b23b5",
    "deepnote_cell_type": "markdown"
   },
   "source": [
    "## Ejercicio 7\n",
    "Se quiere crear un bot que pueda preguntar a los usuarios preguntas comunes (Revise la lista `PREGUNTAS`). Sin embargo, el bot puede preguntar cualquiera de estas preguntas (de forma aleatoria). \n",
    "\n",
    "Cree una funcion `pregunta_bot(preguntas)` que acepte un argumento `preguntas` y este argumento es la lista de preguntas. Cada vez que esta funcion se llame se debe mostrar una pregunta distinta!\n",
    "\n",
    "Ejemplo:\n",
    "```\n",
    "pregunta = pregunta_bot(PREGUNTAS)\n",
    "# OUTPUT: hola?\n",
    "\n",
    "pregunta = pregunta_bot(PREGUNTAS)\n",
    "# OUTPUT: como estas?\n",
    "\n",
    "\n",
    "pregunta = pregunta_bot(PREGUNTAS)\n",
    "# OUTPUT: de donde eres?\n",
    "```\n",
    "\n",
    "Note que las preguntas en la lista estan con mayusculas! Sin embargo, esto es muy rudo de parte del bot. Por este motivo, debe utilizar el metodo `pregunta.lower()` para transformar las mayusculas a minusculas. "
   ],
   "block_group": "6ff434ffbab243519c9566f8342b23b5"
  },
  {
   "cell_type": "code",
   "metadata": {
    "cell_id": "4857ab3dbf7b4101b8c0e45f7ae179c5",
    "deepnote_cell_type": "code",
    "ExecuteTime": {
     "end_time": "2023-09-17T01:52:44.796839Z",
     "start_time": "2023-09-17T01:52:44.759333200Z"
    }
   },
   "source": [
    "# importe las librerias correctas\n",
    "import random\n",
    "\n",
    "# No modificar\n",
    "PREGUNTAS = [\n",
    "    \"HOLA?\",\n",
    "    \"COMO ESTAS?\",\n",
    "    \"QUE TAL?\",\n",
    "    \"DE DONDE ERES?\",\n",
    "    \"COMO TE LLAMAS?\",\n",
    "    \"TIENES HAMBRE?\",\n",
    "    \"VAMOS?\",\n",
    "    \"QUE HACES?\",\n",
    "    \"PASEAMOS?\",\n",
    "    \"UNA PELI?\",\n",
    "]\n",
    "\n",
    "# Codigo aqui\n",
    "def pregunta_bot(preguntas):\n",
    "    question = random.choice(preguntas)\n",
    "    question = question.lower()\n",
    "    \n",
    "    return question\n",
    "# No modificar\n",
    "# Corra la celda varias veces y verifique que se muestra \n",
    "# una pregunta diferente cada vez\n",
    "pregunta = pregunta_bot(PREGUNTAS)\n",
    "print(pregunta)\n",
    "pregunta = pregunta_bot(PREGUNTAS)\n",
    "print(pregunta)\n",
    "pregunta = pregunta_bot(PREGUNTAS)\n",
    "print(pregunta)\n",
    "pregunta = pregunta_bot(PREGUNTAS)\n",
    "print(pregunta)\n",
    "pregunta = pregunta_bot(PREGUNTAS)\n",
    "print(pregunta)\n",
    "pregunta = pregunta_bot(PREGUNTAS)\n",
    "print(pregunta)\n"
   ],
   "block_group": "4857ab3dbf7b4101b8c0e45f7ae179c5",
   "execution_count": 16,
   "outputs": [
    {
     "name": "stdout",
     "output_type": "stream",
     "text": [
      "como te llamas?\n",
      "vamos?\n",
      "como te llamas?\n",
      "tienes hambre?\n",
      "paseamos?\n",
      "tienes hambre?\n"
     ]
    }
   ]
  },
  {
   "cell_type": "markdown",
   "metadata": {
    "cell_id": "ce85a2e7d32f43ae8ba4bbe19a281bca",
    "deepnote_cell_type": "markdown"
   },
   "source": [
    "## Ejercicio 8\n",
    "\n",
    "Queremos crear un bot que nos responda a algunas preguntas! Por favor, analice el codigo de abajo y siga las instrucciones para completar este ejercicio!\n",
    "\n",
    "Ejemplo de respuestas (Corra la ultima celda para verificar)\n",
    "```\n",
    "Hola, soy su asistente personal!\n",
    "\n",
    "Cuantos amigos tengo?\n",
    "Tienes 8 amigos\n",
    "\n",
    "Quienes son todos mis amigos?\n",
    "Tus amigos son: Misha, Alexis, Hernan, Kate, Jose, Sebastian, Yegor, Julio, \n",
    "\n",
    "Donde viven mis amigos?\n",
    "Tus ciudades son: Moscu, Madrid, La Paz, Santa Cruz, Sucre, Suiza, Guatemala, \n",
    "```\n",
    "\n",
    "Note que el orden puede ser distinto en su caso!"
   ],
   "block_group": "ce85a2e7d32f43ae8ba4bbe19a281bca"
  },
  {
   "cell_type": "code",
   "metadata": {
    "cell_id": "4e51d667c7f14878bd8be04bcd3bff8d",
    "deepnote_cell_type": "code",
    "ExecuteTime": {
     "end_time": "2023-09-17T02:27:54.692368Z",
     "start_time": "2023-09-17T02:27:54.656886400Z"
    }
   },
   "source": [
    "# No modificar\n",
    "NAMES = [\n",
    "    \"Jose\",\n",
    "    \"Kate\",\n",
    "    \"Misha\",\n",
    "    \"Yegor\",\n",
    "    \"Julio\",\n",
    "    \"Hernan\",\n",
    "    \"Alexis\",\n",
    "    \"Sebastian\"\n",
    "]\n",
    "\n",
    "CITIES = [\n",
    "    \"Santa Cruz\",\n",
    "    \"Moscu\",\n",
    "    \"Moscu\",\n",
    "    \"Suiza\",\n",
    "    \"Sucre\",\n",
    "    \"La Paz\",\n",
    "    \"Madrid\",\n",
    "    \"Guatemala\"\n",
    "]\n",
    "print(\"Hola, soy su asistente personal!\")\n",
    "\n",
    "# Codigo aqui \n",
    "def process_query(solicitud):\n",
    "    # TODO: Ejercicio 1:\n",
    "    #       Modifique el if statement para que el asistente\n",
    "    #       pueda atender a la primera pregunta\n",
    "    if solicitud == 'cuantos amigos tengo?':\n",
    "        # TODO: Calcule el numero de amigos que tenemos y guardelo en la variable count\n",
    "        count = len(NAMES) \n",
    "\n",
    "        # TODO: Retorne la string adecuada como se indica en el ejercicio 1\n",
    "        return \"Tienes \" + str(count) + ' amigos'\n",
    "\n",
    "    # TODO: Ejercicio 2:\n",
    "    #       Modifique el elif para que el asistente atienda a la pregunta 2\n",
    "    elif solicitud == 'Quienes son todos mis amigos?':\n",
    "        friends_string = ''\n",
    "        # TODO: itere por la lista NAMES.\n",
    "        #       use la variable temporal para rellenar la variable friends_string\n",
    "        #       retorne la string adecuada (como se muestra en el ejercicio)\n",
    "        for name in NAMES:\n",
    "            # TODO: Analice esta linea de codigo\n",
    "            friends_string += name + \", \"\n",
    "\n",
    "        # TODO: retorne la string adecuada segun el ejemplo\n",
    "        return \"Tus amigos son: \" + friends_string\n",
    "\n",
    "    # TODO: Ejercicio 3:\n",
    "    #       Agregue otro elif statement de tal forma que el asistente pueda responder\n",
    "    #       a la pregunta \"Donde viven mis amigos?\"\n",
    "    #       use la funcion set() para solo mostrar las ciudades unicas en la lista CITIES\n",
    "    #       IMPORTANTE NO SE necesita imprimir ciudades repetidas. Por este motivo debera usar set()\n",
    "    elif solicitud == 'Donde viven mis amigos?':\n",
    "        cities = set(CITIES)\n",
    "        cities_s = ''\n",
    "        # TODO: itere por la lista CITIES.\n",
    "        #       use el ejemplo de arriba para rellenar la variable cities\n",
    "        #       retorne la string adecuada (como se muestra en el ejercicio)\n",
    "        for citie in cities:\n",
    "            cities_s +=  citie + \", \"\n",
    "\n",
    "        return \"Tus ciudades son \" + cities_s     \n",
    "\n",
    "    # En caso de no entender la pregunta el asistente devuelve \"No entiendo\"\n",
    "    else:\n",
    "        return \"No entiendo\"\n",
    "    \n",
    "A1 = process_query('cuantos amigos tengo?')\n",
    "A2 = process_query('Quienes son todos mis amigos?')\n",
    "A3 = process_query('Donde viven mis amigos?')\n",
    "A4 = process_query('cuantos años tengo')\n",
    "\n",
    "print(A1)\n",
    "print(A2)\n",
    "print(A3)\n",
    "print(A4)\n",
    "    "
   ],
   "block_group": "4e51d667c7f14878bd8be04bcd3bff8d",
   "execution_count": 60,
   "outputs": [
    {
     "name": "stdout",
     "output_type": "stream",
     "text": [
      "Hola, soy su asistente personal!\n",
      "Tienes 8 amigos\n",
      "Tus amigos son: Jose, Kate, Misha, Yegor, Julio, Hernan, Alexis, Sebastian, \n",
      "Tus ciudades son Madrid, La Paz, Moscu, Guatemala, Suiza, Sucre, Santa Cruz, \n",
      "No entiendo\n"
     ]
    }
   ]
  },
  {
   "cell_type": "code",
   "metadata": {
    "cell_id": "a22f4febe2d94ea5a5ad45360a843456",
    "deepnote_cell_type": "code",
    "ExecuteTime": {
     "start_time": "2023-09-17T01:30:17.774425100Z"
    }
   },
   "source": [
    "# Verificacion del codigo anterior\n",
    "print(\"Hola, soy su asistente personal!\")\n",
    "print(process_query(\"Cuantos amigos tengo?\"))\n",
    "print(process_query(\"Quienes son todos mis amigos?\"))\n",
    "print(process_query(\"Donde viven mis amigos?\"))"
   ],
   "block_group": "a22f4febe2d94ea5a5ad45360a843456",
   "execution_count": null,
   "outputs": []
  },
  {
   "cell_type": "markdown",
   "metadata": {
    "cell_id": "8007d571d10f499aa90f30360d5eae7d",
    "deepnote_cell_type": "markdown"
   },
   "source": [
    "## Salida esperada:\n",
    "\n",
    "Hola, soy su asistente personal!\n",
    "\n",
    "Tienes 8 amigos\n",
    "\n",
    "Tus amigos son: Misha, Alexis, Hernan, Kate, Jose, Sebastian, Yegor, Julio, \n",
    "\n",
    "Tus ciudades son: Moscu, Madrid, La Paz, Santa Cruz, Sucre, Suiza, Guatemala, \n"
   ],
   "block_group": "8007d571d10f499aa90f30360d5eae7d"
  },
  {
   "cell_type": "markdown",
   "metadata": {
    "cell_id": "698491434d8346109ec4f47950f78142",
    "deepnote_cell_type": "markdown"
   },
   "source": [
    "## WOW \n",
    "Felicidades por cumplir con todos estos ejercicios! :D"
   ],
   "block_group": "698491434d8346109ec4f47950f78142"
  }
 ],
 "nbformat": 4,
 "nbformat_minor": 0,
 "metadata": {
  "deepnote": {},
  "orig_nbformat": 2,
  "deepnote_notebook_id": "1129ef7ea4244341acb52d01d0c775c5",
  "deepnote_execution_queue": [],
  "kernelspec": {
   "name": "python3",
   "language": "python",
   "display_name": "Python 3 (ipykernel)"
  }
 }
}
