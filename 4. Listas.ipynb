{
 "cells": [
  {
   "cell_type": "markdown",
   "metadata": {
    "cell_id": "a42fbcc737b54404bd29c00fabbf91e0",
    "deepnote_cell_type": "markdown"
   },
   "source": [
    "# Listas\n",
    "Las listas son secuencias de números, strings u otros valores.\n",
    "Ya les has asignado a las variables valores númericos y de string. Del mismo modo, las variables también pueden contener listas.\n",
    "Los contenidos de las listas se escriben entre corchetes, y los elementos de la lista se separan mediante una coma:\n",
    "```\n",
    "new_list = [<elemento>, <elemento>, <elemento>, <elemento>, <elemento>] \n",
    "```\n",
    "En la variable `english_alphabet` (alfabeto en inglés), vamos a guardar una lista formada por las letras del alfabeto. Una letra es un string, así que cada elemento debe ir entrecomillado.\n",
    "\n",
    "```\n",
    "english_alphabet =\n",
    "['a','b','c','d','e','f','g','h','i','j','k','l','m','n','o','p','q','r','s','t','u','v','w','x','y','z']\n",
    "```"
   ],
   "block_group": "a42fbcc737b54404bd29c00fabbf91e0"
  },
  {
   "cell_type": "code",
   "metadata": {
    "source_hash": null,
    "execution_start": 1692995078919,
    "execution_millis": 13,
    "deepnote_to_be_reexecuted": false,
    "cell_id": "674467faf6e54deeab53fba20164892c",
    "deepnote_cell_type": "code",
    "ExecuteTime": {
     "end_time": "2023-09-06T15:58:34.590081700Z",
     "start_time": "2023-09-06T15:58:34.513705200Z"
    }
   },
   "source": [
    "# Ejemplo \n",
    "english_alphabet = ['a','b','c','d','e','f','g','h','i','j','k','l','m','n','o','p','q','r','s','t','u','v','w','x','y','z']\n",
    "print(english_alphabet)"
   ],
   "block_group": "674467faf6e54deeab53fba20164892c",
   "execution_count": 1,
   "outputs": [
    {
     "name": "stdout",
     "output_type": "stream",
     "text": [
      "['a', 'b', 'c', 'd', 'e', 'f', 'g', 'h', 'i', 'j', 'k', 'l', 'm', 'n', 'o', 'p', 'q', 'r', 's', 't', 'u', 'v', 'w', 'x', 'y', 'z']\n"
     ]
    }
   ]
  },
  {
   "cell_type": "markdown",
   "metadata": {
    "cell_id": "52a0929964544deaa92e3310e4e31e87",
    "deepnote_cell_type": "markdown"
   },
   "source": [
    "## Ejercicio 1\n",
    "- Cree una lista con los nombres de algunos de sus amigos! Agregue al menos 5 nombres"
   ],
   "block_group": "52a0929964544deaa92e3310e4e31e87"
  },
  {
   "cell_type": "code",
   "metadata": {
    "source_hash": null,
    "execution_start": 1692995087431,
    "execution_millis": 12,
    "deepnote_to_be_reexecuted": false,
    "cell_id": "436f781c8579437798696517d4d9e678",
    "deepnote_cell_type": "code",
    "ExecuteTime": {
     "end_time": "2023-09-08T11:58:03.959183500Z",
     "start_time": "2023-09-08T11:58:03.948834300Z"
    }
   },
   "source": [
    "my_friends = ['sandro','david','maria','yuliana','Moira']\n",
    "print(my_friends)"
   ],
   "block_group": "436f781c8579437798696517d4d9e678",
   "execution_count": 1,
   "outputs": [
    {
     "name": "stdout",
     "output_type": "stream",
     "text": [
      "['sandro', 'david', 'maria', 'yuliana', 'Moira']\n"
     ]
    }
   ]
  },
  {
   "cell_type": "markdown",
   "metadata": {
    "cell_id": "2c82bcf651894f848feb1d132862d1e7",
    "deepnote_cell_type": "markdown"
   },
   "source": [
    "Cada elemento tiene su propio número de serie: `index` (índice). A través del índice, puedes obtener el valor de un elemento de la lista.\n",
    "Comprueba en la celda cuál será la salida de este código:"
   ],
   "block_group": "2c82bcf651894f848feb1d132862d1e7"
  },
  {
   "cell_type": "code",
   "metadata": {
    "source_hash": null,
    "execution_start": 1692995096455,
    "execution_millis": 11,
    "deepnote_to_be_reexecuted": false,
    "cell_id": "b738639717ad43c6be703db3914ffed6",
    "deepnote_cell_type": "code",
    "ExecuteTime": {
     "end_time": "2023-09-08T11:58:34.796275700Z",
     "start_time": "2023-09-08T11:58:34.782976800Z"
    }
   },
   "source": [
    "english_alphabet = ['a', 'b', 'c', 'd', 'e', 'f', 'g', 'h', 'i', 'j', 'k', 'l', 'm', 'n', 'o', 'p', 'q', 'r', 's', 't', 'u', 'v', 'w', 'x', 'y', 'z']\n",
    "\n",
    "print(english_alphabet[1])  # Muestra el contenido del elemento con su índice 1 \n",
    "# muestra b\n",
    "print(english_alphabet[2])  # Muestra el contenido del elemento con su índice 2\n",
    "# muestra c"
   ],
   "block_group": "b738639717ad43c6be703db3914ffed6",
   "execution_count": 4,
   "outputs": [
    {
     "name": "stdout",
     "output_type": "stream",
     "text": [
      "b\n",
      "c\n"
     ]
    }
   ]
  },
  {
   "cell_type": "markdown",
   "metadata": {
    "cell_id": "be6889c070df4e12bf661ded0c4d72df",
    "deepnote_cell_type": "markdown"
   },
   "source": [
    "¡Sorpresa! La salida es:\n",
    "```\n",
    "b\n",
    "c\n",
    "```\n",
    "\n",
    "Mmm, el índice 1 no devolvió el primer elemento de la lista. Devolvió el segundo. Pero no hay ningún error aquí. El conteo de las listas comienza desde cero.\n",
    "El primer elemento tiene el índice cero:\n",
    "```\n",
    "print(english_alphabet[0])  \n",
    "# Muestra el contenido del elemento con su índice\n",
    "# Devuelve: а \n",
    "```\n",
    "\n",
    "Tambien podemos crear listas de numeros!\n",
    "```\n",
    "countdown = [5, 4, 3, 2, 1, 0]\n",
    "```"
   ],
   "block_group": "be6889c070df4e12bf661ded0c4d72df"
  },
  {
   "cell_type": "code",
   "metadata": {
    "source_hash": null,
    "execution_start": 1692995110611,
    "execution_millis": 11,
    "deepnote_to_be_reexecuted": false,
    "cell_id": "38fa31b113124d8fa3a39127e93c1fc6",
    "deepnote_cell_type": "code",
    "ExecuteTime": {
     "end_time": "2023-09-06T15:58:34.592089800Z",
     "start_time": "2023-09-06T15:58:34.560587600Z"
    }
   },
   "source": [
    "countdown = [5, 4, 3, 2, 1, 0] \n",
    "print(countdown)"
   ],
   "block_group": "38fa31b113124d8fa3a39127e93c1fc6",
   "execution_count": 4,
   "outputs": [
    {
     "name": "stdout",
     "output_type": "stream",
     "text": [
      "[5, 4, 3, 2, 1, 0]\n"
     ]
    }
   ]
  },
  {
   "cell_type": "code",
   "metadata": {
    "source_hash": null,
    "execution_start": 1692995119921,
    "execution_millis": 19,
    "deepnote_to_be_reexecuted": false,
    "cell_id": "433f16d5c92b4fa799bd697f9d165b3a",
    "deepnote_cell_type": "code",
    "ExecuteTime": {
     "end_time": "2023-09-06T15:58:34.596880700Z",
     "start_time": "2023-09-06T15:58:34.570072900Z"
    }
   },
   "source": [
    "# Una lista puede contener un solo elemento. Sólo está John Lennon en la lista de vocalistas:\n",
    "frontman = ['John']\n",
    "\n",
    "# Una lista diferente contiene muchos músicos\n",
    "members = ['Paul', 'Ringo', 'George']\n",
    "\n",
    "# La suma de las listas da como resultado una nueva lista\n",
    "the_beatles = frontman + members\n",
    "\n",
    "# Ahora la banda está completa:\n",
    "print(the_beatles)"
   ],
   "block_group": "433f16d5c92b4fa799bd697f9d165b3a",
   "execution_count": 5,
   "outputs": [
    {
     "name": "stdout",
     "output_type": "stream",
     "text": [
      "['John', 'Paul', 'Ringo', 'George']\n"
     ]
    }
   ]
  },
  {
   "cell_type": "markdown",
   "metadata": {
    "cell_id": "84deb09387b044259fd3c85280708922",
    "deepnote_cell_type": "markdown"
   },
   "source": [
    "Existe una función estándar que cuenta los elementos de una lista `len()`."
   ],
   "block_group": "84deb09387b044259fd3c85280708922"
  },
  {
   "cell_type": "code",
   "metadata": {
    "source_hash": null,
    "execution_start": 1692995128843,
    "execution_millis": 12,
    "deepnote_to_be_reexecuted": false,
    "cell_id": "53db7e5b2c98495782b4144ca753c75d",
    "deepnote_cell_type": "code",
    "ExecuteTime": {
     "end_time": "2023-09-08T11:59:58.341351900Z",
     "start_time": "2023-09-08T11:59:58.318897800Z"
    }
   },
   "source": [
    "members = ['Paul', 'Ringo', 'George','Sandro']\n",
    "number_of_members = len(members)  # Cointamos cuantos miembros hay en la lista\n",
    "print(number_of_members)"
   ],
   "block_group": "53db7e5b2c98495782b4144ca753c75d",
   "execution_count": 6,
   "outputs": [
    {
     "name": "stdout",
     "output_type": "stream",
     "text": [
      "4\n"
     ]
    }
   ]
  },
  {
   "cell_type": "markdown",
   "metadata": {
    "cell_id": "068ed9e8123d42f192ca0771184f2937",
    "deepnote_cell_type": "markdown"
   },
   "source": [
    "## Ejercicio 2\n",
    "Enseña a su programa a trabajar con la lista de `friends`. Para hacer esto, crea la lista `friends` que contenga los elementos en este orden:`'Joey'`, `'Monica'`, `'Ross'`, `'Phoebe'`, `'Chandler'`,`'Rachel'`.\n",
    "Cuando hayas creado la lista friends, muestra su contenido."
   ],
   "block_group": "068ed9e8123d42f192ca0771184f2937"
  },
  {
   "cell_type": "code",
   "metadata": {
    "cell_id": "eb8cbacf5147418db2709e03220445b5",
    "deepnote_cell_type": "code",
    "ExecuteTime": {
     "end_time": "2023-09-08T12:01:38.904138100Z",
     "start_time": "2023-09-08T12:01:38.452927300Z"
    }
   },
   "source": [
    "friends = ['Joey','Monica','Ross','Phoebe','Chandler','Rachel']\n",
    "print(friends)"
   ],
   "block_group": "eb8cbacf5147418db2709e03220445b5",
   "execution_count": 7,
   "outputs": [
    {
     "name": "stdout",
     "output_type": "stream",
     "text": [
      "['Joey', 'Monica', 'Ross', 'Phoebe', 'Chandler', 'Rachel']\n"
     ]
    }
   ]
  },
  {
   "cell_type": "markdown",
   "metadata": {
    "cell_id": "f4f32a206bde46b98362c24cbb36fba3",
    "deepnote_cell_type": "markdown"
   },
   "source": [
    "## Ejercicio 3\n",
    "\n",
    "Es hora de que su programa aprenda cómo decir hola.\n",
    "Añade el código para que tu programa muestre la frase:\n",
    "```\n",
    "Hola, Phoebe, soy un programa\n",
    "```"
   ],
   "block_group": "f4f32a206bde46b98362c24cbb36fba3"
  },
  {
   "cell_type": "code",
   "metadata": {
    "source_hash": null,
    "execution_start": 1692995146747,
    "execution_millis": 11,
    "deepnote_to_be_reexecuted": false,
    "cell_id": "28391b3fb6784a1f864c044cf97fffba",
    "deepnote_cell_type": "code",
    "ExecuteTime": {
     "end_time": "2023-09-08T12:05:12.406159400Z",
     "start_time": "2023-09-08T12:05:12.390672700Z"
    }
   },
   "source": [
    "# Complete este codigo\n",
    "friends = ['sandro','Phoebe','Kevin_manco']\n",
    "index = friends[1]\n",
    "print('hola, '+ index + ', soy un programa')"
   ],
   "block_group": "28391b3fb6784a1f864c044cf97fffba",
   "execution_count": 8,
   "outputs": [
    {
     "name": "stdout",
     "output_type": "stream",
     "text": [
      "hola, Phoebe, soy un programa\n"
     ]
    }
   ]
  },
  {
   "cell_type": "markdown",
   "metadata": {
    "cell_id": "f561dffa28804b52ba21d5e5e0e2275f",
    "deepnote_cell_type": "markdown"
   },
   "source": [
    "## Ejercicio 4\n",
    "Ahora que ya sabemos saludos, nuestro programa podra decir algo sobre cada nombre en la lista por ejemplo:\n",
    "```\n",
    "{nombre del amigo usando el número de índice} vive en Santa Cruz\n",
    "```"
   ],
   "block_group": "f561dffa28804b52ba21d5e5e0e2275f"
  },
  {
   "cell_type": "code",
   "metadata": {
    "source_hash": null,
    "execution_start": 1692995170247,
    "execution_millis": 13,
    "deepnote_to_be_reexecuted": false,
    "cell_id": "42d144947b7e47c2a1850d707172cbeb",
    "deepnote_cell_type": "code",
    "ExecuteTime": {
     "end_time": "2023-09-08T12:30:15.821368500Z",
     "start_time": "2023-09-08T12:30:15.814707500Z"
    }
   },
   "source": [
    "# Complete este codigo\n",
    "friends = ['Sandro','Phoebe','Kevin_manco']\n",
    "index = friends[0]\n",
    "print(index + ' Vive en Santa Cruz')\n",
    "index = friends[1]\n",
    "print(index + ' vive en beni')\n",
    "index = friends[2]\n",
    "print(index + ' Vive en Pando')\n"
   ],
   "block_group": "42d144947b7e47c2a1850d707172cbeb",
   "execution_count": 10,
   "outputs": [
    {
     "name": "stdout",
     "output_type": "stream",
     "text": [
      "Sandro Vive en Santa Cruz\n",
      "Phoebe vive en beni\n",
      "Kevin_manco Vive en Pando\n"
     ]
    }
   ]
  },
  {
   "cell_type": "markdown",
   "metadata": {
    "cell_id": "5fea8b8373b94a26a4bb2e09c6c5a09f",
    "deepnote_cell_type": "markdown"
   },
   "source": [
    "## Ejercicio 5\n",
    "Ahora le enseñaremos a contar amigos.\n",
    "- Declara la variable `count` (conteo) y almacena en ella el número de amigos. Cuéntalos llamando a la función `len()`.\n",
    "- Muestra el string `Tienes {number} amigos`, donde {number} (número) es el valor de la variable count (conteo)."
   ],
   "block_group": "5fea8b8373b94a26a4bb2e09c6c5a09f"
  },
  {
   "cell_type": "code",
   "metadata": {
    "source_hash": null,
    "execution_start": 1692995180892,
    "execution_millis": 11,
    "deepnote_to_be_reexecuted": false,
    "cell_id": "d42fc16c57c3494daec3c6d1e8dc07c4",
    "deepnote_cell_type": "code",
    "ExecuteTime": {
     "end_time": "2023-09-08T12:36:04.097358400Z",
     "start_time": "2023-09-08T12:36:04.080124500Z"
    }
   },
   "source": [
    "# Codigo aqui\n",
    "\n",
    "count = ['Sandro','Phoebe','Kevin_manco','Adrian',]\n",
    "number_of_count = len(count)\n",
    "print('tienes,' + str(number_of_count) + ' amigos')"
   ],
   "block_group": "d42fc16c57c3494daec3c6d1e8dc07c4",
   "execution_count": 16,
   "outputs": [
    {
     "name": "stdout",
     "output_type": "stream",
     "text": [
      "tienes,4 amigos\n"
     ]
    }
   ]
  }
 ],
 "nbformat": 4,
 "nbformat_minor": 0,
 "metadata": {
  "deepnote": {},
  "orig_nbformat": 2,
  "deepnote_notebook_id": "b27a4d52caa4463d96e7e1ddb70feba2",
  "deepnote_execution_queue": [],
  "kernelspec": {
   "name": "python3",
   "language": "python",
   "display_name": "Python 3 (ipykernel)"
  }
 }
}
