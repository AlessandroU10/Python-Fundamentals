{
 "cells": [
  {
   "cell_type": "markdown",
   "metadata": {
    "cell_id": "c39e7b5c72a54389bc50a1e551f5ecf6",
    "deepnote_cell_type": "markdown"
   },
   "source": [
    "# Operaciones, Conversion, Errores, Inputs"
   ],
   "block_group": "065f6d3daec24011bbe056f869ca3dcb"
  },
  {
   "cell_type": "markdown",
   "metadata": {
    "cell_id": "903a5fa9541e4b2db533a586f178c103",
    "deepnote_cell_type": "markdown"
   },
   "source": [
    "### Ejercicio 1\n",
    "- Actualice la variable `meal` para mostrar cada comida del dia"
   ],
   "block_group": "8335c931ecb84d189e2258afd646757b"
  },
  {
   "cell_type": "code",
   "metadata": {
    "source_hash": null,
    "execution_start": 1692991672565,
    "execution_millis": 8,
    "deepnote_to_be_reexecuted": false,
    "cell_id": "065f6d3daec24011bbe056f869ca3dcb",
    "deepnote_cell_type": "code",
    "ExecuteTime": {
     "end_time": "2023-09-05T04:25:34.077599100Z",
     "start_time": "2023-09-05T04:25:33.720175300Z"
    }
   },
   "source": [
    "# ¡Hemos definido la variable \"meal\" aquí con el nombre de la comida que desayunamos!\n",
    "meal = \"Huevito :)\"\n",
    "\n",
    "# Muestra el desayuno\n",
    "print(\"Desayuno: \"+ meal)\n",
    "\n",
    "# Ahora actualice la variable 'meal' con el almuerzo\n",
    "meal = \"Pique Macho\"\n",
    "\n",
    "# Muestra el almuerzo\n",
    "print(\"Almuerzo: \" + meal)\n",
    "\n",
    "\n",
    "# Ahora actualice la variable 'meal' con la cena\n",
    "\n",
    "meal = \"Te con pan\"\n",
    "# Muestre la cena\n",
    "print(\"Cena: \"+ meal)\n"
   ],
   "block_group": "b75c8f3d55e44333b00ec612c3712625",
   "execution_count": 21,
   "outputs": [
    {
     "name": "stdout",
     "output_type": "stream",
     "text": [
      "Desayuno: Huevito :)\n",
      "Almuerzo: Pique Macho\n",
      "Cena: Te con pan\n"
     ]
    }
   ]
  },
  {
   "cell_type": "markdown",
   "metadata": {
    "cell_id": "f63d06a8f82746b59792f3508afad682",
    "deepnote_cell_type": "markdown"
   },
   "source": [
    "# Numeros\n",
    "\n",
    "Las computadoras pueden comprender mucho más que cadenas de texto. Python tiene algunos tipos de datos numéricos. Tiene múltiples formas de almacenar números. El que use depende de su propósito previsto para el número que está guardando.\n",
    "\n",
    "Un entero, o `int`, es un número entero. No tiene punto decimal y contiene todos los números de conteo (1, 2, 3, ...), así como sus contrapartes negativas y el número `0`. Si estuvieras contando el número de personas en una habitación, el número de gominolas en un frasco, o el número de teclas en un teclado, probablemente usaría un `número entero`.\n",
    "\n",
    "Un número de punto flotante, o `float`, es un número decimal. Se puede utilizar para representar cantidades fraccionarias, así como medidas precisas. Si estuviera midiendo la longitud de la pared de su dormitorio, calculando el puntaje promedio de una prueba de una clase de séptimo grado o almacenando el promedio de goles de un jugador de futbol en el mundial 2022, probablemente usaría un `float`.\n",
    "\n",
    "_Los números de punto flotante pueden comportarse de formas inesperadas debido a cómo los almacenan las computadoras_. \n",
    "\n",
    "Para obtener más información sobre los números de punto flotante y Python, revise [ Python’s documentation on floating-point limitations.](https://docs.python.org/3/tutorial/floatingpoint.html)"
   ],
   "block_group": "f63d06a8f82746b59792f3508afad682"
  },
  {
   "cell_type": "markdown",
   "metadata": {
    "cell_id": "4fa597b0234041c9a69f4063af49a4d3",
    "deepnote_cell_type": "markdown"
   },
   "source": [
    "### Ejercicio 2\n",
    "\n",
    "Una reciente experiencia de ir al cine te tiene emocionado de publicar una reseña. Sale corriendo del cine y comienza a programar a toda prisa para crear su sitio web de reseñas de películas: Las mejores escenas del cine decididas por una \"AI\".\n",
    "\n",
    "1. Cree las siguientes variables y asígneles números enteros: `release_year` y `runtime`.\n",
    "2. Ahora, cree la variable `rating_out_of_10` y asignele un numero flotante\n",
    "3. Imprima lo siguiente:\n",
    "```\n",
    "La pelicula se estreno el año ...\n",
    "Tiene una duracion de ...\n",
    "Una calificacion de ... \n",
    "```\n",
    "Cambie los ... por las variables creadas previamente"
   ],
   "block_group": "ad1d208f88a34e9fa906c99872dd0aea"
  },
  {
   "cell_type": "code",
   "metadata": {
    "cell_id": "b2b6327e23b44c74b186c049c4f30438",
    "deepnote_cell_type": "code",
    "ExecuteTime": {
     "end_time": "2023-09-05T04:25:34.101536300Z",
     "start_time": "2023-09-05T04:25:33.734870300Z"
    }
   },
   "source": [
    "# Ejercicio 2\n",
    "\n",
    "release_year = 2020\n",
    "runtime = 2\n",
    "rating_out_10 = float(9.58)\n",
    "\n",
    "print('La pelicula se estreno el año ' + str(release_year))\n",
    "print('Tiene una duracion de ' + str(runtime) + ' horas')\n",
    "print('Una Calificacion de ' + str(rating_out_10))\n"
   ],
   "block_group": "abc504075a924ae594358394ed27860e",
   "execution_count": 22,
   "outputs": [
    {
     "name": "stdout",
     "output_type": "stream",
     "text": [
      "La pelicula se estreno el año 2020\n",
      "Tiene una duracion de 2 horas\n",
      "Una Calificacion de 9.58\n"
     ]
    }
   ]
  },
  {
   "cell_type": "markdown",
   "metadata": {
    "cell_id": "5b1aec1475ad4a999b364336c3aeee41",
    "deepnote_cell_type": "markdown"
   },
   "source": [
    "# Operaciones\n",
    "\n",
    "Las computadoras sobresalen absolutamente en la realización de cálculos. El \"cómputo\" su nombre proviene de su asociación histórica con el suministro de respuestas a preguntas matemáticas. Python realiza las operaciones aritméticas de suma, resta, multiplicación y división con `+`, `-`, `*` y `/`.\n",
    "\n",
    "```python\n",
    "# Muestra 500\n",
    "print(573 - 74 + 1)\n",
    " \n",
    "# Muestra 50\n",
    "print(25 * 2)\n",
    " \n",
    "# Muestra 2.0\n",
    "print(10 / 5)\n",
    "```\n",
    "\n",
    "Note que cuando realizamos la división, el resultado tiene un lugar decimal. Esto se debe a que Python convierte todos los enteros en flotantes antes de realizar la división.\n",
    "\n",
    "La división puede arrojar su propio error especial: `ZeroDivisionError`. Python generará este error cuando intente dividir por 0. \n",
    "\n",
    "Puede hacer el intento en el sandbox :)\n"
   ],
   "block_group": "5b1aec1475ad4a999b364336c3aeee41"
  },
  {
   "cell_type": "markdown",
   "metadata": {
    "cell_id": "d236c1cc3f0c4631bc2f010de2eae0c3",
    "deepnote_cell_type": "markdown"
   },
   "source": [
    "### Ejercicio 3\n",
    "Cree tres variables, nombre a su eleccion, realice tres operaciones distintas sobre estas variables e imprima el resultado"
   ],
   "block_group": "d236c1cc3f0c4631bc2f010de2eae0c3"
  },
  {
   "cell_type": "code",
   "metadata": {
    "source_hash": null,
    "execution_start": 1692991832295,
    "execution_millis": 57,
    "deepnote_to_be_reexecuted": false,
    "cell_id": "c970f987988344878d25993ad1188ca0",
    "deepnote_cell_type": "code",
    "ExecuteTime": {
     "end_time": "2023-09-05T04:25:34.315962200Z",
     "start_time": "2023-09-05T04:25:33.748670100Z"
    }
   },
   "source": [
    "# Ejercicio con operaciones\n",
    "\n",
    "number50 = 49 + 1\n",
    "print(number50)\n",
    "\n",
    "number51 = 50 - 1 \n",
    "print(number51)\n",
    "\n",
    "number52 = 2 * 2 * 13\n",
    "print(number52)\n",
    "\n",
    "number54 = 108 / 2\n",
    "print(number54)\n"
   ],
   "block_group": "b7494e790da842dfa913b6eae459f1fe",
   "execution_count": 23,
   "outputs": [
    {
     "name": "stdout",
     "output_type": "stream",
     "text": [
      "50\n",
      "49\n",
      "52\n",
      "54.0\n"
     ]
    }
   ]
  },
  {
   "cell_type": "markdown",
   "metadata": {
    "cell_id": "392f68ba765d4e749aa75134d8fae95c",
    "deepnote_cell_type": "markdown"
   },
   "source": [
    "## Cambiando valores\n",
    "\n",
    "Las variables a las que se asignan valores numéricos se pueden tratar igual que los propios números. Se pueden sumar dos variables, dividir por 2 y multiplicar por una tercera variable sin que Python distinga entre las variables y los literales (como el número 2 en este ejemplo). \n",
    "\n",
    "Realizar aritmética en las variables no cambia la variable; solo puede actualizar una variable usando el signo `=`.\n",
    "\n",
    "```python\n",
    "coffee_price = 1.50\n",
    "number_of_coffees = 4\n",
    " \n",
    "#Muestra 6.0\n",
    "print(coffee_price * number_of_coffees)\n",
    "\n",
    "#Muestra 1.5\n",
    "print(coffee_price)\n",
    "\n",
    "#Muestra 4\n",
    "print(number_of_coffees)\n",
    " \n",
    "#Cambiamos el precio del cafe. Subio :(\n",
    "coffee_price = 2.00\n",
    " \n",
    "#Muestra 8.0\n",
    "print(coffee_price * number_of_coffees)\n",
    "\n",
    "#Muestra 2.0\n",
    "print(coffee_price)\n",
    "\n",
    "#Muestra 4\n",
    "print(number_of_coffees)\n",
    "```\n",
    "\n",
    "\n",
    "#### Importante\n",
    "Creamos dos variables y les asignamos valores numéricos. Luego realizamos un cálculo sobre ellos. ¡Esto no actualiza las variables! Cuando actualizamos la variable `coffee_price` y realizamos los cálculos nuevamente, ¡utilizan los valores actualizados para la variable!"
   ],
   "block_group": "392f68ba765d4e749aa75134d8fae95c"
  },
  {
   "cell_type": "markdown",
   "metadata": {
    "cell_id": "7237a68af6544054b0a866c2638b39c0",
    "deepnote_cell_type": "markdown"
   },
   "source": [
    "### Ejercicio 4\n",
    "\n",
    "¡Has decidido dedicarte al acolchado! \n",
    "\n",
    "1. Para calcular la cantidad total de material que se necesitará para su primera colcha, creemos dos variables: `width` y `length`. Hagamos esta primera colcha de `8` de ancho y `12` de largo.\n",
    "\n",
    "2. Muestre el area que necesitarás para crear la colcha\n",
    "\n",
    "3. Hagamos que la colcha solo tenga `8` de largo. ¿Cuánto es el Area que se necesitará para esta colcha?"
   ],
   "block_group": "2f95c6e6c60944df8c8e136a6dd108db"
  },
  {
   "cell_type": "code",
   "metadata": {
    "cell_id": "146e86b49eb248ada7126d28fccfbbe5",
    "deepnote_cell_type": "code",
    "ExecuteTime": {
     "end_time": "2023-09-05T04:25:34.319950800Z",
     "start_time": "2023-09-05T04:25:33.762064Z"
    }
   },
   "source": [
    "# Ejercicio 4\n",
    "\n",
    "width = 8\n",
    "length = 12\n",
    "\n",
    "area = width * length\n",
    "print('Para crear la colcha de 8x12 se necesitara un area de '+ str(area))\n",
    "\n",
    "width = 0\n",
    "length = 8\n",
    "\n",
    "area = width * length\n",
    "print('Para crear la colcha de 0x8 se necesitara un area de '+ str(area))\n",
    "\n"
   ],
   "block_group": "146e86b49eb248ada7126d28fccfbbe5",
   "execution_count": 24,
   "outputs": [
    {
     "name": "stdout",
     "output_type": "stream",
     "text": [
      "Para crear la colcha de 8x12 se necesitara un area de 96\n",
      "Para crear la colcha de 0x8 se necesitara un area de 0\n"
     ]
    }
   ]
  },
  {
   "cell_type": "markdown",
   "metadata": {
    "cell_id": "adad0d057b6a4b26af0eda45c538b264",
    "deepnote_cell_type": "markdown"
   },
   "source": [
    "## Exponentes\n",
    "Python también puede realizar exponentes. En matemáticas, es posible que vea un exponente como un número en superíndice, pero escribir números en superíndice no siempre es fácil en los teclados modernos. Como esta operación está tan relacionada con la multiplicación, usamos la notación `**`.\n",
    "\n",
    "```python\n",
    "# 2 al poder de 10, o 1024\n",
    "print(2 ** 10)\n",
    " \n",
    "# 8 al cuadrado, o 64\n",
    "print(8 ** 2)\n",
    " \n",
    "# 9 * 9 * 9, 9 al cubo, o 729\n",
    "print(9 ** 3)\n",
    " \n",
    "# Podemos elevar a una fraccion\n",
    "# 4 a un medio, o 2\n",
    "print(4 ** 0.5)\n",
    "```"
   ],
   "block_group": "adad0d057b6a4b26af0eda45c538b264"
  },
  {
   "cell_type": "markdown",
   "metadata": {
    "cell_id": "6f4dae80136446d19e9f2aad4253c9e3",
    "deepnote_cell_type": "markdown"
   },
   "source": [
    "### Ejercicio 5\n",
    "Le gusta mucho cómo quedaron las colchas del último ejercicio y decide que todos los nuevos edredones que se haga serán cuadrados a partir de ahora.\n",
    "\n",
    "1. Usando el operador exponente, `**`, imprima el area necesaria para una colcha de `6x6`, una colcha de `7x7` y una colcha de `8x8`.\n",
    "\n",
    "\n",
    "2. Sus edredones de `6x6` han despegado tan bien que 6 personas han solicitado 6 edredones cada uno. Imprima cuánto en total se necesitara para hacer 6 edredones para 6 personas.\n",
    "\n",
    "No se olvide que debe utilizar el operador `**`"
   ],
   "block_group": "a615117f987b4ec0a3e76ab5d0fb098a"
  },
  {
   "cell_type": "code",
   "metadata": {
    "source_hash": null,
    "execution_start": 1692991925171,
    "execution_millis": 8,
    "deepnote_to_be_reexecuted": false,
    "cell_id": "2a73c5b1343946949ee340dcb28c9dbe",
    "deepnote_cell_type": "code",
    "ExecuteTime": {
     "end_time": "2023-09-05T04:25:34.332916500Z",
     "start_time": "2023-09-05T04:25:33.787873700Z"
    }
   },
   "source": [
    "# Ejercicio 5\n",
    "# Ejercicio 4\n",
    "\n",
    "width = 6\n",
    "length = 6\n",
    "\n",
    "area6x6 = width ** length\n",
    "print('Para crear la colcha de 6x6 se necesitara un area de '+ str(area6x6))\n",
    "\n",
    "width = 7\n",
    "length = 7\n",
    "\n",
    "area = width ** length\n",
    "print('Para crear la colcha de 7x7 se necesitara un area de '+ str(area))\n",
    "\n",
    "width = 8\n",
    "length = 8\n",
    "\n",
    "area = width ** length\n",
    "print('Para crear la colcha de 8x8 se necesitara un area de '+ str(area))\n",
    "\n",
    "edredones_persons = 6\n",
    "\n",
    "total = edredones_persons * area6x6\n",
    "print('El total para hacer 6 edredones para 6 personas es de ' + str(total))\n"
   ],
   "block_group": "2a73c5b1343946949ee340dcb28c9dbe",
   "execution_count": 25,
   "outputs": [
    {
     "name": "stdout",
     "output_type": "stream",
     "text": [
      "Para crear la colcha de 6x6 se necesitara un area de 46656\n",
      "Para crear la colcha de 7x7 se necesitara un area de 823543\n",
      "Para crear la colcha de 8x8 se necesitara un area de 16777216\n",
      "El total para hacer 6 edredones para 6 personas es de 279936\n"
     ]
    }
   ]
  },
  {
   "cell_type": "markdown",
   "metadata": {
    "cell_id": "fc1b1ad382b0435490faf7a3fe766c68",
    "deepnote_cell_type": "markdown"
   },
   "source": [
    "## Modulo\n",
    "\n",
    "Python ofrece un compañero para el operador de división llamado operador de `módulo`. El operador módulo se indica mediante `%` y proporciona el resto de un cálculo de división. Si el número es divisible, entonces el resultado del operador módulo será `0`.\n",
    "\n",
    "```python\n",
    "# Muestra 4 porque 29 / 5 es 5 con un resto de 4\n",
    "print(29 % 5)\n",
    " \n",
    "# Muestra 2 porque 32 / 3 es 10 con un resto de 2\n",
    "print(32 % 3)\n",
    " \n",
    "# Modulo por 2 retorna 0 para numeros pares y 1 para numeros impares\n",
    "# Muestra 0\n",
    "print(44 % 2)\n",
    "```\n",
    "\n",
    "Aquí, usamos el operador módulo para encontrar el resto de las operaciones de división. Vemos que`29 % 5` es igual a `4`, `32 % 3` es igual a `2` y `44 % 2` es igual a `0`.\n",
    "\n",
    "__Trivia__\n",
    "El operador módulo es útil en programación cuando queremos realizar una acción cada enésima vez que se ejecuta el código. ¿Puede el resultado de una operación de módulo ser mayor que el divisor? ¿Por qué o por qué no?"
   ],
   "block_group": "fc1b1ad382b0435490faf7a3fe766c68"
  },
  {
   "cell_type": "markdown",
   "metadata": {
    "cell_id": "94e5209398514f77939285ede29aa91a",
    "deepnote_cell_type": "markdown"
   },
   "source": [
    "### Ejercicio 6\n",
    "Estás tratando de dividir un grupo en cuatro equipos. Todos ustedes cuentan y obtienen que son 27 personas.\n",
    "\n",
    "1. Descubra su equipo calculando 27 módulo 4. Guarde el valor en una variable llamada `my_team`.\n",
    "\n",
    "\n",
    "2. Imprima `my_team`. ¿En qué numero de equipo estás?"
   ],
   "block_group": "94e5209398514f77939285ede29aa91a"
  },
  {
   "cell_type": "code",
   "metadata": {
    "source_hash": null,
    "execution_start": 1692991958051,
    "execution_millis": 10,
    "deepnote_to_be_reexecuted": false,
    "cell_id": "f341661250e84000a2941f30c5a751c4",
    "deepnote_cell_type": "code",
    "ExecuteTime": {
     "end_time": "2023-09-05T04:25:34.334910400Z",
     "start_time": "2023-09-05T04:25:33.802770500Z"
    }
   },
   "source": [
    "# Ejercicio 6\n",
    "my_team = 27 % 4\n",
    "print(\"Mi equipo es: \", my_team)"
   ],
   "block_group": "f341661250e84000a2941f30c5a751c4",
   "execution_count": 26,
   "outputs": [
    {
     "name": "stdout",
     "output_type": "stream",
     "text": [
      "Mi equipo es:  3\n"
     ]
    }
   ]
  },
  {
   "cell_type": "markdown",
   "metadata": {
    "cell_id": "657723871c3844bbac1cee6df7ef2571",
    "deepnote_cell_type": "markdown"
   },
   "source": [
    "### Ejercicio 7\n",
    "\n",
    "1. Una todas las strings en la variable `message`\n",
    "2. Imprima el `message`"
   ],
   "block_group": "2606500fd681496db1f179e4cbc8da1c"
  },
  {
   "cell_type": "code",
   "metadata": {
    "source_hash": null,
    "execution_start": 1692991978263,
    "execution_millis": 7,
    "deepnote_to_be_reexecuted": false,
    "cell_id": "d6b9b6761818453c99e7a48067ede02d",
    "deepnote_cell_type": "code",
    "ExecuteTime": {
     "end_time": "2023-09-05T04:25:34.345883300Z",
     "start_time": "2023-09-05T04:25:33.811895700Z"
    }
   },
   "source": [
    "string1 = \"The wind, \"\n",
    "string2 = \"which had hitherto carried us along with amazing rapidity, \"\n",
    "string3 = \"sank at sunset to a light breeze; \"\n",
    "string4 = \"the soft air just ruffled the water and \"\n",
    "string5 = \"caused a pleasant motion among the trees as we approached the shore, \"\n",
    "string6 = \"from which it wafted the most delightful scent of flowers and hay.\"\n",
    "\n",
    "# Defina message abajo:\n",
    "\n",
    "message = string1 + string2 + string3 + string4 + string5 + string6\n",
    "print(message)\n"
   ],
   "block_group": "d6b9b6761818453c99e7a48067ede02d",
   "execution_count": 27,
   "outputs": [
    {
     "name": "stdout",
     "output_type": "stream",
     "text": [
      "The wind, which had hitherto carried us along with amazing rapidity, sank at sunset to a light breeze; the soft air just ruffled the water and caused a pleasant motion among the trees as we approached the shore, from which it wafted the most delightful scent of flowers and hay.\n"
     ]
    }
   ]
  },
  {
   "cell_type": "markdown",
   "metadata": {
    "cell_id": "8ad9dd88436d477b8e175e711abdb7d2",
    "deepnote_cell_type": "markdown"
   },
   "source": [
    "### Ejercicio 8\n",
    "Estamos haciendo algunas compras en línea y encontramos un par de zapatillas nuevas. ¡Justo antes de salir, vemos un lindo suéter y algunos libros divertidos que también queremos comprar!\n",
    "\n",
    "Utilice el operador `+=` o la version larga de este operador, `x = x + 1`, para actualizar el `total_price` para incluir los precios de `nice_sweater` y `fun_books`.\n",
    "\n",
    "Los precios (también incluidos en el espacio de trabajo) son:\n",
    "\n",
    "`new_sneakers` = 50,00\n",
    "`nice_sweater` = 39,00\n",
    "`fun_books` = 20,00"
   ],
   "block_group": "2530d2db97714de98cb47ff29de8e264"
  },
  {
   "cell_type": "code",
   "metadata": {
    "cell_id": "6e88f7ece50749ccb73ca03f5a1320c9",
    "deepnote_cell_type": "code",
    "ExecuteTime": {
     "end_time": "2023-09-05T04:25:34.349883200Z",
     "start_time": "2023-09-05T04:25:33.825249800Z"
    }
   },
   "source": [
    "total_price = 0\n",
    "\n",
    "# Defina las variables necesarias\n",
    "\n",
    "new_sneakers = float(50.00)\n",
    "nice_sweater = float(39.00)\n",
    "fun_books = float(20.00)\n",
    "\n",
    "# Actualice el precio total aqui: (Despues de comprar los zapatos)\n",
    "\n",
    "total_price += new_sneakers\n",
    "\n",
    "# Actualice el precio total aqui: (Despues de comprar el sueter y los libros)\n",
    "\n",
    "total_price += nice_sweater + fun_books\n",
    "\n",
    "print(\"The total price is\", total_price)\n"
   ],
   "block_group": "6e88f7ece50749ccb73ca03f5a1320c9",
   "execution_count": 28,
   "outputs": [
    {
     "name": "stdout",
     "output_type": "stream",
     "text": [
      "The total price is 109.0\n"
     ]
    }
   ]
  },
  {
   "cell_type": "markdown",
   "metadata": {
    "cell_id": "14c29d6155534925bce919669aa724ec",
    "deepnote_cell_type": "markdown"
   },
   "source": [
    "## Operadores y Strings\n",
    "Ya hemos visto el operador `+` podemos sumar dos numeros, o podemos pegar dos strings. Sin embargo, que pasaria si multiplicamos dos strings?"
   ],
   "block_group": "14c29d6155534925bce919669aa724ec"
  },
  {
   "cell_type": "code",
   "metadata": {
    "source_hash": null,
    "execution_start": 1692992009587,
    "execution_millis": 36,
    "deepnote_to_be_reexecuted": false,
    "cell_id": "637cd4875c864637bc36e6897195551f",
    "deepnote_cell_type": "code",
    "ExecuteTime": {
     "end_time": "2023-09-05T04:25:34.352864Z",
     "start_time": "2023-09-05T04:25:33.835117Z"
    }
   },
   "source": [
    "# Si multiplicas un número por un número, el resultado es el esperado.\n",
    "six = 6\n",
    "print(six * 7)\n",
    "\n",
    "# Al multiplicar un string por un número se copia el string muchas veces\n",
    "lol = 'haw'\n",
    "print(lol * 10)"
   ],
   "block_group": "60d7804356394021911dc4dceaeaa396",
   "execution_count": 29,
   "outputs": [
    {
     "name": "stdout",
     "output_type": "stream",
     "text": [
      "42\n",
      "hawhawhawhawhawhawhawhawhawhaw\n"
     ]
    }
   ]
  },
  {
   "cell_type": "markdown",
   "metadata": {
    "cell_id": "83aadd51dbd34a208fd9312e3fb33ca9",
    "deepnote_cell_type": "markdown"
   },
   "source": [
    "## Conversión de tipos\n",
    "\n",
    "Al momento de usar los operadores se debe tomar en cuenta el tipo de dato de cada variable. Analice el codigo de abajo\n",
    "Este código no funciona, Python dará un error:"
   ],
   "block_group": "83aadd51dbd34a208fd9312e3fb33ca9"
  },
  {
   "cell_type": "code",
   "metadata": {
    "source_hash": null,
    "execution_start": 1692992034803,
    "execution_millis": 423,
    "deepnote_to_be_reexecuted": false,
    "cell_id": "631baaea5a9e422ba1208b4dcea8ccfb",
    "deepnote_cell_type": "code",
    "ExecuteTime": {
     "end_time": "2023-09-05T04:25:34.367855100Z",
     "start_time": "2023-09-05T04:25:33.845752100Z"
    }
   },
   "source": [
    "# Declara dos variables de diferentes tipos\n",
    "number = 100\n",
    "dollars = 'dólares'\n",
    "\n",
    "\n",
    "print(number + dollars)\n",
    "# El mensaje de error establece que el operador '+' no suma números enteros a los strings"
   ],
   "block_group": "631baaea5a9e422ba1208b4dcea8ccfb",
   "execution_count": 30,
   "outputs": [
    {
     "ename": "TypeError",
     "evalue": "unsupported operand type(s) for +: 'int' and 'str'",
     "output_type": "error",
     "traceback": [
      "\u001B[1;31m---------------------------------------------------------------------------\u001B[0m",
      "\u001B[1;31mTypeError\u001B[0m                                 Traceback (most recent call last)",
      "Cell \u001B[1;32mIn[30], line 6\u001B[0m\n\u001B[0;32m      2\u001B[0m number \u001B[38;5;241m=\u001B[39m \u001B[38;5;241m100\u001B[39m\n\u001B[0;32m      3\u001B[0m dollars \u001B[38;5;241m=\u001B[39m \u001B[38;5;124m'\u001B[39m\u001B[38;5;124mdólares\u001B[39m\u001B[38;5;124m'\u001B[39m\n\u001B[1;32m----> 6\u001B[0m \u001B[38;5;28mprint\u001B[39m(\u001B[43mnumber\u001B[49m\u001B[43m \u001B[49m\u001B[38;5;241;43m+\u001B[39;49m\u001B[43m \u001B[49m\u001B[43mdollars\u001B[49m)\n\u001B[0;32m      7\u001B[0m \u001B[38;5;66;03m# El mensaje de error establece que el operador '+' no suma números enteros a los strings\u001B[39;00m\n",
      "\u001B[1;31mTypeError\u001B[0m: unsupported operand type(s) for +: 'int' and 'str'"
     ]
    }
   ]
  },
  {
   "cell_type": "markdown",
   "metadata": {
    "cell_id": "2b3743af22b94bf5ae4852f29038037a",
    "deepnote_cell_type": "markdown"
   },
   "source": [
    "__Sin problema:__ Python te permite convertir el valor de una variable de un tipo a otro (__convert data type__ o \"conversión de tipos\").\n",
    "La conversión de datos de un tipo a otro es procesado por funciones especiales. Para convertir un número a un string, debes llamar la función `str()`:"
   ],
   "block_group": "628b20538f70474382b92ba53c5f49f6"
  },
  {
   "cell_type": "code",
   "metadata": {
    "source_hash": null,
    "execution_start": 1692992061321,
    "execution_millis": 11,
    "deepnote_to_be_reexecuted": false,
    "cell_id": "210809395f2d4c4382159f68242ff731",
    "deepnote_cell_type": "code",
    "ExecuteTime": {
     "start_time": "2023-09-05T04:25:33.859885900Z"
    }
   },
   "source": [
    "# El código donde la variable “number” se convierte en un string funciona perfectamente\n",
    "number = 100\n",
    "dollars = ' dólares'\n",
    "print(str(number) + dollars)"
   ],
   "block_group": "210809395f2d4c4382159f68242ff731",
   "execution_count": null,
   "outputs": []
  },
  {
   "cell_type": "markdown",
   "metadata": {
    "cell_id": "c16ccfd2aefd4ba382ea334da3d2675a",
    "deepnote_cell_type": "markdown"
   },
   "source": [
    "Y puedes convertir un string en un número entero con la función `int()`.\n",
    "Si sumas el string (¡entre comillas!) '100' y el string '500', no obtendrás el resultado que deseas."
   ],
   "block_group": "c16ccfd2aefd4ba382ea334da3d2675a"
  },
  {
   "cell_type": "markdown",
   "metadata": {
    "cell_id": "fb71e809f44d43b9a3c2fe741f9662d1",
    "deepnote_cell_type": "markdown"
   },
   "source": [
    "### Ejercicio 9\n",
    "1. Corra la siguiente celda y analice la salida!\n",
    "2. Utilice la funcion `int` para cambiar la variable de tipo string a entero\n",
    "3. Corra nuevamente el programa y analice la salida\n",
    "\n",
    "4. Realice lo mismo pero ahora utilizando la funcion `str` para cambiar de entero a string\n"
   ],
   "block_group": "fb71e809f44d43b9a3c2fe741f9662d1"
  },
  {
   "cell_type": "code",
   "metadata": {
    "source_hash": null,
    "execution_start": 1692992095383,
    "execution_millis": 10,
    "deepnote_to_be_reexecuted": false,
    "cell_id": "ff405e1ef0864e74ba45c8a9da0e0220",
    "deepnote_cell_type": "code",
    "ExecuteTime": {
     "end_time": "2023-09-05T04:25:34.370814800Z",
     "start_time": "2023-09-05T04:25:33.867865500Z"
    }
   },
   "source": [
    "# Antes de correr la celda que cree que mostrara?\n",
    " # un error no se puede sumar un strin con entero\n",
    "one_hundred = int('100')\n",
    "five_hundred = 500\n",
    "\n",
    "# Convierta a str la variable five_hundred\n",
    "print(one_hundred + five_hundred)"
   ],
   "block_group": "ff405e1ef0864e74ba45c8a9da0e0220",
   "execution_count": 31,
   "outputs": [
    {
     "name": "stdout",
     "output_type": "stream",
     "text": [
      "600\n"
     ]
    }
   ]
  },
  {
   "cell_type": "markdown",
   "metadata": {
    "cell_id": "ed33adfae4274881b9e50360b07645cd",
    "deepnote_cell_type": "markdown"
   },
   "source": [
    "### Ejercicio 10\n",
    "\n",
    "1. Usando la funcion `int` convierta los strings a números enteros y los sumaremos."
   ],
   "block_group": "ed33adfae4274881b9e50360b07645cd"
  },
  {
   "cell_type": "code",
   "metadata": {
    "source_hash": null,
    "execution_start": 1692992139187,
    "execution_millis": 11,
    "deepnote_to_be_reexecuted": false,
    "cell_id": "ca6c563cd98049bea539c057798620b6",
    "deepnote_cell_type": "code",
    "ExecuteTime": {
     "end_time": "2023-09-05T04:25:34.373838200Z",
     "start_time": "2023-09-05T04:25:33.885897100Z"
    }
   },
   "source": [
    "one_hundred = int('100')\n",
    "five_hundred = int('500')\n",
    "print(one_hundred + five_hundred)"
   ],
   "block_group": "0b4ef69c37bf47f38158c17f9e1462e4",
   "execution_count": 32,
   "outputs": [
    {
     "name": "stdout",
     "output_type": "stream",
     "text": [
      "600\n"
     ]
    }
   ]
  },
  {
   "cell_type": "markdown",
   "metadata": {
    "cell_id": "f77dfb27ab31497c9dad1fe7cbc72d23",
    "deepnote_cell_type": "markdown"
   },
   "source": [
    "### Ejercicio 11\n",
    "Le vamos a enseñar a nuestro programa a que te notifique cuando recibas un nuevo mensaje.\n",
    "- Muestre en la pantalla el string `'Tienes 8 nuevos mensajes'`  que contiene:\n",
    "- el string 'Tienes ',\n",
    "- el valor de la variable `count` (conteo),\n",
    "- y el string ' nuevos mensajes'.\n",
    "\n",
    "Resultado: \n",
    "```\n",
    "Tienes 8 nuevos mensajes\n",
    "```"
   ],
   "block_group": "f77dfb27ab31497c9dad1fe7cbc72d23"
  },
  {
   "cell_type": "code",
   "metadata": {
    "source_hash": null,
    "execution_start": 1692992165379,
    "execution_millis": 10,
    "deepnote_to_be_reexecuted": false,
    "cell_id": "ec8709eea83a47178536183e47371ee1",
    "deepnote_cell_type": "code",
    "ExecuteTime": {
     "end_time": "2023-09-05T04:25:34.382817500Z",
     "start_time": "2023-09-05T04:25:33.896320200Z"
    }
   },
   "source": [
    "count = 8\n",
    "message = 'Tienes ' + str(count) + ' nuevos mensajes' \n",
    "# Tu código aquí\n",
    "\n",
    "print(message)"
   ],
   "block_group": "ec8709eea83a47178536183e47371ee1",
   "execution_count": 33,
   "outputs": [
    {
     "name": "stdout",
     "output_type": "stream",
     "text": [
      "Tienes 8 nuevos mensajes\n"
     ]
    }
   ]
  },
  {
   "cell_type": "markdown",
   "metadata": {
    "cell_id": "8df7bf7a18c946e3852e0b655d9ced35",
    "deepnote_cell_type": "markdown"
   },
   "source": [
    "## Float a strings\n",
    "Los números fraccionarios se convierten en strings del mismo modo que los números enteros, con la función `str()`:\n",
    "\n",
    "```python\n",
    "first = 87.2\n",
    "second = 50.2\n",
    "third = 50.242\n",
    "print(str(first) + str(second) + str(third))\n",
    "\n",
    "#devuelve: 87.250.250.242 \n",
    "```\n",
    "\n",
    "Puedes convertir un string en un número fraccionario con la función `float()`\n",
    "\n",
    "```\n",
    "first = '87.2'   # Un string\n",
    "second = '50.2'  # También un string\n",
    "third = '50.242' # Y este es un string\n",
    "print(float(first) + float(second) + float(third)) \n",
    "\n",
    "#Y el resultado será un número!\n",
    "#devuelve: 187.642 \n",
    "```\n",
    "\n",
    "Los números fraccionarios se convierten en números enteros mediante la función `int()`. Observa que `int()` no redondea los números según las reglas aritméticas, sino que únicamente desecha la parte fraccionaria.\n",
    "\n",
    "```\n",
    "# La función int() simplemente elimina cualquier cosa que esté después de la coma. Con la coma:\n",
    "a = int(3.14)\n",
    "print(a)\n",
    "\n",
    "#Devuelve: 3 \n",
    "```\n",
    "\n",
    "```\n",
    "a = int(2.72)\n",
    "print(a)\n",
    "\n",
    "#Devuelve: 2 \n",
    "```\n",
    "\n",
    "```\n",
    "# La función int() funciona de la misma manera con números\n",
    "# positivos que con negativos\n",
    "a = int(-3.14)\n",
    "print(a)\n",
    "\n",
    "#Devuelve: -3 \n",
    "```\n",
    "\n",
    "Puedes hacer muchas conversiones en el mismo string. Primero, convierte la fracción en un número entero, y luego conviértelo en un string:\n",
    "```\n",
    "fraction = 1.5  #  Una fracción\n",
    "print('Parte entera = ' + str(int(fraction)))\n",
    "# Devolverá un string que representa la parte entera de la fracción.\n",
    "# Ejecuta este código en la ventana de abajo y observa qué sucede. \n",
    "```"
   ],
   "block_group": "8df7bf7a18c946e3852e0b655d9ced35"
  },
  {
   "cell_type": "code",
   "metadata": {
    "source_hash": null,
    "execution_start": 1692992189415,
    "execution_millis": 44,
    "deepnote_to_be_reexecuted": false,
    "cell_id": "e1ec7dc06de24503bb0e2cb2437942f8",
    "deepnote_cell_type": "code",
    "ExecuteTime": {
     "end_time": "2023-09-05T04:25:34.385806100Z",
     "start_time": "2023-09-05T04:25:33.905548300Z"
    }
   },
   "source": [
    "fraction = 1.5  #  Una fracción\n",
    "\n",
    "# Analice la conversion que se realiza abajo\n",
    "print('Parte entera = ' + str(int(fraction)))"
   ],
   "block_group": "e1ec7dc06de24503bb0e2cb2437942f8",
   "execution_count": 34,
   "outputs": [
    {
     "name": "stdout",
     "output_type": "stream",
     "text": [
      "Parte entera = 1\n"
     ]
    }
   ]
  },
  {
   "cell_type": "markdown",
   "metadata": {
    "cell_id": "0bccc00eea1b41df9ce57b76aface183",
    "deepnote_cell_type": "markdown"
   },
   "source": [
    "### Ejercicio 12\n",
    "La velocidad de la luz es `1,079,252,848.8` kilómetros por hora. Enseña al programa a convertir la velocidad en kilómetros por segundo.\n",
    "Con base en la variable `speed_kmh` (la velocidad de la luz en `km/h`), calcule el valor de la variable `speed_kms` (la velocidad de la luz en `km/s`).\n",
    "Convierte el valor de la variable `speed_kms` en un tipo `integer`. Deseche la parte fraccionaria."
   ],
   "block_group": "0bccc00eea1b41df9ce57b76aface183"
  },
  {
   "cell_type": "code",
   "metadata": {
    "source_hash": null,
    "execution_start": 1692992217983,
    "execution_millis": 18,
    "deepnote_to_be_reexecuted": false,
    "cell_id": "db57ce1b8aa2415eb99b01ac5ab4eb26",
    "deepnote_cell_type": "code",
    "ExecuteTime": {
     "end_time": "2023-09-05T04:25:34.388800600Z",
     "start_time": "2023-09-05T04:25:33.918196400Z"
    }
   },
   "source": [
    "# Ejercicio 12\n",
    "vel_luz = 1079252848.8\n",
    "vel_kms = vel_luz / 3600\n",
    "message = str(int(vel_kms)) + \" km/s\"\n",
    "\n",
    "print(message)"
   ],
   "block_group": "db57ce1b8aa2415eb99b01ac5ab4eb26",
   "execution_count": 35,
   "outputs": [
    {
     "name": "stdout",
     "output_type": "stream",
     "text": [
      "299792 km/s\n"
     ]
    }
   ]
  },
  {
   "cell_type": "markdown",
   "metadata": {
    "cell_id": "47376c461d7247999a8da63cf011fd79",
    "deepnote_cell_type": "markdown"
   },
   "source": [
    "# Errors\n",
    "\n",
    "Aprender algo nuevo siempre comienza con prueba y error. La programacion no es la excepción. Mientras aprendes, vas a cometer errores constantemente. Y seguirás cometiéndolos a lo largo de tu carrera. Escribir código y después encontrar y corregir los bugs (jerga de programadores para referirse a los errores) es la tarea más común para todos los programadores. ¡Es completamente normal!\n",
    "\n",
    "Python intentará ayudarte a encontrar un bug proporcionándote toda la información posible sobre el problema: \n",
    "\n",
    "- \"Estoy roto, hay un bug en el string 8, olvidaste cerrar el paréntesis!\".\n",
    "\n",
    "Python utiliza el inglés, pero es muy fácil entenderlo incluso si no tienes un gran dominio de la lengua. Lee todo lo que escriba Python, esto te ayudará a encargarte del bug por tu propia cuenta. A los mensajes de error se les conoce como traceback, que literalmente significa rastrear el camino hacia la fuente, es decir, encontrar el origen del bug.\n"
   ],
   "block_group": "47376c461d7247999a8da63cf011fd79"
  },
  {
   "cell_type": "markdown",
   "metadata": {
    "cell_id": "2d55af8c5efd40dabf9ff9df483d6718",
    "deepnote_cell_type": "markdown"
   },
   "source": [
    "## Tipos de errores\n",
    "\n",
    "Dos errores comunes que encontramos al escribir Python son `SyntaxError` y `NameError`.\n",
    "\n",
    "- `SyntaxError` significa que hay algún problema con la forma en que está escrito su programa: una puntuación que no corresponde, un comando que no se espera o la falta de un paréntesis pueden desencadenar un `SyntaxError`.\n",
    "\n",
    "- Se produce un `NameError` cuando el intérprete de Python ve una palabra que no reconoce. El código que contiene algo que parece una variable pero que nunca se definió generará un `NameError`."
   ],
   "block_group": "2d55af8c5efd40dabf9ff9df483d6718"
  },
  {
   "cell_type": "markdown",
   "metadata": {
    "cell_id": "8f385af08b5f4fb382a1e42b85202692",
    "deepnote_cell_type": "markdown"
   },
   "source": [
    "### Ejercicio 13\n",
    "1. Corra el programa y analice el resultado\n",
    "2. Corrige todos los errores"
   ],
   "block_group": "8f385af08b5f4fb382a1e42b85202692"
  },
  {
   "cell_type": "code",
   "metadata": {
    "source_hash": null,
    "execution_start": 1692992250179,
    "execution_millis": 12,
    "deepnote_to_be_reexecuted": false,
    "cell_id": "01f8cc3ea3674800a478d8479f10a5ad",
    "deepnote_cell_type": "code",
    "ExecuteTime": {
     "end_time": "2023-09-05T04:26:14.103902600Z",
     "start_time": "2023-09-05T04:26:14.100917500Z"
    }
   },
   "source": [
    "print('This message has mismatched quote marks!\")\n",
    "print(Abracadabra)"
   ],
   "block_group": "01f8cc3ea3674800a478d8479f10a5ad",
   "execution_count": 43,
   "outputs": [
    {
     "ename": "SyntaxError",
     "evalue": "unterminated string literal (detected at line 1) (1981998989.py, line 1)",
     "output_type": "error",
     "traceback": [
      "\u001B[1;36m  Cell \u001B[1;32mIn[43], line 1\u001B[1;36m\u001B[0m\n\u001B[1;33m    print('This message has mismatched quote marks!\")\u001B[0m\n\u001B[1;37m          ^\u001B[0m\n\u001B[1;31mSyntaxError\u001B[0m\u001B[1;31m:\u001B[0m unterminated string literal (detected at line 1)\n"
     ]
    }
   ]
  },
  {
   "cell_type": "markdown",
   "metadata": {
    "cell_id": "e1917f80c5464bfc87262a29330fe35f",
    "deepnote_cell_type": "markdown"
   },
   "source": [
    "## Bug \"NameError\"\n",
    "Ejecuta el código y ve qué devuelve Python:\n",
    "```\n",
    "El string que contiene el error de código: line 2;\n",
    "Tipo de error: NameError;\n",
    "Origen del error: name 'onehundred' is not defined (aún no ha sido declarada ninguna entidad con el nombre onehundred).\n",
    "```\n",
    "\n",
    "Hay un error tipográfico en el segundo string! \n",
    "\n",
    "Falta un guion bajo en el nombre de la variable. Python se tropezó con una variable de nombre desconocido y generó un mensaje de error con los detalles:\n"
   ],
   "block_group": "e1917f80c5464bfc87262a29330fe35f"
  },
  {
   "cell_type": "markdown",
   "metadata": {
    "cell_id": "df7639fd09a34dd2a0714509b5e65911",
    "deepnote_cell_type": "markdown"
   },
   "source": [
    "### Ejercicio 14\n",
    "- Corrige el error tipográfico y ejecuta nuevamente el código."
   ],
   "block_group": "df7639fd09a34dd2a0714509b5e65911"
  },
  {
   "cell_type": "code",
   "metadata": {
    "cell_id": "8d6d4c53c2e44fbdbef3a0dcdb0a0fc6",
    "deepnote_cell_type": "code",
    "ExecuteTime": {
     "end_time": "2023-09-05T04:27:58.495899800Z",
     "start_time": "2023-09-05T04:27:58.478074500Z"
    }
   },
   "source": [
    "one_hundred = 100\n",
    "print(one_hundred)"
   ],
   "block_group": "8d6d4c53c2e44fbdbef3a0dcdb0a0fc6",
   "execution_count": 45,
   "outputs": [
    {
     "name": "stdout",
     "output_type": "stream",
     "text": [
      "100\n"
     ]
    }
   ]
  },
  {
   "cell_type": "markdown",
   "metadata": {
    "cell_id": "3979c91ab4af48d090405cdc5712161f",
    "deepnote_cell_type": "markdown"
   },
   "source": [
    "## Error SyntaxError\n",
    "\n",
    "Mira cuidadosamente el código y ejecútalo.\n",
    "Como resultado, obtendrás el mensaje `SyntaxError`: olvidaste escribir un término en la suma.\n",
    "Verás el mensaje invalid syntax (sintaxis inválida). "
   ],
   "block_group": "3979c91ab4af48d090405cdc5712161f"
  },
  {
   "cell_type": "markdown",
   "metadata": {
    "cell_id": "fe4854817f9a4ece84d672e1abba08ca",
    "deepnote_cell_type": "markdown"
   },
   "source": [
    "### Ejercicio 15\n",
    "- Corrige el error agregando cualquier número al 3, y después ejecuta el código."
   ],
   "block_group": "fe4854817f9a4ece84d672e1abba08ca"
  },
  {
   "cell_type": "code",
   "metadata": {
    "source_hash": null,
    "execution_start": 1692994444815,
    "execution_millis": 64,
    "deepnote_to_be_reexecuted": false,
    "cell_id": "05f31c0601574792b953c7ec0a3d423f",
    "deepnote_cell_type": "code",
    "ExecuteTime": {
     "end_time": "2023-09-05T04:28:32.167598900Z",
     "start_time": "2023-09-05T04:28:32.145045800Z"
    }
   },
   "source": [
    "print(3 + 1)"
   ],
   "block_group": "05f31c0601574792b953c7ec0a3d423f",
   "execution_count": 48,
   "outputs": [
    {
     "ename": "SyntaxError",
     "evalue": "invalid syntax (1439745221.py, line 1)",
     "output_type": "error",
     "traceback": [
      "\u001B[1;36m  Cell \u001B[1;32mIn[48], line 1\u001B[1;36m\u001B[0m\n\u001B[1;33m    print(3 + )\u001B[0m\n\u001B[1;37m              ^\u001B[0m\n\u001B[1;31mSyntaxError\u001B[0m\u001B[1;31m:\u001B[0m invalid syntax\n"
     ]
    }
   ]
  },
  {
   "cell_type": "markdown",
   "metadata": {
    "cell_id": "fc563638e93e4f51b4013ff1efb8ed53",
    "deepnote_cell_type": "markdown"
   },
   "source": [
    "En el texto `SyntaxError: unexpected EOF while parsing.` Error de sintaxis: `EOF` inesperado mientras se analiza) la abreviatura `EOF` significa `end of file`: Python vio el inicio de una llamada de función, pero el código del programa terminó inesperadamente."
   ],
   "block_group": "fc563638e93e4f51b4013ff1efb8ed53"
  },
  {
   "cell_type": "markdown",
   "metadata": {
    "cell_id": "f75941006d524efe948ed1c1d461644d",
    "deepnote_cell_type": "markdown"
   },
   "source": [
    "### Ejercicio 16\n",
    "- Corrige el código y ejecútalo nuevamente."
   ],
   "block_group": "f75941006d524efe948ed1c1d461644d"
  },
  {
   "cell_type": "code",
   "metadata": {
    "cell_id": "87c2dffc4f324d4685e7bf51da8b69bf",
    "deepnote_cell_type": "code",
    "ExecuteTime": {
     "end_time": "2023-09-05T04:28:40.706805300Z",
     "start_time": "2023-09-05T04:28:40.702256Z"
    }
   },
   "source": [
    "print(3 + 5)"
   ],
   "block_group": "87c2dffc4f324d4685e7bf51da8b69bf",
   "execution_count": 49,
   "outputs": [
    {
     "name": "stdout",
     "output_type": "stream",
     "text": [
      "8\n"
     ]
    }
   ]
  },
  {
   "cell_type": "markdown",
   "metadata": {
    "cell_id": "ac2380794d004d009c59ef97152ee7b6",
    "deepnote_cell_type": "markdown"
   },
   "source": [
    "### Ejercicio 17\n",
    "Ejecuta el código: hay un error en la primera línea, la segunda es correcta. Presta atención a qué error se refiere.\n",
    "\n",
    "Lo que pasa es que Python nos permite poner paréntesis de apertura y de cierre en diferentes funciones. Es por ello que espera pacientemente a que el código pierda por completo su significado, y sólo entonces genera un error.\n",
    "\n",
    "__Si el código contiene varias funciones, el mensaje de error no aparecerá en la función donde faltan los paréntesis de cierre, sino en la siguiente.__\n",
    "\n",
    "- Corrige el codigo y vuelva a ejecutarlo\n",
    "\n"
   ],
   "block_group": "ac2380794d004d009c59ef97152ee7b6"
  },
  {
   "cell_type": "code",
   "metadata": {
    "source_hash": null,
    "execution_start": 1692994473961,
    "execution_millis": 6,
    "deepnote_to_be_reexecuted": false,
    "cell_id": "41551915217d480c9d3e18ceaab30ccb",
    "deepnote_cell_type": "code",
    "ExecuteTime": {
     "end_time": "2023-09-05T04:29:01.098562700Z",
     "start_time": "2023-09-05T04:29:01.080823600Z"
    }
   },
   "source": [
    "print(3 + 5)\n",
    "print('¡Todo está bien!')"
   ],
   "block_group": "41551915217d480c9d3e18ceaab30ccb",
   "execution_count": 50,
   "outputs": [
    {
     "name": "stdout",
     "output_type": "stream",
     "text": [
      "8\n",
      "¡Todo está bien!\n"
     ]
    }
   ]
  },
  {
   "cell_type": "markdown",
   "metadata": {
    "cell_id": "6b336b20753e49c8a6374428b9be5f4c",
    "deepnote_cell_type": "markdown"
   },
   "source": [
    "## Data Type Error\n",
    "\n",
    "Sumar los valores de dos variables, puede parecer sencillo a primera vista, pero ejecutas el código e inmediatamente \"algo salió mal\".\n",
    "Cuando intentas sumar el número 100 y el string '500' (cualquier símbolo entre comillas es un \"string\"), el resultado será un error: no puedes sumar strings y números. Python lo escribirá así:\n",
    "```\n",
    "TypeError: unsupported operand type(s) for +: 'int' and 'str' \n",
    "```"
   ],
   "block_group": "6b336b20753e49c8a6374428b9be5f4c"
  },
  {
   "cell_type": "markdown",
   "metadata": {
    "cell_id": "7f3b25a082c14d0bbf655162846b0aa5",
    "deepnote_cell_type": "markdown"
   },
   "source": [
    "### Ejercicio 18\n",
    "1. Corrige todos los errores del programa\n",
    "2. Note que todas las variables deben ser enteros"
   ],
   "block_group": "7f3b25a082c14d0bbf655162846b0aa5"
  },
  {
   "cell_type": "code",
   "metadata": {
    "source_hash": null,
    "execution_start": 1692994495166,
    "execution_millis": 10,
    "deepnote_to_be_reexecuted": false,
    "cell_id": "241cdc3d0bcf4f33b41f10a330f0c129",
    "deepnote_cell_type": "code",
    "ExecuteTime": {
     "end_time": "2023-09-05T04:30:55.594855900Z",
     "start_time": "2023-09-05T04:30:55.568238500Z"
    }
   },
   "source": [
    "one_hundred = 100\n",
    "five_hundred = int('500')\n",
    "print('¡Podrías obtener 600 como respuesta, pero también podrías obtener')\n",
    "print(one_hundred + five_hundred)\n",
    "print('Aquí, obtuvimos 600')\n"
   ],
   "block_group": "241cdc3d0bcf4f33b41f10a330f0c129",
   "execution_count": 52,
   "outputs": [
    {
     "name": "stdout",
     "output_type": "stream",
     "text": [
      "¡Podrías obtener 600 como respuesta, pero también podrías obtener\n",
      "600\n",
      "Aquí, obtuvimos 600\n"
     ]
    }
   ]
  },
  {
   "cell_type": "markdown",
   "metadata": {
    "cell_id": "588994d7401048ba8ff2acb5575096ad",
    "deepnote_cell_type": "markdown"
   },
   "source": [
    "### Ejercicio 19\n",
    "1. Corrige todos los errores del programa\n",
    "2. Note que todas las variables deben ser strings"
   ],
   "block_group": "588994d7401048ba8ff2acb5575096ad"
  },
  {
   "cell_type": "code",
   "metadata": {
    "source_hash": null,
    "execution_start": 1692994507564,
    "execution_millis": 41,
    "deepnote_to_be_reexecuted": false,
    "cell_id": "8fe2cfc33b0544aeb69143316c51ef9c",
    "deepnote_cell_type": "code",
    "ExecuteTime": {
     "end_time": "2023-09-05T04:30:57.625216700Z",
     "start_time": "2023-09-05T04:30:57.614242500Z"
    }
   },
   "source": [
    "one_hundred = str(100)\n",
    "five_hundred = '500'\n",
    "print('¡Podrías obtener 600 como respuesta, pero también podrías obtener 100500!')\n",
    "print(one_hundred + five_hundred)\n",
    "print('Aquí obtuvimos 100500')\n"
   ],
   "block_group": "8fe2cfc33b0544aeb69143316c51ef9c",
   "execution_count": 53,
   "outputs": [
    {
     "name": "stdout",
     "output_type": "stream",
     "text": [
      "¡Podrías obtener 600 como respuesta, pero también podrías obtener 100500!\n",
      "100500\n",
      "Aquí obtuvimos 100500\n"
     ]
    }
   ]
  },
  {
   "cell_type": "markdown",
   "metadata": {
    "cell_id": "5295ef9ce79b4ed6a5ec1d8e8bb16b26",
    "deepnote_cell_type": "markdown"
   },
   "source": [
    "## Multi-line Strings\n",
    "Las cadenas de Python son muy flexibles, pero si intentamos crear una cadena que ocupe varias líneas, nos encontramos cara a cara con un `SyntaxError`. Python ofrece una solución: cadenas de varias líneas. Al usar tres comillas (`\"\"\"` o `'''`) en lugar de una, le decimos al programa que la cadena no termina hasta la siguiente comilla triple. Este método es útil si la cadena que se define contiene muchas comillas y queremos asegurarnos de no cerrarlo prematuramente.\n",
    "\n",
    "```\n",
    "leaves_of_grass = \"\"\"\n",
    "            Poets to come! orators, singers, musicians to come!\n",
    "            Not to-day is to justify me and answer what I am for,\n",
    "            But you, a new brood, native, athletic, continental, greater than\n",
    "                        before known,\n",
    "            Arouse! for you must justify me.\n",
    "\"\"\"\n",
    "```\n",
    "\n",
    "En el ejemplo anterior, asignamos las palabras de un poeta famoso a una variable. Aunque la cita contiene múltiples saltos de línea, ¡el código funciona!\n",
    "\n",
    "Si a una cadena de varias líneas no se le asigna una variable ni se usa en una expresión, se trata como un comentario.\n"
   ],
   "block_group": "5295ef9ce79b4ed6a5ec1d8e8bb16b26"
  },
  {
   "cell_type": "markdown",
   "metadata": {
    "cell_id": "d2af6acc815a49c580862f5bdd2c6845",
    "deepnote_cell_type": "markdown"
   },
   "source": [
    "### Ejercicio 20\n",
    "1. Escriba en una variable `to_you` un texto de multiples lineas usando `\"\"\"`. El texto se lo deja a su eleccion. Puede ser una frase que le gusta. Letra de una cancion. etc.\n",
    "2. Imprima dicho texto"
   ],
   "block_group": "d2af6acc815a49c580862f5bdd2c6845"
  },
  {
   "cell_type": "code",
   "metadata": {
    "cell_id": "e720ebdb6b0442e383896a182766a5fa",
    "deepnote_cell_type": "code",
    "ExecuteTime": {
     "end_time": "2023-09-05T04:32:59.127249700Z",
     "start_time": "2023-09-05T04:32:59.122791Z"
    }
   },
   "source": [
    "# Ejercicio 20\n",
    "\n",
    "to_you = '''\n",
    "        Somos lo que hacemos dia a dia de modo que la excelencia no es un acto\n",
    "        sino un habito   \n",
    "'''\n",
    "print(to_you)"
   ],
   "block_group": "e720ebdb6b0442e383896a182766a5fa",
   "execution_count": 54,
   "outputs": [
    {
     "name": "stdout",
     "output_type": "stream",
     "text": [
      "\n",
      "        Somos lo que hacemos dia a dia de modo que la excelencia no es un acto\n",
      "        sino un habito   \n",
      "\n"
     ]
    }
   ]
  }
 ],
 "nbformat": 4,
 "nbformat_minor": 0,
 "metadata": {
  "deepnote": {},
  "orig_nbformat": 2,
  "deepnote_notebook_id": "582fdd79203e4bc8b22729ddfc3e4860",
  "deepnote_persisted_session": {
   "createdAt": "2023-08-25T20:01:44.390Z"
  },
  "deepnote_execution_queue": [],
  "kernelspec": {
   "name": "python3",
   "language": "python",
   "display_name": "Python 3 (ipykernel)"
  }
 }
}
