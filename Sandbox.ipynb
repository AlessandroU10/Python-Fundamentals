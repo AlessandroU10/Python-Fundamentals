{
 "cells": [
  {
   "cell_type": "markdown",
   "metadata": {
    "tags": [],
    "cell_id": "1bdcb8466e5c4cc199e21e877f1dc898",
    "deepnote_cell_type": "markdown"
   },
   "source": [
    "# Sandbox\n",
    "\n",
    "Esta notebook se usara para explicar algunos conceptos en clases y practicar los!\n"
   ],
   "block_group": "1bdcb8466e5c4cc199e21e877f1dc898"
  },
  {
   "cell_type": "code",
   "metadata": {
    "tags": [],
    "source_hash": null,
    "execution_start": 1693007931607,
    "execution_millis": 11,
    "deepnote_to_be_reexecuted": false,
    "cell_id": "de481074fd264668a2e05629efa0c8fb",
    "deepnote_cell_type": "code"
   },
   "source": [
    "print(\"Hello world\")"
   ],
   "block_group": "de481074fd264668a2e05629efa0c8fb",
   "execution_count": null,
   "outputs": [
    {
     "name": "stdout",
     "text": "Hello world\n",
     "output_type": "stream"
    }
   ]
  },
  {
   "cell_type": "code",
   "metadata": {
    "tags": [],
    "source_hash": null,
    "execution_start": 1693008007737,
    "execution_millis": 108,
    "deepnote_to_be_reexecuted": false,
    "cell_id": "878c4d3ac1a244d8b711bbf27b8bb577",
    "deepnote_cell_type": "code"
   },
   "source": [
    "print('My name is Jose')"
   ],
   "block_group": "878c4d3ac1a244d8b711bbf27b8bb577",
   "execution_count": null,
   "outputs": [
    {
     "name": "stdout",
     "text": "My name is Jose\n",
     "output_type": "stream"
    }
   ]
  },
  {
   "cell_type": "code",
   "metadata": {
    "tags": [],
    "source_hash": null,
    "execution_start": 1693008171885,
    "execution_millis": 12,
    "deepnote_to_be_reexecuted": false,
    "cell_id": "a7d232aefee14869b080612f9aaa92e9",
    "deepnote_cell_type": "code"
   },
   "source": [
    "print(10)"
   ],
   "block_group": "a7d232aefee14869b080612f9aaa92e9",
   "execution_count": null,
   "outputs": [
    {
     "name": "stdout",
     "text": "10\n",
     "output_type": "stream"
    }
   ]
  },
  {
   "cell_type": "code",
   "metadata": {
    "source_hash": null,
    "execution_start": 1693008277844,
    "execution_millis": 12,
    "deepnote_to_be_reexecuted": false,
    "cell_id": "e5c5acbc5ced4caea1f7fbb6a44f66dc",
    "deepnote_cell_type": "code"
   },
   "source": [
    "print(\"10\")\n"
   ],
   "block_group": "e5c5acbc5ced4caea1f7fbb6a44f66dc",
   "execution_count": null,
   "outputs": [
    {
     "name": "stdout",
     "text": "10\n",
     "output_type": "stream"
    }
   ]
  },
  {
   "cell_type": "code",
   "metadata": {
    "source_hash": null,
    "execution_start": 1693009481438,
    "execution_millis": 13,
    "deepnote_to_be_reexecuted": false,
    "cell_id": "643ce0fecb0843538932f47321eea03f",
    "deepnote_cell_type": "code"
   },
   "source": [
    "name = \"Jose\"\n",
    "apellido = \"Cabrera\"\n",
    "full_name = name + \", \" + apellido\n",
    "print(full_name, \"soy docente\", 10)"
   ],
   "block_group": "643ce0fecb0843538932f47321eea03f",
   "execution_count": null,
   "outputs": [
    {
     "name": "stdout",
     "text": "Jose, Cabrera soy docente 10\n",
     "output_type": "stream"
    }
   ]
  },
  {
   "cell_type": "code",
   "metadata": {
    "source_hash": null,
    "execution_start": 1693009404430,
    "execution_millis": 11,
    "deepnote_to_be_reexecuted": false,
    "cell_id": "3970c62eee4641d08d6b89b5144e89b5",
    "deepnote_cell_type": "code"
   },
   "source": [
    "pi = 3\n",
    "e = 2\n",
    "total = pi + e\n",
    "\n",
    "print(total)"
   ],
   "block_group": "3970c62eee4641d08d6b89b5144e89b5",
   "execution_count": null,
   "outputs": [
    {
     "name": "stdout",
     "text": "5\n",
     "output_type": "stream"
    }
   ]
  },
  {
   "cell_type": "code",
   "metadata": {
    "source_hash": null,
    "execution_start": 1693009535262,
    "execution_millis": 45,
    "deepnote_to_be_reexecuted": false,
    "cell_id": "637dff1cb9e44b5d887412d4858fee95",
    "deepnote_cell_type": "code"
   },
   "source": [
    "\n",
    "print(full_name)\n",
    "print(pi + e)"
   ],
   "block_group": "637dff1cb9e44b5d887412d4858fee95",
   "execution_count": null,
   "outputs": [
    {
     "name": "stdout",
     "text": "Jose, Cabrera\n5\n",
     "output_type": "stream"
    }
   ]
  },
  {
   "cell_type": "code",
   "metadata": {
    "source_hash": null,
    "execution_start": 1693010246169,
    "execution_millis": 11,
    "deepnote_to_be_reexecuted": false,
    "cell_id": "8e651ec1963a457e93c2333000731450",
    "deepnote_cell_type": "code"
   },
   "source": [
    "moneda = 100\n",
    "bs = \" Bs.\"\n",
    "print(str(moneda) + bs)"
   ],
   "block_group": "8e651ec1963a457e93c2333000731450",
   "execution_count": null,
   "outputs": [
    {
     "name": "stdout",
     "text": "100 Bs.\n",
     "output_type": "stream"
    }
   ]
  },
  {
   "cell_type": "code",
   "metadata": {
    "source_hash": null,
    "execution_start": 1693013262006,
    "execution_millis": 5460,
    "deepnote_to_be_reexecuted": false,
    "cell_id": "9d0d6635bab245ea9251252c376a8151",
    "deepnote_cell_type": "code"
   },
   "source": [
    "gasto1 = int(input(\"Introduzca su gasto: \"))\n",
    "gasto2 = int(input(\"Introduzca su gasto: \"))\n",
    "gasto3 = int(input(\"Introduzca su gasto: \"))\n",
    "gasto4 = int(input(\"Introduzca su gasto: \"))\n",
    "gasto5 = int(input(\"Introduzca su gasto: \"))\n",
    "gasto6 = int(input(\"Introduzca su gasto: \"))\n",
    "\n",
    "\n",
    "gastos = [gasto1, gasto2, gasto3, gasto4, gasto5, gasto6]\n",
    "\n",
    "cantidad_gastos = len(gastos)\n",
    "\n",
    "gasto_total = gasto1 + gasto2 + gasto3 + gasto4 + gasto5\n",
    "prom = gasto_total / cantidad_gastos\n",
    "\n",
    "if gasto_total > 100:\n",
    "    print(\"Tienes muchos gastos\")\n",
    "    print(\"Gasto total\", gasto_total)\n",
    "    print(\"Promerdio \", prom)\n",
    "else:\n",
    "    print(\"No tienes muchos gastos\")\n",
    "\n",
    "    print(gasto_total)\n",
    "    print(prom)"
   ],
   "block_group": "9d0d6635bab245ea9251252c376a8151",
   "execution_count": null,
   "outputs": [
    {
     "name": "stdout",
     "text": "61\n10.166666666666666\n",
     "output_type": "stream"
    }
   ]
  },
  {
   "cell_type": "code",
   "metadata": {
    "source_hash": null,
    "execution_start": 1693014136081,
    "execution_millis": 12,
    "deepnote_to_be_reexecuted": false,
    "cell_id": "bdc4b8bb188d4bb4a51081a46384d0aa",
    "deepnote_cell_type": "code"
   },
   "source": [
    "friends = [\n",
    "    \"Jose\",\n",
    "    \"Jesus\",\n",
    "    \"Juan\",\n",
    "    \"Pedro\",\n",
    "]\n",
    "\n",
    "for friend in friends:\n",
    "    print(friend)"
   ],
   "block_group": "bdc4b8bb188d4bb4a51081a46384d0aa",
   "execution_count": null,
   "outputs": [
    {
     "name": "stdout",
     "text": "Jose\nJesus\nJuan\nPedro\n",
     "output_type": "stream"
    }
   ]
  },
  {
   "cell_type": "code",
   "metadata": {
    "cell_id": "611ff403009f40a5b5a6526ab9f2562e",
    "deepnote_cell_type": "code"
   },
   "source": [],
   "block_group": "611ff403009f40a5b5a6526ab9f2562e",
   "execution_count": null,
   "outputs": []
  },
  {
   "cell_type": "code",
   "metadata": {
    "source_hash": null,
    "execution_start": 1693441655091,
    "execution_millis": 103,
    "deepnote_to_be_reexecuted": false,
    "cell_id": "8f7d843c4ad247068c30813067df3353",
    "deepnote_cell_type": "code"
   },
   "source": [
    "names = []\n",
    "\n",
    "names.append(\"NAme 1\")\n",
    "\n",
    "print(names)\n",
    "\n",
    "names.remove(\"NAme 1\")\n",
    "print(names)\n"
   ],
   "block_group": "8f7d843c4ad247068c30813067df3353",
   "execution_count": null,
   "outputs": [
    {
     "name": "stdout",
     "text": "['NAme 1']\n[]\n",
     "output_type": "stream"
    }
   ]
  },
  {
   "cell_type": "code",
   "metadata": {
    "source_hash": null,
    "execution_start": 1693441707230,
    "execution_millis": 135,
    "deepnote_to_be_reexecuted": false,
    "cell_id": "c88563c7d0ef41d4868de131d5bfc2e6",
    "deepnote_cell_type": "code"
   },
   "source": [
    "elementos = []\n",
    "for idx in range(1000):\n",
    "    elementos.append(\"Elemento \" + str(idx))\n",
    "print(elementos)"
   ],
   "block_group": "c88563c7d0ef41d4868de131d5bfc2e6",
   "execution_count": null,
   "outputs": [
    {
     "name": "stdout",
     "text": "['Elemento 0', 'Elemento 1', 'Elemento 2', 'Elemento 3', 'Elemento 4', 'Elemento 5', 'Elemento 6', 'Elemento 7', 'Elemento 8', 'Elemento 9', 'Elemento 10', 'Elemento 11', 'Elemento 12', 'Elemento 13', 'Elemento 14', 'Elemento 15', 'Elemento 16', 'Elemento 17', 'Elemento 18', 'Elemento 19', 'Elemento 20', 'Elemento 21', 'Elemento 22', 'Elemento 23', 'Elemento 24', 'Elemento 25', 'Elemento 26', 'Elemento 27', 'Elemento 28', 'Elemento 29', 'Elemento 30', 'Elemento 31', 'Elemento 32', 'Elemento 33', 'Elemento 34', 'Elemento 35', 'Elemento 36', 'Elemento 37', 'Elemento 38', 'Elemento 39', 'Elemento 40', 'Elemento 41', 'Elemento 42', 'Elemento 43', 'Elemento 44', 'Elemento 45', 'Elemento 46', 'Elemento 47', 'Elemento 48', 'Elemento 49', 'Elemento 50', 'Elemento 51', 'Elemento 52', 'Elemento 53', 'Elemento 54', 'Elemento 55', 'Elemento 56', 'Elemento 57', 'Elemento 58', 'Elemento 59', 'Elemento 60', 'Elemento 61', 'Elemento 62', 'Elemento 63', 'Elemento 64', 'Elemento 65', 'Elemento 66', 'Elemento 67', 'Elemento 68', 'Elemento 69', 'Elemento 70', 'Elemento 71', 'Elemento 72', 'Elemento 73', 'Elemento 74', 'Elemento 75', 'Elemento 76', 'Elemento 77', 'Elemento 78', 'Elemento 79', 'Elemento 80', 'Elemento 81', 'Elemento 82', 'Elemento 83', 'Elemento 84', 'Elemento 85', 'Elemento 86', 'Elemento 87', 'Elemento 88', 'Elemento 89', 'Elemento 90', 'Elemento 91', 'Elemento 92', 'Elemento 93', 'Elemento 94', 'Elemento 95', 'Elemento 96', 'Elemento 97', 'Elemento 98', 'Elemento 99', 'Elemento 100', 'Elemento 101', 'Elemento 102', 'Elemento 103', 'Elemento 104', 'Elemento 105', 'Elemento 106', 'Elemento 107', 'Elemento 108', 'Elemento 109', 'Elemento 110', 'Elemento 111', 'Elemento 112', 'Elemento 113', 'Elemento 114', 'Elemento 115', 'Elemento 116', 'Elemento 117', 'Elemento 118', 'Elemento 119', 'Elemento 120', 'Elemento 121', 'Elemento 122', 'Elemento 123', 'Elemento 124', 'Elemento 125', 'Elemento 126', 'Elemento 127', 'Elemento 128', 'Elemento 129', 'Elemento 130', 'Elemento 131', 'Elemento 132', 'Elemento 133', 'Elemento 134', 'Elemento 135', 'Elemento 136', 'Elemento 137', 'Elemento 138', 'Elemento 139', 'Elemento 140', 'Elemento 141', 'Elemento 142', 'Elemento 143', 'Elemento 144', 'Elemento 145', 'Elemento 146', 'Elemento 147', 'Elemento 148', 'Elemento 149', 'Elemento 150', 'Elemento 151', 'Elemento 152', 'Elemento 153', 'Elemento 154', 'Elemento 155', 'Elemento 156', 'Elemento 157', 'Elemento 158', 'Elemento 159', 'Elemento 160', 'Elemento 161', 'Elemento 162', 'Elemento 163', 'Elemento 164', 'Elemento 165', 'Elemento 166', 'Elemento 167', 'Elemento 168', 'Elemento 169', 'Elemento 170', 'Elemento 171', 'Elemento 172', 'Elemento 173', 'Elemento 174', 'Elemento 175', 'Elemento 176', 'Elemento 177', 'Elemento 178', 'Elemento 179', 'Elemento 180', 'Elemento 181', 'Elemento 182', 'Elemento 183', 'Elemento 184', 'Elemento 185', 'Elemento 186', 'Elemento 187', 'Elemento 188', 'Elemento 189', 'Elemento 190', 'Elemento 191', 'Elemento 192', 'Elemento 193', 'Elemento 194', 'Elemento 195', 'Elemento 196', 'Elemento 197', 'Elemento 198', 'Elemento 199', 'Elemento 200', 'Elemento 201', 'Elemento 202', 'Elemento 203', 'Elemento 204', 'Elemento 205', 'Elemento 206', 'Elemento 207', 'Elemento 208', 'Elemento 209', 'Elemento 210', 'Elemento 211', 'Elemento 212', 'Elemento 213', 'Elemento 214', 'Elemento 215', 'Elemento 216', 'Elemento 217', 'Elemento 218', 'Elemento 219', 'Elemento 220', 'Elemento 221', 'Elemento 222', 'Elemento 223', 'Elemento 224', 'Elemento 225', 'Elemento 226', 'Elemento 227', 'Elemento 228', 'Elemento 229', 'Elemento 230', 'Elemento 231', 'Elemento 232', 'Elemento 233', 'Elemento 234', 'Elemento 235', 'Elemento 236', 'Elemento 237', 'Elemento 238', 'Elemento 239', 'Elemento 240', 'Elemento 241', 'Elemento 242', 'Elemento 243', 'Elemento 244', 'Elemento 245', 'Elemento 246', 'Elemento 247', 'Elemento 248', 'Elemento 249', 'Elemento 250', 'Elemento 251', 'Elemento 252', 'Elemento 253', 'Elemento 254', 'Elemento 255', 'Elemento 256', 'Elemento 257', 'Elemento 258', 'Elemento 259', 'Elemento 260', 'Elemento 261', 'Elemento 262', 'Elemento 263', 'Elemento 264', 'Elemento 265', 'Elemento 266', 'Elemento 267', 'Elemento 268', 'Elemento 269', 'Elemento 270', 'Elemento 271', 'Elemento 272', 'Elemento 273', 'Elemento 274', 'Elemento 275', 'Elemento 276', 'Elemento 277', 'Elemento 278', 'Elemento 279', 'Elemento 280', 'Elemento 281', 'Elemento 282', 'Elemento 283', 'Elemento 284', 'Elemento 285', 'Elemento 286', 'Elemento 287', 'Elemento 288', 'Elemento 289', 'Elemento 290', 'Elemento 291', 'Elemento 292', 'Elemento 293', 'Elemento 294', 'Elemento 295', 'Elemento 296', 'Elemento 297', 'Elemento 298', 'Elemento 299', 'Elemento 300', 'Elemento 301', 'Elemento 302', 'Elemento 303', 'Elemento 304', 'Elemento 305', 'Elemento 306', 'Elemento 307', 'Elemento 308', 'Elemento 309', 'Elemento 310', 'Elemento 311', 'Elemento 312', 'Elemento 313', 'Elemento 314', 'Elemento 315', 'Elemento 316', 'Elemento 317', 'Elemento 318', 'Elemento 319', 'Elemento 320', 'Elemento 321', 'Elemento 322', 'Elemento 323', 'Elemento 324', 'Elemento 325', 'Elemento 326', 'Elemento 327', 'Elemento 328', 'Elemento 329', 'Elemento 330', 'Elemento 331', 'Elemento 332', 'Elemento 333', 'Elemento 334', 'Elemento 335', 'Elemento 336', 'Elemento 337', 'Elemento 338', 'Elemento 339', 'Elemento 340', 'Elemento 341', 'Elemento 342', 'Elemento 343', 'Elemento 344', 'Elemento 345', 'Elemento 346', 'Elemento 347', 'Elemento 348', 'Elemento 349', 'Elemento 350', 'Elemento 351', 'Elemento 352', 'Elemento 353', 'Elemento 354', 'Elemento 355', 'Elemento 356', 'Elemento 357', 'Elemento 358', 'Elemento 359', 'Elemento 360', 'Elemento 361', 'Elemento 362', 'Elemento 363', 'Elemento 364', 'Elemento 365', 'Elemento 366', 'Elemento 367', 'Elemento 368', 'Elemento 369', 'Elemento 370', 'Elemento 371', 'Elemento 372', 'Elemento 373', 'Elemento 374', 'Elemento 375', 'Elemento 376', 'Elemento 377', 'Elemento 378', 'Elemento 379', 'Elemento 380', 'Elemento 381', 'Elemento 382', 'Elemento 383', 'Elemento 384', 'Elemento 385', 'Elemento 386', 'Elemento 387', 'Elemento 388', 'Elemento 389', 'Elemento 390', 'Elemento 391', 'Elemento 392', 'Elemento 393', 'Elemento 394', 'Elemento 395', 'Elemento 396', 'Elemento 397', 'Elemento 398', 'Elemento 399', 'Elemento 400', 'Elemento 401', 'Elemento 402', 'Elemento 403', 'Elemento 404', 'Elemento 405', 'Elemento 406', 'Elemento 407', 'Elemento 408', 'Elemento 409', 'Elemento 410', 'Elemento 411', 'Elemento 412', 'Elemento 413', 'Elemento 414', 'Elemento 415', 'Elemento 416', 'Elemento 417', 'Elemento 418', 'Elemento 419', 'Elemento 420', 'Elemento 421', 'Elemento 422', 'Elemento 423', 'Elemento 424', 'Elemento 425', 'Elemento 426', 'Elemento 427', 'Elemento 428', 'Elemento 429', 'Elemento 430', 'Elemento 431', 'Elemento 432', 'Elemento 433', 'Elemento 434', 'Elemento 435', 'Elemento 436', 'Elemento 437', 'Elemento 438', 'Elemento 439', 'Elemento 440', 'Elemento 441', 'Elemento 442', 'Elemento 443', 'Elemento 444', 'Elemento 445', 'Elemento 446', 'Elemento 447', 'Elemento 448', 'Elemento 449', 'Elemento 450', 'Elemento 451', 'Elemento 452', 'Elemento 453', 'Elemento 454', 'Elemento 455', 'Elemento 456', 'Elemento 457', 'Elemento 458', 'Elemento 459', 'Elemento 460', 'Elemento 461', 'Elemento 462', 'Elemento 463', 'Elemento 464', 'Elemento 465', 'Elemento 466', 'Elemento 467', 'Elemento 468', 'Elemento 469', 'Elemento 470', 'Elemento 471', 'Elemento 472', 'Elemento 473', 'Elemento 474', 'Elemento 475', 'Elemento 476', 'Elemento 477', 'Elemento 478', 'Elemento 479', 'Elemento 480', 'Elemento 481', 'Elemento 482', 'Elemento 483', 'Elemento 484', 'Elemento 485', 'Elemento 486', 'Elemento 487', 'Elemento 488', 'Elemento 489', 'Elemento 490', 'Elemento 491', 'Elemento 492', 'Elemento 493', 'Elemento 494', 'Elemento 495', 'Elemento 496', 'Elemento 497', 'Elemento 498', 'Elemento 499', 'Elemento 500', 'Elemento 501', 'Elemento 502', 'Elemento 503', 'Elemento 504', 'Elemento 505', 'Elemento 506', 'Elemento 507', 'Elemento 508', 'Elemento 509', 'Elemento 510', 'Elemento 511', 'Elemento 512', 'Elemento 513', 'Elemento 514', 'Elemento 515', 'Elemento 516', 'Elemento 517', 'Elemento 518', 'Elemento 519', 'Elemento 520', 'Elemento 521', 'Elemento 522', 'Elemento 523', 'Elemento 524', 'Elemento 525', 'Elemento 526', 'Elemento 527', 'Elemento 528', 'Elemento 529', 'Elemento 530', 'Elemento 531', 'Elemento 532', 'Elemento 533', 'Elemento 534', 'Elemento 535', 'Elemento 536', 'Elemento 537', 'Elemento 538', 'Elemento 539', 'Elemento 540', 'Elemento 541', 'Elemento 542', 'Elemento 543', 'Elemento 544', 'Elemento 545', 'Elemento 546', 'Elemento 547', 'Elemento 548', 'Elemento 549', 'Elemento 550', 'Elemento 551', 'Elemento 552', 'Elemento 553', 'Elemento 554', 'Elemento 555', 'Elemento 556', 'Elemento 557', 'Elemento 558', 'Elemento 559', 'Elemento 560', 'Elemento 561', 'Elemento 562', 'Elemento 563', 'Elemento 564', 'Elemento 565', 'Elemento 566', 'Elemento 567', 'Elemento 568', 'Elemento 569', 'Elemento 570', 'Elemento 571', 'Elemento 572', 'Elemento 573', 'Elemento 574', 'Elemento 575', 'Elemento 576', 'Elemento 577', 'Elemento 578', 'Elemento 579', 'Elemento 580', 'Elemento 581', 'Elemento 582', 'Elemento 583', 'Elemento 584', 'Elemento 585', 'Elemento 586', 'Elemento 587', 'Elemento 588', 'Elemento 589', 'Elemento 590', 'Elemento 591', 'Elemento 592', 'Elemento 593', 'Elemento 594', 'Elemento 595', 'Elemento 596', 'Elemento 597', 'Elemento 598', 'Elemento 599', 'Elemento 600', 'Elemento 601', 'Elemento 602', 'Elemento 603', 'Elemento 604', 'Elemento 605', 'Elemento 606', 'Elemento 607', 'Elemento 608', 'Elemento 609', 'Elemento 610', 'Elemento 611', 'Elemento 612', 'Elemento 613', 'Elemento 614', 'Elemento 615', 'Elemento 616', 'Elemento 617', 'Elemento 618', 'Elemento 619', 'Elemento 620', 'Elemento 621', 'Elemento 622', 'Elemento 623', 'Elemento 624', 'Elemento 625', 'Elemento 626', 'Elemento 627', 'Elemento 628', 'Elemento 629', 'Elemento 630', 'Elemento 631', 'Elemento 632', 'Elemento 633', 'Elemento 634', 'Elemento 635', 'Elemento 636', 'Elemento 637', 'Elemento 638', 'Elemento 639', 'Elemento 640', 'Elemento 641', 'Elemento 642', 'Elemento 643', 'Elemento 644', 'Elemento 645', 'Elemento 646', 'Elemento 647', 'Elemento 648', 'Elemento 649', 'Elemento 650', 'Elemento 651', 'Elemento 652', 'Elemento 653', 'Elemento 654', 'Elemento 655', 'Elemento 656', 'Elemento 657', 'Elemento 658', 'Elemento 659', 'Elemento 660', 'Elemento 661', 'Elemento 662', 'Elemento 663', 'Elemento 664', 'Elemento 665', 'Elemento 666', 'Elemento 667', 'Elemento 668', 'Elemento 669', 'Elemento 670', 'Elemento 671', 'Elemento 672', 'Elemento 673', 'Elemento 674', 'Elemento 675', 'Elemento 676', 'Elemento 677', 'Elemento 678', 'Elemento 679', 'Elemento 680', 'Elemento 681', 'Elemento 682', 'Elemento 683', 'Elemento 684', 'Elemento 685', 'Elemento 686', 'Elemento 687', 'Elemento 688', 'Elemento 689', 'Elemento 690', 'Elemento 691', 'Elemento 692', 'Elemento 693', 'Elemento 694', 'Elemento 695', 'Elemento 696', 'Elemento 697', 'Elemento 698', 'Elemento 699', 'Elemento 700', 'Elemento 701', 'Elemento 702', 'Elemento 703', 'Elemento 704', 'Elemento 705', 'Elemento 706', 'Elemento 707', 'Elemento 708', 'Elemento 709', 'Elemento 710', 'Elemento 711', 'Elemento 712', 'Elemento 713', 'Elemento 714', 'Elemento 715', 'Elemento 716', 'Elemento 717', 'Elemento 718', 'Elemento 719', 'Elemento 720', 'Elemento 721', 'Elemento 722', 'Elemento 723', 'Elemento 724', 'Elemento 725', 'Elemento 726', 'Elemento 727', 'Elemento 728', 'Elemento 729', 'Elemento 730', 'Elemento 731', 'Elemento 732', 'Elemento 733', 'Elemento 734', 'Elemento 735', 'Elemento 736', 'Elemento 737', 'Elemento 738', 'Elemento 739', 'Elemento 740', 'Elemento 741', 'Elemento 742', 'Elemento 743', 'Elemento 744', 'Elemento 745', 'Elemento 746', 'Elemento 747', 'Elemento 748', 'Elemento 749', 'Elemento 750', 'Elemento 751', 'Elemento 752', 'Elemento 753', 'Elemento 754', 'Elemento 755', 'Elemento 756', 'Elemento 757', 'Elemento 758', 'Elemento 759', 'Elemento 760', 'Elemento 761', 'Elemento 762', 'Elemento 763', 'Elemento 764', 'Elemento 765', 'Elemento 766', 'Elemento 767', 'Elemento 768', 'Elemento 769', 'Elemento 770', 'Elemento 771', 'Elemento 772', 'Elemento 773', 'Elemento 774', 'Elemento 775', 'Elemento 776', 'Elemento 777', 'Elemento 778', 'Elemento 779', 'Elemento 780', 'Elemento 781', 'Elemento 782', 'Elemento 783', 'Elemento 784', 'Elemento 785', 'Elemento 786', 'Elemento 787', 'Elemento 788', 'Elemento 789', 'Elemento 790', 'Elemento 791', 'Elemento 792', 'Elemento 793', 'Elemento 794', 'Elemento 795', 'Elemento 796', 'Elemento 797', 'Elemento 798', 'Elemento 799', 'Elemento 800', 'Elemento 801', 'Elemento 802', 'Elemento 803', 'Elemento 804', 'Elemento 805', 'Elemento 806', 'Elemento 807', 'Elemento 808', 'Elemento 809', 'Elemento 810', 'Elemento 811', 'Elemento 812', 'Elemento 813', 'Elemento 814', 'Elemento 815', 'Elemento 816', 'Elemento 817', 'Elemento 818', 'Elemento 819', 'Elemento 820', 'Elemento 821', 'Elemento 822', 'Elemento 823', 'Elemento 824', 'Elemento 825', 'Elemento 826', 'Elemento 827', 'Elemento 828', 'Elemento 829', 'Elemento 830', 'Elemento 831', 'Elemento 832', 'Elemento 833', 'Elemento 834', 'Elemento 835', 'Elemento 836', 'Elemento 837', 'Elemento 838', 'Elemento 839', 'Elemento 840', 'Elemento 841', 'Elemento 842', 'Elemento 843', 'Elemento 844', 'Elemento 845', 'Elemento 846', 'Elemento 847', 'Elemento 848', 'Elemento 849', 'Elemento 850', 'Elemento 851', 'Elemento 852', 'Elemento 853', 'Elemento 854', 'Elemento 855', 'Elemento 856', 'Elemento 857', 'Elemento 858', 'Elemento 859', 'Elemento 860', 'Elemento 861', 'Elemento 862', 'Elemento 863', 'Elemento 864', 'Elemento 865', 'Elemento 866', 'Elemento 867', 'Elemento 868', 'Elemento 869', 'Elemento 870', 'Elemento 871', 'Elemento 872', 'Elemento 873', 'Elemento 874', 'Elemento 875', 'Elemento 876', 'Elemento 877', 'Elemento 878', 'Elemento 879', 'Elemento 880', 'Elemento 881', 'Elemento 882', 'Elemento 883', 'Elemento 884', 'Elemento 885', 'Elemento 886', 'Elemento 887', 'Elemento 888', 'Elemento 889', 'Elemento 890', 'Elemento 891', 'Elemento 892', 'Elemento 893', 'Elemento 894', 'Elemento 895', 'Elemento 896', 'Elemento 897', 'Elemento 898', 'Elemento 899', 'Elemento 900', 'Elemento 901', 'Elemento 902', 'Elemento 903', 'Elemento 904', 'Elemento 905', 'Elemento 906', 'Elemento 907', 'Elemento 908', 'Elemento 909', 'Elemento 910', 'Elemento 911', 'Elemento 912', 'Elemento 913', 'Elemento 914', 'Elemento 915', 'Elemento 916', 'Elemento 917', 'Elemento 918', 'Elemento 919', 'Elemento 920', 'Elemento 921', 'Elemento 922', 'Elemento 923', 'Elemento 924', 'Elemento 925', 'Elemento 926', 'Elemento 927', 'Elemento 928', 'Elemento 929', 'Elemento 930', 'Elemento 931', 'Elemento 932', 'Elemento 933', 'Elemento 934', 'Elemento 935', 'Elemento 936', 'Elemento 937', 'Elemento 938', 'Elemento 939', 'Elemento 940', 'Elemento 941', 'Elemento 942', 'Elemento 943', 'Elemento 944', 'Elemento 945', 'Elemento 946', 'Elemento 947', 'Elemento 948', 'Elemento 949', 'Elemento 950', 'Elemento 951', 'Elemento 952', 'Elemento 953', 'Elemento 954', 'Elemento 955', 'Elemento 956', 'Elemento 957', 'Elemento 958', 'Elemento 959', 'Elemento 960', 'Elemento 961', 'Elemento 962', 'Elemento 963', 'Elemento 964', 'Elemento 965', 'Elemento 966', 'Elemento 967', 'Elemento 968', 'Elemento 969', 'Elemento 970', 'Elemento 971', 'Elemento 972', 'Elemento 973', 'Elemento 974', 'Elemento 975', 'Elemento 976', 'Elemento 977', 'Elemento 978', 'Elemento 979', 'Elemento 980', 'Elemento 981', 'Elemento 982', 'Elemento 983', 'Elemento 984', 'Elemento 985', 'Elemento 986', 'Elemento 987', 'Elemento 988', 'Elemento 989', 'Elemento 990', 'Elemento 991', 'Elemento 992', 'Elemento 993', 'Elemento 994', 'Elemento 995', 'Elemento 996', 'Elemento 997', 'Elemento 998', 'Elemento 999']\n",
     "output_type": "stream"
    }
   ]
  },
  {
   "cell_type": "code",
   "metadata": {
    "source_hash": null,
    "execution_start": 1693441867902,
    "execution_millis": 21,
    "deepnote_to_be_reexecuted": false,
    "cell_id": "2ab7ba2ab0e04cf4905473e450f0c5c5",
    "deepnote_cell_type": "code"
   },
   "source": [
    "wind = True\n",
    "print(3 != 3)"
   ],
   "block_group": "2ab7ba2ab0e04cf4905473e450f0c5c5",
   "execution_count": null,
   "outputs": [
    {
     "name": "stdout",
     "text": "False\n",
     "output_type": "stream"
    }
   ]
  },
  {
   "cell_type": "code",
   "metadata": {
    "source_hash": null,
    "execution_start": 1693442195994,
    "execution_millis": 14,
    "deepnote_to_be_reexecuted": false,
    "cell_id": "abc4c319c5674769b949b85960ff052d",
    "deepnote_cell_type": "code"
   },
   "source": [
    "grid = [[1, 2, 3, 4],\n",
    "        [5, 6, 7, 8],\n",
    "        [1, 2, 3, 4]]\n",
    "\n"
   ],
   "block_group": "abc4c319c5674769b949b85960ff052d",
   "execution_count": null,
   "outputs": [
    {
     "name": "stdout",
     "text": "[[1, 2, 3, 4], [5, 6, 7, 8]]\n",
     "output_type": "stream"
    }
   ]
  },
  {
   "cell_type": "code",
   "metadata": {
    "source_hash": null,
    "execution_start": 1693442371731,
    "execution_millis": 26,
    "deepnote_to_be_reexecuted": false,
    "cell_id": "d0de45a20c474ba8a20e1c53a42ce97e",
    "deepnote_cell_type": "code"
   },
   "source": [
    "my_dict = {\n",
    "    \"hamburguesa\": 55,\n",
    "    \"pollo\": 27,\n",
    "    \"lblab\": 12,\n",
    "    \"dasda\": 12312,\n",
    "}\n",
    "\n",
    "my_dict.keys()\n",
    "my_dict.values()\n",
    "my_dict.items()"
   ],
   "block_group": "d0de45a20c474ba8a20e1c53a42ce97e",
   "execution_count": null,
   "outputs": [
    {
     "output_type": "execute_result",
     "execution_count": 36,
     "data": {
      "text/plain": "dict_items([('hamburguesa', 55), ('pollo', 27), ('lblab', 12), ('dasda', 12312)])"
     },
     "metadata": {}
    }
   ]
  },
  {
   "cell_type": "code",
   "metadata": {
    "source_hash": null,
    "execution_start": 1693442510794,
    "execution_millis": 16,
    "deepnote_to_be_reexecuted": false,
    "cell_id": "c086cf8ede864f2cbd783fe58a3d87cb",
    "deepnote_cell_type": "code"
   },
   "source": [
    "for key in my_dict.keys():\n",
    "    print(key, \": \", my_dict[key])"
   ],
   "block_group": "c086cf8ede864f2cbd783fe58a3d87cb",
   "execution_count": null,
   "outputs": [
    {
     "name": "stdout",
     "text": "hamburguesa :  55\npollo :  27\nlblab :  12\ndasda :  12312\n",
     "output_type": "stream"
    }
   ]
  },
  {
   "cell_type": "code",
   "metadata": {
    "source_hash": null,
    "execution_start": 1693442829821,
    "execution_millis": 19,
    "deepnote_to_be_reexecuted": false,
    "cell_id": "ae356d72f252496eb9862f7f8634d16a",
    "deepnote_cell_type": "code"
   },
   "source": [
    "my_name = \"Jose Jesus Cabrera\"\n",
    "my_list = list(my_name)\n",
    "my_set = set(my_name)\n",
    "print(len(my_list))\n",
    "print(len(my_set))\n",
    "\n",
    "list(range(20))"
   ],
   "block_group": "ae356d72f252496eb9862f7f8634d16a",
   "execution_count": null,
   "outputs": [
    {
     "name": "stdout",
     "text": "18\n10\n",
     "output_type": "stream"
    },
    {
     "output_type": "execute_result",
     "execution_count": 45,
     "data": {
      "text/plain": "[0, 1, 2, 3, 4, 5, 6, 7, 8, 9, 10, 11, 12, 13, 14, 15, 16, 17, 18, 19]"
     },
     "metadata": {}
    }
   ]
  },
  {
   "cell_type": "code",
   "metadata": {
    "source_hash": null,
    "execution_start": 1693442930623,
    "execution_millis": 15,
    "deepnote_to_be_reexecuted": false,
    "cell_id": "a4f20102e1da4a2697ceb92853c029b9",
    "deepnote_cell_type": "code"
   },
   "source": [
    "my_name"
   ],
   "block_group": "a4f20102e1da4a2697ceb92853c029b9",
   "execution_count": null,
   "outputs": [
    {
     "output_type": "execute_result",
     "execution_count": 46,
     "data": {
      "text/plain": "'Jose Jesus Cabrera'"
     },
     "metadata": {}
    }
   ]
  },
  {
   "cell_type": "code",
   "metadata": {
    "source_hash": null,
    "execution_start": 1693442938079,
    "execution_millis": 24,
    "deepnote_to_be_reexecuted": false,
    "cell_id": "ee415e00cb1446bfa9a271bde94db2b2",
    "deepnote_cell_type": "code"
   },
   "source": [
    "my_name[::-1]"
   ],
   "block_group": "ee415e00cb1446bfa9a271bde94db2b2",
   "execution_count": null,
   "outputs": [
    {
     "output_type": "execute_result",
     "execution_count": 47,
     "data": {
      "text/plain": "'arerbaC suseJ esoJ'"
     },
     "metadata": {}
    }
   ]
  },
  {
   "cell_type": "code",
   "metadata": {
    "source_hash": null,
    "execution_start": 1693442986658,
    "execution_millis": 10,
    "deepnote_to_be_reexecuted": false,
    "cell_id": "7309d0c2dace4747a9f3987df51650e7",
    "deepnote_cell_type": "code"
   },
   "source": [
    "my_name"
   ],
   "block_group": "7309d0c2dace4747a9f3987df51650e7",
   "execution_count": null,
   "outputs": [
    {
     "output_type": "execute_result",
     "execution_count": 48,
     "data": {
      "text/plain": "'Jose Jesus Cabrera'"
     },
     "metadata": {}
    }
   ]
  },
  {
   "cell_type": "code",
   "metadata": {
    "source_hash": null,
    "execution_start": 1693443080650,
    "execution_millis": 15,
    "deepnote_to_be_reexecuted": false,
    "cell_id": "8a90ea48a3804c6f87d40de41d0245bb",
    "deepnote_cell_type": "code"
   },
   "source": [
    "names = my_name.split(\" \")\n",
    "print(names)"
   ],
   "block_group": "8a90ea48a3804c6f87d40de41d0245bb",
   "execution_count": null,
   "outputs": [
    {
     "name": "stdout",
     "text": "['Jose', 'Jesus', 'Cabrera']\n",
     "output_type": "stream"
    }
   ]
  },
  {
   "cell_type": "code",
   "metadata": {
    "source_hash": null,
    "execution_start": 1693443227020,
    "execution_millis": 13,
    "deepnote_to_be_reexecuted": false,
    "cell_id": "82c35a54885147e48a4768752ba31b5e",
    "deepnote_cell_type": "code"
   },
   "source": [
    "new_string = \"Hola- Como- Va- Todo- Bien Si que si\"\n",
    "new_list = new_string.split(\"-\")\n",
    "print(new_list)"
   ],
   "block_group": "82c35a54885147e48a4768752ba31b5e",
   "execution_count": null,
   "outputs": [
    {
     "name": "stdout",
     "text": "['Hola', ' Como', ' Va', ' Todo', ' Bien Si que si']\n",
     "output_type": "stream"
    }
   ]
  },
  {
   "cell_type": "code",
   "metadata": {
    "source_hash": null,
    "execution_start": 1693443371767,
    "execution_millis": 2283,
    "deepnote_to_be_reexecuted": false,
    "cell_id": "6b794c85828d4350a82e4a8fa3a7cdf6",
    "deepnote_cell_type": "code"
   },
   "source": [
    "greetings = input(\"Say hello: \")\n",
    "if greetings.capitalize() == \"Hola\":\n",
    "    print(\"Hola :D\")\n",
    "else:\n",
    "    print(\"No entiendo\")\n",
    "\n"
   ],
   "block_group": "6b794c85828d4350a82e4a8fa3a7cdf6",
   "execution_count": null,
   "outputs": [
    {
     "name": "stdout",
     "text": "No entiendo\n",
     "output_type": "stream"
    }
   ]
  },
  {
   "cell_type": "code",
   "metadata": {
    "source_hash": null,
    "execution_start": 1693443344284,
    "execution_millis": 29,
    "deepnote_to_be_reexecuted": false,
    "cell_id": "a8da31badc4f4884b874bffe5133eca0",
    "deepnote_cell_type": "code"
   },
   "source": [
    "print(new_string)\n",
    "print(new_string.upper())"
   ],
   "block_group": "a8da31badc4f4884b874bffe5133eca0",
   "execution_count": null,
   "outputs": [
    {
     "name": "stdout",
     "text": "Hola- Como- Va- Todo- Bien Si que si\nHOLA- COMO- VA- TODO- BIEN SI QUE SI\n",
     "output_type": "stream"
    }
   ]
  },
  {
   "cell_type": "code",
   "metadata": {
    "source_hash": null,
    "execution_start": 1693443401016,
    "execution_millis": 17,
    "deepnote_to_be_reexecuted": false,
    "cell_id": "46ae566be03a47978f266454ff566421",
    "deepnote_cell_type": "code"
   },
   "source": [
    "new_string = \"Hola- Como- Va- Todo- Bien Si que si\"\n",
    "new_list = new_string.split(\"-\")\n",
    "print(new_list)"
   ],
   "block_group": "46ae566be03a47978f266454ff566421",
   "execution_count": null,
   "outputs": [
    {
     "name": "stdout",
     "text": "['Hola', ' Como', ' Va', ' Todo', ' Bien Si que si']\n",
     "output_type": "stream"
    }
   ]
  },
  {
   "cell_type": "code",
   "metadata": {
    "source_hash": null,
    "execution_start": 1693443412677,
    "execution_millis": 11,
    "deepnote_to_be_reexecuted": false,
    "cell_id": "259850a55c98443f8dd7214bcb60d8be",
    "deepnote_cell_type": "code"
   },
   "source": [
    "new_list"
   ],
   "block_group": "259850a55c98443f8dd7214bcb60d8be",
   "execution_count": null,
   "outputs": [
    {
     "output_type": "execute_result",
     "execution_count": 65,
     "data": {
      "text/plain": "['Hola', ' Como', ' Va', ' Todo', ' Bien Si que si']"
     },
     "metadata": {}
    }
   ]
  },
  {
   "cell_type": "code",
   "metadata": {
    "source_hash": null,
    "execution_start": 1693443483453,
    "execution_millis": 33,
    "deepnote_to_be_reexecuted": false,
    "cell_id": "7574a2c3e2b142c2998a2e20a89f6635",
    "deepnote_cell_type": "code"
   },
   "source": [
    "new_string = \"()\".join(new_list)\n",
    "print(new_string)"
   ],
   "block_group": "7574a2c3e2b142c2998a2e20a89f6635",
   "execution_count": null,
   "outputs": [
    {
     "name": "stdout",
     "text": "Hola() Como() Va() Todo() Bien Si que si\n",
     "output_type": "stream"
    }
   ]
  },
  {
   "cell_type": "code",
   "metadata": {
    "source_hash": null,
    "execution_start": 1693443892580,
    "execution_millis": 22,
    "deepnote_to_be_reexecuted": false,
    "cell_id": "39bb336f07e343b39c90fbe290574567",
    "deepnote_cell_type": "code"
   },
   "source": [
    "name = \"Jose\"\n",
    "year = 2023\n",
    "mes = 8\n",
    "\n",
    "# Hoola Jose es el anho 2023 del mes 8\n",
    "print(\"Hola \" + name + \" es el anho \" + str(year) + \" del mes \" + str(mes))\n",
    "\n",
    "# F-string\n",
    "print(f\"Hola {name} es el anho {year} del mes {mes}\")"
   ],
   "block_group": "39bb336f07e343b39c90fbe290574567",
   "execution_count": null,
   "outputs": [
    {
     "name": "stdout",
     "text": "Hola Jose es el anho 2023 del mes 8\nHola Jose es el anho 2023 del mes 8\n",
     "output_type": "stream"
    }
   ]
  },
  {
   "cell_type": "code",
   "metadata": {
    "source_hash": null,
    "execution_start": 1693444108943,
    "execution_millis": 406,
    "deepnote_to_be_reexecuted": false,
    "cell_id": "7aac8fc4cfda400e9dcb0b2f9c2e2a65",
    "deepnote_cell_type": "code"
   },
   "source": [
    "import random"
   ],
   "block_group": "7aac8fc4cfda400e9dcb0b2f9c2e2a65",
   "execution_count": null,
   "outputs": []
  },
  {
   "cell_type": "code",
   "metadata": {
    "source_hash": null,
    "execution_start": 1693444367946,
    "execution_millis": 3002,
    "deepnote_to_be_reexecuted": false,
    "cell_id": "06cba704f6374bd6a954dddd948754fe",
    "deepnote_cell_type": "code"
   },
   "source": [
    "answers = [\"Todo bien\", \"Ahi vamos\", \"Maso\", \"No lo se\", \"Excelente\"]\n",
    "response = input(\"Saluda: \")\n",
    "\n",
    "random_answer = random.choice(answers)\n",
    "\n",
    "if response == \"hola\":\n",
    "    print(random_answer)\n",
    "else:\n",
    "    print(\"No se entiende\")"
   ],
   "block_group": "06cba704f6374bd6a954dddd948754fe",
   "execution_count": null,
   "outputs": [
    {
     "name": "stdout",
     "text": "Todo bien\n",
     "output_type": "stream"
    }
   ]
  },
  {
   "cell_type": "code",
   "metadata": {
    "source_hash": null,
    "execution_start": 1693444364913,
    "execution_millis": 13,
    "deepnote_to_be_reexecuted": false,
    "cell_id": "9c87bc781de249078acae182f09153bb",
    "deepnote_cell_type": "code"
   },
   "source": [],
   "block_group": "9c87bc781de249078acae182f09153bb",
   "execution_count": null,
   "outputs": []
  },
  {
   "cell_type": "code",
   "metadata": {
    "cell_id": "5c590fb8e8c440979a34c3146db7278f",
    "deepnote_cell_type": "code"
   },
   "source": [],
   "block_group": "5c590fb8e8c440979a34c3146db7278f",
   "execution_count": null,
   "outputs": []
  }
 ],
 "nbformat": 4,
 "nbformat_minor": 0,
 "metadata": {
  "deepnote": {},
  "orig_nbformat": 2,
  "deepnote_notebook_id": "71aa398572fc478ab793732071dca819",
  "deepnote_persisted_session": {
   "createdAt": "2023-08-31T01:31:43.744Z"
  },
  "deepnote_execution_queue": []
 }
}
